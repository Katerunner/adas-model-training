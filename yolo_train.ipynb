{
 "cells": [
  {
   "cell_type": "code",
   "execution_count": 1,
   "id": "e552e46a-20ac-4c24-87c4-f5fab739d678",
   "metadata": {},
   "outputs": [],
   "source": [
    "from ultralytics import YOLO\n",
    " \n",
    "# Load the model.\n",
    "model = YOLO('yolov8n')"
   ]
  },
  {
   "cell_type": "code",
   "execution_count": 2,
   "id": "217f9045-e4cc-4182-a6a5-513743dc0c91",
   "metadata": {},
   "outputs": [
    {
     "name": "stdout",
     "output_type": "stream",
     "text": [
      "New https://pypi.org/project/ultralytics/8.1.42 available 😃 Update with 'pip install -U ultralytics'\n",
      "Ultralytics YOLOv8.1.34 🚀 Python-3.11.8 torch-2.2.1 CUDA:0 (NVIDIA GeForce RTX 3080 Ti, 12287MiB)\n",
      "\u001b[34m\u001b[1mengine\\trainer: \u001b[0mtask=detect, mode=train, model=yolov8n.pt, data=cul_tld.yaml, epochs=200, time=None, patience=100, batch=16, imgsz=512, save=True, save_period=-1, cache=False, device=None, workers=8, project=None, name=cul_tld_512_yolov8n, exist_ok=False, pretrained=True, optimizer=auto, verbose=True, seed=0, deterministic=True, single_cls=False, rect=False, cos_lr=False, close_mosaic=10, resume=False, amp=True, fraction=1.0, profile=False, freeze=None, multi_scale=False, overlap_mask=True, mask_ratio=4, dropout=0.0, val=True, split=val, save_json=False, save_hybrid=False, conf=None, iou=0.7, max_det=300, half=False, dnn=False, plots=True, source=None, vid_stride=1, stream_buffer=False, visualize=False, augment=False, agnostic_nms=False, classes=None, retina_masks=False, embed=None, show=False, save_frames=False, save_txt=False, save_conf=False, save_crop=False, show_labels=True, show_conf=True, show_boxes=True, line_width=None, format=torchscript, keras=False, optimize=False, int8=False, dynamic=False, simplify=False, opset=None, workspace=4, nms=False, lr0=0.01, lrf=0.01, momentum=0.937, weight_decay=0.0005, warmup_epochs=3.0, warmup_momentum=0.8, warmup_bias_lr=0.1, box=7.5, cls=0.5, dfl=1.5, pose=12.0, kobj=1.0, label_smoothing=0.0, nbs=64, hsv_h=0.015, hsv_s=0.7, hsv_v=0.4, degrees=8.0, translate=0.1, scale=0.3, shear=0.0, perspective=0.0001, flipud=0.0, fliplr=0.0, bgr=0.0, mosaic=0.0, mixup=0.0, copy_paste=0.0, auto_augment=randaugment, erasing=0.4, crop_fraction=1.0, cfg=None, tracker=botsort.yaml, save_dir=runs\\detect\\cul_tld_512_yolov8n\n",
      "Overriding model.yaml nc=80 with nc=4\n",
      "\n",
      "                   from  n    params  module                                       arguments                     \n",
      "  0                  -1  1       464  ultralytics.nn.modules.conv.Conv             [3, 16, 3, 2]                 \n",
      "  1                  -1  1      4672  ultralytics.nn.modules.conv.Conv             [16, 32, 3, 2]                \n",
      "  2                  -1  1      7360  ultralytics.nn.modules.block.C2f             [32, 32, 1, True]             \n",
      "  3                  -1  1     18560  ultralytics.nn.modules.conv.Conv             [32, 64, 3, 2]                \n",
      "  4                  -1  2     49664  ultralytics.nn.modules.block.C2f             [64, 64, 2, True]             \n",
      "  5                  -1  1     73984  ultralytics.nn.modules.conv.Conv             [64, 128, 3, 2]               \n",
      "  6                  -1  2    197632  ultralytics.nn.modules.block.C2f             [128, 128, 2, True]           \n",
      "  7                  -1  1    295424  ultralytics.nn.modules.conv.Conv             [128, 256, 3, 2]              \n",
      "  8                  -1  1    460288  ultralytics.nn.modules.block.C2f             [256, 256, 1, True]           \n",
      "  9                  -1  1    164608  ultralytics.nn.modules.block.SPPF            [256, 256, 5]                 \n",
      " 10                  -1  1         0  torch.nn.modules.upsampling.Upsample         [None, 2, 'nearest']          \n",
      " 11             [-1, 6]  1         0  ultralytics.nn.modules.conv.Concat           [1]                           \n",
      " 12                  -1  1    148224  ultralytics.nn.modules.block.C2f             [384, 128, 1]                 \n",
      " 13                  -1  1         0  torch.nn.modules.upsampling.Upsample         [None, 2, 'nearest']          \n",
      " 14             [-1, 4]  1         0  ultralytics.nn.modules.conv.Concat           [1]                           \n",
      " 15                  -1  1     37248  ultralytics.nn.modules.block.C2f             [192, 64, 1]                  \n",
      " 16                  -1  1     36992  ultralytics.nn.modules.conv.Conv             [64, 64, 3, 2]                \n",
      " 17            [-1, 12]  1         0  ultralytics.nn.modules.conv.Concat           [1]                           \n",
      " 18                  -1  1    123648  ultralytics.nn.modules.block.C2f             [192, 128, 1]                 \n",
      " 19                  -1  1    147712  ultralytics.nn.modules.conv.Conv             [128, 128, 3, 2]              \n",
      " 20             [-1, 9]  1         0  ultralytics.nn.modules.conv.Concat           [1]                           \n",
      " 21                  -1  1    493056  ultralytics.nn.modules.block.C2f             [384, 256, 1]                 \n",
      " 22        [15, 18, 21]  1    752092  ultralytics.nn.modules.head.Detect           [4, [64, 128, 256]]           \n",
      "Model summary: 225 layers, 3011628 parameters, 3011612 gradients, 8.2 GFLOPs\n",
      "\n",
      "Transferred 319/355 items from pretrained weights\n"
     ]
    },
    {
     "name": "stderr",
     "output_type": "stream",
     "text": [
      "\u001b[34m\u001b[1mwandb\u001b[0m: Currently logged in as: \u001b[33mateliuk\u001b[0m. Use \u001b[1m`wandb login --relogin`\u001b[0m to force relogin\n"
     ]
    },
    {
     "data": {
      "text/html": [
       "wandb version 0.16.6 is available!  To upgrade, please run:\n",
       " $ pip install wandb --upgrade"
      ],
      "text/plain": [
       "<IPython.core.display.HTML object>"
      ]
     },
     "metadata": {},
     "output_type": "display_data"
    },
    {
     "data": {
      "text/html": [
       "Tracking run with wandb version 0.16.4"
      ],
      "text/plain": [
       "<IPython.core.display.HTML object>"
      ]
     },
     "metadata": {},
     "output_type": "display_data"
    },
    {
     "data": {
      "text/html": [
       "Run data is saved locally in <code>E:\\traffic-sign-detection\\wandb\\run-20240404_131052-r1gkpqoe</code>"
      ],
      "text/plain": [
       "<IPython.core.display.HTML object>"
      ]
     },
     "metadata": {},
     "output_type": "display_data"
    },
    {
     "data": {
      "text/html": [
       "Syncing run <strong><a href='https://wandb.ai/ateliuk/YOLOv8/runs/r1gkpqoe' target=\"_blank\">cul_tld_512_yolov8n</a></strong> to <a href='https://wandb.ai/ateliuk/YOLOv8' target=\"_blank\">Weights & Biases</a> (<a href='https://wandb.me/run' target=\"_blank\">docs</a>)<br/>"
      ],
      "text/plain": [
       "<IPython.core.display.HTML object>"
      ]
     },
     "metadata": {},
     "output_type": "display_data"
    },
    {
     "data": {
      "text/html": [
       " View project at <a href='https://wandb.ai/ateliuk/YOLOv8' target=\"_blank\">https://wandb.ai/ateliuk/YOLOv8</a>"
      ],
      "text/plain": [
       "<IPython.core.display.HTML object>"
      ]
     },
     "metadata": {},
     "output_type": "display_data"
    },
    {
     "data": {
      "text/html": [
       " View run at <a href='https://wandb.ai/ateliuk/YOLOv8/runs/r1gkpqoe' target=\"_blank\">https://wandb.ai/ateliuk/YOLOv8/runs/r1gkpqoe</a>"
      ],
      "text/plain": [
       "<IPython.core.display.HTML object>"
      ]
     },
     "metadata": {},
     "output_type": "display_data"
    },
    {
     "name": "stdout",
     "output_type": "stream",
     "text": [
      "Freezing layer 'model.22.dfl.conv.weight'\n",
      "\u001b[34m\u001b[1mAMP: \u001b[0mrunning Automatic Mixed Precision (AMP) checks with YOLOv8n...\n",
      "\u001b[34m\u001b[1mAMP: \u001b[0mchecks passed ✅\n"
     ]
    },
    {
     "name": "stderr",
     "output_type": "stream",
     "text": [
      "\u001b[34m\u001b[1mtrain: \u001b[0mScanning E:\\traffic-sign-detection\\datasets\\cul\\train\\labels.cache... 12258 images, 1374 backgrounds, 0 corrupt: 100%|██████████| 12258/12258 [00:00<?, ?it/s]\u001b[0m"
     ]
    },
    {
     "name": "stdout",
     "output_type": "stream",
     "text": [
      "\u001b[34m\u001b[1mtrain: \u001b[0mWARNING ⚠️ E:\\traffic-sign-detection\\datasets\\cul\\train\\images\\00000_06042052_0525.png: 1 duplicate labels removed\n",
      "\u001b[34m\u001b[1mtrain: \u001b[0mWARNING ⚠️ E:\\traffic-sign-detection\\datasets\\cul\\train\\images\\00000_06050915_0597.png: 1 duplicate labels removed\n",
      "\u001b[34m\u001b[1mtrain: \u001b[0mWARNING ⚠️ E:\\traffic-sign-detection\\datasets\\cul\\train\\images\\00000_06051026_0616.png: 1 duplicate labels removed\n",
      "\u001b[34m\u001b[1mtrain: \u001b[0mWARNING ⚠️ E:\\traffic-sign-detection\\datasets\\cul\\train\\images\\00000_06051129_0637.png: 1 duplicate labels removed\n",
      "\u001b[34m\u001b[1mtrain: \u001b[0mWARNING ⚠️ E:\\traffic-sign-detection\\datasets\\cul\\train\\images\\00000_06051420_0694.png: 1 duplicate labels removed\n",
      "\u001b[34m\u001b[1mtrain: \u001b[0mWARNING ⚠️ E:\\traffic-sign-detection\\datasets\\cul\\train\\images\\00000_06051520_0714.png: 1 duplicate labels removed\n",
      "\u001b[34m\u001b[1mtrain: \u001b[0mWARNING ⚠️ E:\\traffic-sign-detection\\datasets\\cul\\train\\images\\00000_06060721_0781.png: 1 duplicate labels removed\n",
      "\u001b[34m\u001b[1mtrain: \u001b[0mWARNING ⚠️ E:\\traffic-sign-detection\\datasets\\cul\\train\\images\\00000_06061049_0850.png: 1 duplicate labels removed\n",
      "\u001b[34m\u001b[1mtrain: \u001b[0mWARNING ⚠️ E:\\traffic-sign-detection\\datasets\\cul\\train\\images\\00090_06051026_0616.png: 1 duplicate labels removed\n",
      "\u001b[34m\u001b[1mtrain: \u001b[0mWARNING ⚠️ E:\\traffic-sign-detection\\datasets\\cul\\train\\images\\00090_06051305_0669.png: 1 duplicate labels removed\n",
      "\u001b[34m\u001b[1mtrain: \u001b[0mWARNING ⚠️ E:\\traffic-sign-detection\\datasets\\cul\\train\\images\\00090_06051326_0676.png: 1 duplicate labels removed\n",
      "\u001b[34m\u001b[1mtrain: \u001b[0mWARNING ⚠️ E:\\traffic-sign-detection\\datasets\\cul\\train\\images\\00090_06051344_0682.png: 1 duplicate labels removed\n",
      "\u001b[34m\u001b[1mtrain: \u001b[0mWARNING ⚠️ E:\\traffic-sign-detection\\datasets\\cul\\train\\images\\00090_06051423_0695.png: 1 duplicate labels removed\n",
      "\u001b[34m\u001b[1mtrain: \u001b[0mWARNING ⚠️ E:\\traffic-sign-detection\\datasets\\cul\\train\\images\\00090_06051637_0738.png: 1 duplicate labels removed\n",
      "\u001b[34m\u001b[1mtrain: \u001b[0mWARNING ⚠️ E:\\traffic-sign-detection\\datasets\\cul\\train\\images\\00090_06051704_0747.png: 1 duplicate labels removed\n",
      "\u001b[34m\u001b[1mtrain: \u001b[0mWARNING ⚠️ E:\\traffic-sign-detection\\datasets\\cul\\train\\images\\00090_06051743_0760.png: 1 duplicate labels removed\n",
      "\u001b[34m\u001b[1mtrain: \u001b[0mWARNING ⚠️ E:\\traffic-sign-detection\\datasets\\cul\\train\\images\\00090_06060724_0782.png: 1 duplicate labels removed\n",
      "\u001b[34m\u001b[1mtrain: \u001b[0mWARNING ⚠️ E:\\traffic-sign-detection\\datasets\\cul\\train\\images\\00090_06060815_0799.png: 1 duplicate labels removed\n",
      "\u001b[34m\u001b[1mtrain: \u001b[0mWARNING ⚠️ E:\\traffic-sign-detection\\datasets\\cul\\train\\images\\00090_06060903_0815.png: 1 duplicate labels removed\n",
      "\u001b[34m\u001b[1mtrain: \u001b[0mWARNING ⚠️ E:\\traffic-sign-detection\\datasets\\cul\\train\\images\\00180_06050924_0600.png: 1 duplicate labels removed\n",
      "\u001b[34m\u001b[1mtrain: \u001b[0mWARNING ⚠️ E:\\traffic-sign-detection\\datasets\\cul\\train\\images\\00180_06050936_0604.png: 1 duplicate labels removed\n",
      "\u001b[34m\u001b[1mtrain: \u001b[0mWARNING ⚠️ E:\\traffic-sign-detection\\datasets\\cul\\train\\images\\00180_06050942_0606.png: 1 duplicate labels removed\n",
      "\u001b[34m\u001b[1mtrain: \u001b[0mWARNING ⚠️ E:\\traffic-sign-detection\\datasets\\cul\\train\\images\\00180_06051402_0688.png: 1 duplicate labels removed\n",
      "\u001b[34m\u001b[1mtrain: \u001b[0mWARNING ⚠️ E:\\traffic-sign-detection\\datasets\\cul\\train\\images\\00180_06060903_0815.png: 1 duplicate labels removed\n",
      "\u001b[34m\u001b[1mtrain: \u001b[0mWARNING ⚠️ E:\\traffic-sign-detection\\datasets\\cul\\train\\images\\00180_06061034_0845.png: 1 duplicate labels removed\n",
      "\u001b[34m\u001b[1mtrain: \u001b[0mWARNING ⚠️ E:\\traffic-sign-detection\\datasets\\cul\\train\\images\\00270_06042025_0516.png: 1 duplicate labels removed\n",
      "\u001b[34m\u001b[1mtrain: \u001b[0mWARNING ⚠️ E:\\traffic-sign-detection\\datasets\\cul\\train\\images\\00270_06050848_0588.png: 1 duplicate labels removed\n",
      "\u001b[34m\u001b[1mtrain: \u001b[0mWARNING ⚠️ E:\\traffic-sign-detection\\datasets\\cul\\train\\images\\00270_06050942_0606.png: 1 duplicate labels removed\n",
      "\u001b[34m\u001b[1mtrain: \u001b[0mWARNING ⚠️ E:\\traffic-sign-detection\\datasets\\cul\\train\\images\\00270_06051453_0705.png: 1 duplicate labels removed\n",
      "\u001b[34m\u001b[1mtrain: \u001b[0mWARNING ⚠️ E:\\traffic-sign-detection\\datasets\\cul\\train\\images\\00270_06051520_0714.png: 1 duplicate labels removed\n",
      "\u001b[34m\u001b[1mtrain: \u001b[0mWARNING ⚠️ E:\\traffic-sign-detection\\datasets\\cul\\train\\images\\00270_06051541_0721.png: 1 duplicate labels removed\n",
      "\u001b[34m\u001b[1mtrain: \u001b[0mWARNING ⚠️ E:\\traffic-sign-detection\\datasets\\cul\\train\\images\\00270_06051612_0730.png: 1 duplicate labels removed\n",
      "\u001b[34m\u001b[1mtrain: \u001b[0mWARNING ⚠️ E:\\traffic-sign-detection\\datasets\\cul\\train\\images\\00270_06051758_0765.png: 1 duplicate labels removed\n",
      "\u001b[34m\u001b[1mtrain: \u001b[0mWARNING ⚠️ E:\\traffic-sign-detection\\datasets\\cul\\train\\images\\00270_06060815_0799.png: 1 duplicate labels removed\n",
      "\u001b[34m\u001b[1mtrain: \u001b[0mWARNING ⚠️ E:\\traffic-sign-detection\\datasets\\cul\\train\\images\\00270_06060842_0808.png: 1 duplicate labels removed\n",
      "\u001b[34m\u001b[1mtrain: \u001b[0mWARNING ⚠️ E:\\traffic-sign-detection\\datasets\\cul\\train\\images\\00270_06060937_0826.png: 1 duplicate labels removed\n",
      "\u001b[34m\u001b[1mtrain: \u001b[0mWARNING ⚠️ E:\\traffic-sign-detection\\datasets\\cul\\train\\images\\00270_06061028_0843.png: 1 duplicate labels removed\n",
      "\u001b[34m\u001b[1mtrain: \u001b[0mWARNING ⚠️ E:\\traffic-sign-detection\\datasets\\cul\\train\\images\\00360_06042058_0527.png: 1 duplicate labels removed\n",
      "\u001b[34m\u001b[1mtrain: \u001b[0mWARNING ⚠️ E:\\traffic-sign-detection\\datasets\\cul\\train\\images\\00360_06050606_0534.png: 1 duplicate labels removed\n",
      "\u001b[34m\u001b[1mtrain: \u001b[0mWARNING ⚠️ E:\\traffic-sign-detection\\datasets\\cul\\train\\images\\00360_06051059_0627.png: 1 duplicate labels removed\n",
      "\u001b[34m\u001b[1mtrain: \u001b[0mWARNING ⚠️ E:\\traffic-sign-detection\\datasets\\cul\\train\\images\\00360_06051520_0714.png: 1 duplicate labels removed\n",
      "\u001b[34m\u001b[1mtrain: \u001b[0mWARNING ⚠️ E:\\traffic-sign-detection\\datasets\\cul\\train\\images\\00360_06051606_0728.png: 1 duplicate labels removed\n",
      "\u001b[34m\u001b[1mtrain: \u001b[0mWARNING ⚠️ E:\\traffic-sign-detection\\datasets\\cul\\train\\images\\00360_06051655_0744.png: 1 duplicate labels removed\n",
      "\u001b[34m\u001b[1mtrain: \u001b[0mWARNING ⚠️ E:\\traffic-sign-detection\\datasets\\cul\\train\\images\\00360_06060800_0794.png: 1 duplicate labels removed\n",
      "\u001b[34m\u001b[1mtrain: \u001b[0mWARNING ⚠️ E:\\traffic-sign-detection\\datasets\\cul\\train\\images\\00360_06061010_0837.png: 1 duplicate labels removed\n",
      "\u001b[34m\u001b[1mtrain: \u001b[0mWARNING ⚠️ E:\\traffic-sign-detection\\datasets\\cul\\train\\images\\00360_06061028_0843.png: 1 duplicate labels removed\n",
      "\u001b[34m\u001b[1mtrain: \u001b[0mWARNING ⚠️ E:\\traffic-sign-detection\\datasets\\cul\\train\\images\\00450_06042052_0525.png: 1 duplicate labels removed\n",
      "\u001b[34m\u001b[1mtrain: \u001b[0mWARNING ⚠️ E:\\traffic-sign-detection\\datasets\\cul\\train\\images\\00450_06050612_0536.png: 1 duplicate labels removed\n",
      "\u001b[34m\u001b[1mtrain: \u001b[0mWARNING ⚠️ E:\\traffic-sign-detection\\datasets\\cul\\train\\images\\00450_06050912_0596.png: 1 duplicate labels removed\n",
      "\u001b[34m\u001b[1mtrain: \u001b[0mWARNING ⚠️ E:\\traffic-sign-detection\\datasets\\cul\\train\\images\\00450_06050918_0598.png: 1 duplicate labels removed\n",
      "\u001b[34m\u001b[1mtrain: \u001b[0mWARNING ⚠️ E:\\traffic-sign-detection\\datasets\\cul\\train\\images\\00450_06051056_0626.png: 1 duplicate labels removed\n",
      "\u001b[34m\u001b[1mtrain: \u001b[0mWARNING ⚠️ E:\\traffic-sign-detection\\datasets\\cul\\train\\images\\00450_06051314_0672.png: 1 duplicate labels removed\n",
      "\u001b[34m\u001b[1mtrain: \u001b[0mWARNING ⚠️ E:\\traffic-sign-detection\\datasets\\cul\\train\\images\\00450_06051450_0704.png: 1 duplicate labels removed\n",
      "\u001b[34m\u001b[1mtrain: \u001b[0mWARNING ⚠️ E:\\traffic-sign-detection\\datasets\\cul\\train\\images\\00450_06051646_0741.png: 1 duplicate labels removed\n",
      "\u001b[34m\u001b[1mtrain: \u001b[0mWARNING ⚠️ E:\\traffic-sign-detection\\datasets\\cul\\train\\images\\00450_06051655_0744.png: 1 duplicate labels removed\n",
      "\u001b[34m\u001b[1mtrain: \u001b[0mWARNING ⚠️ E:\\traffic-sign-detection\\datasets\\cul\\train\\images\\00450_06051814_0766.png: 1 duplicate labels removed\n",
      "\u001b[34m\u001b[1mtrain: \u001b[0mWARNING ⚠️ E:\\traffic-sign-detection\\datasets\\cul\\train\\images\\00450_06060800_0794.png: 1 duplicate labels removed\n",
      "\u001b[34m\u001b[1mtrain: \u001b[0mWARNING ⚠️ E:\\traffic-sign-detection\\datasets\\cul\\train\\images\\00540_06042016_0513.png: 1 duplicate labels removed\n",
      "\u001b[34m\u001b[1mtrain: \u001b[0mWARNING ⚠️ E:\\traffic-sign-detection\\datasets\\cul\\train\\images\\00540_06042046_0523.png: 1 duplicate labels removed\n",
      "\u001b[34m\u001b[1mtrain: \u001b[0mWARNING ⚠️ E:\\traffic-sign-detection\\datasets\\cul\\train\\images\\00540_06050912_0596.png: 1 duplicate labels removed\n",
      "\u001b[34m\u001b[1mtrain: \u001b[0mWARNING ⚠️ E:\\traffic-sign-detection\\datasets\\cul\\train\\images\\00540_06051120_0634.png: 1 duplicate labels removed\n",
      "\u001b[34m\u001b[1mtrain: \u001b[0mWARNING ⚠️ E:\\traffic-sign-detection\\datasets\\cul\\train\\images\\00540_06051320_0674.png: 1 duplicate labels removed\n",
      "\u001b[34m\u001b[1mtrain: \u001b[0mWARNING ⚠️ E:\\traffic-sign-detection\\datasets\\cul\\train\\images\\00540_06051541_0721.png: 1 duplicate labels removed\n",
      "\u001b[34m\u001b[1mtrain: \u001b[0mWARNING ⚠️ E:\\traffic-sign-detection\\datasets\\cul\\train\\images\\00540_06051646_0741.png: 1 duplicate labels removed\n",
      "\u001b[34m\u001b[1mtrain: \u001b[0mWARNING ⚠️ E:\\traffic-sign-detection\\datasets\\cul\\train\\images\\00540_06051655_0744.png: 1 duplicate labels removed\n",
      "\u001b[34m\u001b[1mtrain: \u001b[0mWARNING ⚠️ E:\\traffic-sign-detection\\datasets\\cul\\train\\images\\00540_06051814_0766.png: 1 duplicate labels removed\n",
      "\u001b[34m\u001b[1mtrain: \u001b[0mWARNING ⚠️ E:\\traffic-sign-detection\\datasets\\cul\\train\\images\\00540_06060800_0794.png: 1 duplicate labels removed\n",
      "\u001b[34m\u001b[1mtrain: \u001b[0mWARNING ⚠️ E:\\traffic-sign-detection\\datasets\\cul\\train\\images\\00540_06061049_0850.png: 1 duplicate labels removed\n",
      "\u001b[34m\u001b[1mtrain: \u001b[0mWARNING ⚠️ E:\\traffic-sign-detection\\datasets\\cul\\train\\images\\00630_06042052_0525.png: 1 duplicate labels removed\n",
      "\u001b[34m\u001b[1mtrain: \u001b[0mWARNING ⚠️ E:\\traffic-sign-detection\\datasets\\cul\\train\\images\\00630_06051108_0630.png: 1 duplicate labels removed\n",
      "\u001b[34m\u001b[1mtrain: \u001b[0mWARNING ⚠️ E:\\traffic-sign-detection\\datasets\\cul\\train\\images\\00630_06051138_0640.png: 1 duplicate labels removed\n",
      "\u001b[34m\u001b[1mtrain: \u001b[0mWARNING ⚠️ E:\\traffic-sign-detection\\datasets\\cul\\train\\images\\00630_06051432_0698.png: 1 duplicate labels removed\n",
      "\u001b[34m\u001b[1mtrain: \u001b[0mWARNING ⚠️ E:\\traffic-sign-detection\\datasets\\cul\\train\\images\\00630_06051554_0724.png: 1 duplicate labels removed\n",
      "\u001b[34m\u001b[1mtrain: \u001b[0mWARNING ⚠️ E:\\traffic-sign-detection\\datasets\\cul\\train\\images\\00630_06060642_0768.png: 1 duplicate labels removed\n",
      "\u001b[34m\u001b[1mtrain: \u001b[0mWARNING ⚠️ E:\\traffic-sign-detection\\datasets\\cul\\train\\images\\00630_06060800_0794.png: 1 duplicate labels removed\n",
      "\u001b[34m\u001b[1mtrain: \u001b[0mWARNING ⚠️ E:\\traffic-sign-detection\\datasets\\cul\\train\\images\\00630_06061004_0835.png: 1 duplicate labels removed\n",
      "\u001b[34m\u001b[1mtrain: \u001b[0mWARNING ⚠️ E:\\traffic-sign-detection\\datasets\\cul\\train\\images\\00720_06050836_0584.png: 1 duplicate labels removed\n",
      "\u001b[34m\u001b[1mtrain: \u001b[0mWARNING ⚠️ E:\\traffic-sign-detection\\datasets\\cul\\train\\images\\00720_06051056_0626.png: 1 duplicate labels removed\n",
      "\u001b[34m\u001b[1mtrain: \u001b[0mWARNING ⚠️ E:\\traffic-sign-detection\\datasets\\cul\\train\\images\\00720_06051414_0692.png: 1 duplicate labels removed\n",
      "\u001b[34m\u001b[1mtrain: \u001b[0mWARNING ⚠️ E:\\traffic-sign-detection\\datasets\\cul\\train\\images\\00720_06051423_0695.png: 2 duplicate labels removed\n",
      "\u001b[34m\u001b[1mtrain: \u001b[0mWARNING ⚠️ E:\\traffic-sign-detection\\datasets\\cul\\train\\images\\00720_06051523_0715.png: 1 duplicate labels removed\n",
      "\u001b[34m\u001b[1mtrain: \u001b[0mWARNING ⚠️ E:\\traffic-sign-detection\\datasets\\cul\\train\\images\\00720_06051529_0717.png: 1 duplicate labels removed\n",
      "\u001b[34m\u001b[1mtrain: \u001b[0mWARNING ⚠️ E:\\traffic-sign-detection\\datasets\\cul\\train\\images\\00720_06060800_0794.png: 1 duplicate labels removed\n",
      "\u001b[34m\u001b[1mtrain: \u001b[0mWARNING ⚠️ E:\\traffic-sign-detection\\datasets\\cul\\train\\images\\00720_06060830_0804.png: 1 duplicate labels removed\n",
      "\u001b[34m\u001b[1mtrain: \u001b[0mWARNING ⚠️ E:\\traffic-sign-detection\\datasets\\cul\\train\\images\\00720_06060854_0812.png: 1 duplicate labels removed\n",
      "\u001b[34m\u001b[1mtrain: \u001b[0mWARNING ⚠️ E:\\traffic-sign-detection\\datasets\\cul\\train\\images\\00720_06060943_0828.png: 1 duplicate labels removed\n",
      "\u001b[34m\u001b[1mtrain: \u001b[0mWARNING ⚠️ E:\\traffic-sign-detection\\datasets\\cul\\train\\images\\00720_06061046_0849.png: 1 duplicate labels removed\n",
      "\u001b[34m\u001b[1mtrain: \u001b[0mWARNING ⚠️ E:\\traffic-sign-detection\\datasets\\cul\\train\\images\\00810_06042052_0525.png: 1 duplicate labels removed\n",
      "\u001b[34m\u001b[1mtrain: \u001b[0mWARNING ⚠️ E:\\traffic-sign-detection\\datasets\\cul\\train\\images\\00810_06050954_0610.png: 1 duplicate labels removed\n",
      "\u001b[34m\u001b[1mtrain: \u001b[0mWARNING ⚠️ E:\\traffic-sign-detection\\datasets\\cul\\train\\images\\00810_06051105_0629.png: 1 duplicate labels removed\n",
      "\u001b[34m\u001b[1mtrain: \u001b[0mWARNING ⚠️ E:\\traffic-sign-detection\\datasets\\cul\\train\\images\\00810_06051111_0631.png: 1 duplicate labels removed\n",
      "\u001b[34m\u001b[1mtrain: \u001b[0mWARNING ⚠️ E:\\traffic-sign-detection\\datasets\\cul\\train\\images\\00810_06051147_0643.png: 1 duplicate labels removed\n",
      "\u001b[34m\u001b[1mtrain: \u001b[0mWARNING ⚠️ E:\\traffic-sign-detection\\datasets\\cul\\train\\images\\00810_06051405_0689.png: 1 duplicate labels removed\n",
      "\u001b[34m\u001b[1mtrain: \u001b[0mWARNING ⚠️ E:\\traffic-sign-detection\\datasets\\cul\\train\\images\\00810_06051459_0707.png: 1 duplicate labels removed\n",
      "\u001b[34m\u001b[1mtrain: \u001b[0mWARNING ⚠️ E:\\traffic-sign-detection\\datasets\\cul\\train\\images\\00810_06051603_0727.png: 1 duplicate labels removed\n",
      "\u001b[34m\u001b[1mtrain: \u001b[0mWARNING ⚠️ E:\\traffic-sign-detection\\datasets\\cul\\train\\images\\00810_06051637_0738.png: 1 duplicate labels removed\n",
      "\u001b[34m\u001b[1mtrain: \u001b[0mWARNING ⚠️ E:\\traffic-sign-detection\\datasets\\cul\\train\\images\\00810_06051649_0742.png: 1 duplicate labels removed\n",
      "\u001b[34m\u001b[1mtrain: \u001b[0mWARNING ⚠️ E:\\traffic-sign-detection\\datasets\\cul\\train\\images\\00810_06051731_0756.png: 1 duplicate labels removed\n",
      "\u001b[34m\u001b[1mtrain: \u001b[0mWARNING ⚠️ E:\\traffic-sign-detection\\datasets\\cul\\train\\images\\00810_06051737_0758.png: 1 duplicate labels removed\n",
      "\u001b[34m\u001b[1mtrain: \u001b[0mWARNING ⚠️ E:\\traffic-sign-detection\\datasets\\cul\\train\\images\\00810_06060800_0794.png: 1 duplicate labels removed\n",
      "\u001b[34m\u001b[1mtrain: \u001b[0mWARNING ⚠️ E:\\traffic-sign-detection\\datasets\\cul\\train\\images\\00810_06060818_0800.png: 1 duplicate labels removed\n",
      "\u001b[34m\u001b[1mtrain: \u001b[0mWARNING ⚠️ E:\\traffic-sign-detection\\datasets\\cul\\train\\images\\00810_06060854_0812.png: 1 duplicate labels removed\n",
      "\u001b[34m\u001b[1mtrain: \u001b[0mWARNING ⚠️ E:\\traffic-sign-detection\\datasets\\cul\\train\\images\\00900_06051147_0643.png: 1 duplicate labels removed\n",
      "\u001b[34m\u001b[1mtrain: \u001b[0mWARNING ⚠️ E:\\traffic-sign-detection\\datasets\\cul\\train\\images\\00900_06051320_0674.png: 1 duplicate labels removed\n",
      "\u001b[34m\u001b[1mtrain: \u001b[0mWARNING ⚠️ E:\\traffic-sign-detection\\datasets\\cul\\train\\images\\00900_06051326_0676.png: 1 duplicate labels removed\n",
      "\u001b[34m\u001b[1mtrain: \u001b[0mWARNING ⚠️ E:\\traffic-sign-detection\\datasets\\cul\\train\\images\\00900_06051408_0690.png: 1 duplicate labels removed\n",
      "\u001b[34m\u001b[1mtrain: \u001b[0mWARNING ⚠️ E:\\traffic-sign-detection\\datasets\\cul\\train\\images\\00900_06051637_0738.png: 1 duplicate labels removed\n",
      "\u001b[34m\u001b[1mtrain: \u001b[0mWARNING ⚠️ E:\\traffic-sign-detection\\datasets\\cul\\train\\images\\00900_06051725_0754.png: 1 duplicate labels removed\n",
      "\u001b[34m\u001b[1mtrain: \u001b[0mWARNING ⚠️ E:\\traffic-sign-detection\\datasets\\cul\\train\\images\\00900_06060733_0785.png: 1 duplicate labels removed\n",
      "\u001b[34m\u001b[1mtrain: \u001b[0mWARNING ⚠️ E:\\traffic-sign-detection\\datasets\\cul\\train\\images\\00900_06060748_0790.png: 1 duplicate labels removed\n",
      "\u001b[34m\u001b[1mtrain: \u001b[0mWARNING ⚠️ E:\\traffic-sign-detection\\datasets\\cul\\train\\images\\00900_06060854_0812.png: 1 duplicate labels removed\n",
      "\u001b[34m\u001b[1mtrain: \u001b[0mWARNING ⚠️ E:\\traffic-sign-detection\\datasets\\cul\\train\\images\\00900_06061010_0837.png: 1 duplicate labels removed\n",
      "\u001b[34m\u001b[1mtrain: \u001b[0mWARNING ⚠️ E:\\traffic-sign-detection\\datasets\\cul\\train\\images\\00990_06042049_0524.png: 1 duplicate labels removed\n",
      "\u001b[34m\u001b[1mtrain: \u001b[0mWARNING ⚠️ E:\\traffic-sign-detection\\datasets\\cul\\train\\images\\00990_06051147_0643.png: 1 duplicate labels removed\n",
      "\u001b[34m\u001b[1mtrain: \u001b[0mWARNING ⚠️ E:\\traffic-sign-detection\\datasets\\cul\\train\\images\\00990_06051156_0646.png: 1 duplicate labels removed\n",
      "\u001b[34m\u001b[1mtrain: \u001b[0mWARNING ⚠️ E:\\traffic-sign-detection\\datasets\\cul\\train\\images\\00990_06051250_0664.png: 1 duplicate labels removed\n",
      "\u001b[34m\u001b[1mtrain: \u001b[0mWARNING ⚠️ E:\\traffic-sign-detection\\datasets\\cul\\train\\images\\00990_06051314_0672.png: 1 duplicate labels removed\n",
      "\u001b[34m\u001b[1mtrain: \u001b[0mWARNING ⚠️ E:\\traffic-sign-detection\\datasets\\cul\\train\\images\\00990_06051317_0673.png: 1 duplicate labels removed\n",
      "\u001b[34m\u001b[1mtrain: \u001b[0mWARNING ⚠️ E:\\traffic-sign-detection\\datasets\\cul\\train\\images\\00990_06051408_0690.png: 2 duplicate labels removed\n",
      "\u001b[34m\u001b[1mtrain: \u001b[0mWARNING ⚠️ E:\\traffic-sign-detection\\datasets\\cul\\train\\images\\00990_06051544_0722.png: 1 duplicate labels removed\n",
      "\u001b[34m\u001b[1mtrain: \u001b[0mWARNING ⚠️ E:\\traffic-sign-detection\\datasets\\cul\\train\\images\\00990_06051600_0726.png: 2 duplicate labels removed\n",
      "\u001b[34m\u001b[1mtrain: \u001b[0mWARNING ⚠️ E:\\traffic-sign-detection\\datasets\\cul\\train\\images\\00990_06051722_0753.png: 1 duplicate labels removed\n",
      "\u001b[34m\u001b[1mtrain: \u001b[0mWARNING ⚠️ E:\\traffic-sign-detection\\datasets\\cul\\train\\images\\00990_06060645_0769.png: 1 duplicate labels removed\n",
      "\u001b[34m\u001b[1mtrain: \u001b[0mWARNING ⚠️ E:\\traffic-sign-detection\\datasets\\cul\\train\\images\\00990_06060718_0780.png: 1 duplicate labels removed\n",
      "\u001b[34m\u001b[1mtrain: \u001b[0mWARNING ⚠️ E:\\traffic-sign-detection\\datasets\\cul\\train\\images\\00990_06060800_0794.png: 1 duplicate labels removed\n",
      "\u001b[34m\u001b[1mtrain: \u001b[0mWARNING ⚠️ E:\\traffic-sign-detection\\datasets\\cul\\train\\images\\00990_06060928_0823.png: 1 duplicate labels removed\n",
      "\u001b[34m\u001b[1mtrain: \u001b[0mWARNING ⚠️ E:\\traffic-sign-detection\\datasets\\cul\\train\\images\\00990_06060937_0826.png: 1 duplicate labels removed\n",
      "\u001b[34m\u001b[1mtrain: \u001b[0mWARNING ⚠️ E:\\traffic-sign-detection\\datasets\\cul\\train\\images\\00990_06061052_0851.png: 1 duplicate labels removed\n",
      "\u001b[34m\u001b[1mtrain: \u001b[0mWARNING ⚠️ E:\\traffic-sign-detection\\datasets\\cul\\train\\images\\01080_06050612_0536.png: 1 duplicate labels removed\n",
      "\u001b[34m\u001b[1mtrain: \u001b[0mWARNING ⚠️ E:\\traffic-sign-detection\\datasets\\cul\\train\\images\\01080_06050906_0594.png: 1 duplicate labels removed\n",
      "\u001b[34m\u001b[1mtrain: \u001b[0mWARNING ⚠️ E:\\traffic-sign-detection\\datasets\\cul\\train\\images\\01080_06050912_0596.png: 1 duplicate labels removed\n",
      "\u001b[34m\u001b[1mtrain: \u001b[0mWARNING ⚠️ E:\\traffic-sign-detection\\datasets\\cul\\train\\images\\01080_06050939_0605.png: 1 duplicate labels removed\n",
      "\u001b[34m\u001b[1mtrain: \u001b[0mWARNING ⚠️ E:\\traffic-sign-detection\\datasets\\cul\\train\\images\\01080_06051147_0643.png: 1 duplicate labels removed\n",
      "\u001b[34m\u001b[1mtrain: \u001b[0mWARNING ⚠️ E:\\traffic-sign-detection\\datasets\\cul\\train\\images\\01080_06051150_0644.png: 1 duplicate labels removed\n",
      "\u001b[34m\u001b[1mtrain: \u001b[0mWARNING ⚠️ E:\\traffic-sign-detection\\datasets\\cul\\train\\images\\01080_06051205_0649.png: 1 duplicate labels removed\n",
      "\u001b[34m\u001b[1mtrain: \u001b[0mWARNING ⚠️ E:\\traffic-sign-detection\\datasets\\cul\\train\\images\\01080_06051329_0677.png: 1 duplicate labels removed\n",
      "\u001b[34m\u001b[1mtrain: \u001b[0mWARNING ⚠️ E:\\traffic-sign-detection\\datasets\\cul\\train\\images\\01080_06051341_0681.png: 1 duplicate labels removed\n",
      "\u001b[34m\u001b[1mtrain: \u001b[0mWARNING ⚠️ E:\\traffic-sign-detection\\datasets\\cul\\train\\images\\01080_06051356_0686.png: 1 duplicate labels removed\n",
      "\u001b[34m\u001b[1mtrain: \u001b[0mWARNING ⚠️ E:\\traffic-sign-detection\\datasets\\cul\\train\\images\\01080_06051411_0691.png: 2 duplicate labels removed\n",
      "\u001b[34m\u001b[1mtrain: \u001b[0mWARNING ⚠️ E:\\traffic-sign-detection\\datasets\\cul\\train\\images\\01080_06051438_0700.png: 1 duplicate labels removed\n",
      "\u001b[34m\u001b[1mtrain: \u001b[0mWARNING ⚠️ E:\\traffic-sign-detection\\datasets\\cul\\train\\images\\01080_06051459_0707.png: 1 duplicate labels removed\n",
      "\u001b[34m\u001b[1mtrain: \u001b[0mWARNING ⚠️ E:\\traffic-sign-detection\\datasets\\cul\\train\\images\\01080_06051814_0766.png: 1 duplicate labels removed\n",
      "\u001b[34m\u001b[1mtrain: \u001b[0mWARNING ⚠️ E:\\traffic-sign-detection\\datasets\\cul\\train\\images\\01080_06060821_0801.png: 1 duplicate labels removed\n",
      "\u001b[34m\u001b[1mtrain: \u001b[0mWARNING ⚠️ E:\\traffic-sign-detection\\datasets\\cul\\train\\images\\01080_06060854_0812.png: 1 duplicate labels removed\n",
      "\u001b[34m\u001b[1mtrain: \u001b[0mWARNING ⚠️ E:\\traffic-sign-detection\\datasets\\cul\\train\\images\\01080_06060922_0821.png: 1 duplicate labels removed\n",
      "\u001b[34m\u001b[1mtrain: \u001b[0mWARNING ⚠️ E:\\traffic-sign-detection\\datasets\\cul\\train\\images\\01080_06060958_0833.png: 1 duplicate labels removed\n",
      "\u001b[34m\u001b[1mtrain: \u001b[0mWARNING ⚠️ E:\\traffic-sign-detection\\datasets\\cul\\train\\images\\01080_06061046_0849.png: 1 duplicate labels removed\n",
      "\u001b[34m\u001b[1mtrain: \u001b[0mWARNING ⚠️ E:\\traffic-sign-detection\\datasets\\cul\\train\\images\\01170_06042052_0525.png: 1 duplicate labels removed\n",
      "\u001b[34m\u001b[1mtrain: \u001b[0mWARNING ⚠️ E:\\traffic-sign-detection\\datasets\\cul\\train\\images\\01170_06050836_0584.png: 1 duplicate labels removed\n",
      "\u001b[34m\u001b[1mtrain: \u001b[0mWARNING ⚠️ E:\\traffic-sign-detection\\datasets\\cul\\train\\images\\01170_06050845_0587.png: 1 duplicate labels removed\n",
      "\u001b[34m\u001b[1mtrain: \u001b[0mWARNING ⚠️ E:\\traffic-sign-detection\\datasets\\cul\\train\\images\\01170_06050912_0596.png: 1 duplicate labels removed\n",
      "\u001b[34m\u001b[1mtrain: \u001b[0mWARNING ⚠️ E:\\traffic-sign-detection\\datasets\\cul\\train\\images\\01170_06050921_0599.png: 1 duplicate labels removed\n",
      "\u001b[34m\u001b[1mtrain: \u001b[0mWARNING ⚠️ E:\\traffic-sign-detection\\datasets\\cul\\train\\images\\01170_06050927_0601.png: 1 duplicate labels removed\n",
      "\u001b[34m\u001b[1mtrain: \u001b[0mWARNING ⚠️ E:\\traffic-sign-detection\\datasets\\cul\\train\\images\\01170_06050933_0603.png: 1 duplicate labels removed\n",
      "\u001b[34m\u001b[1mtrain: \u001b[0mWARNING ⚠️ E:\\traffic-sign-detection\\datasets\\cul\\train\\images\\01170_06050954_0610.png: 1 duplicate labels removed\n",
      "\u001b[34m\u001b[1mtrain: \u001b[0mWARNING ⚠️ E:\\traffic-sign-detection\\datasets\\cul\\train\\images\\01170_06051111_0631.png: 1 duplicate labels removed\n",
      "\u001b[34m\u001b[1mtrain: \u001b[0mWARNING ⚠️ E:\\traffic-sign-detection\\datasets\\cul\\train\\images\\01170_06051138_0640.png: 2 duplicate labels removed\n",
      "\u001b[34m\u001b[1mtrain: \u001b[0mWARNING ⚠️ E:\\traffic-sign-detection\\datasets\\cul\\train\\images\\01170_06051205_0649.png: 1 duplicate labels removed\n",
      "\u001b[34m\u001b[1mtrain: \u001b[0mWARNING ⚠️ E:\\traffic-sign-detection\\datasets\\cul\\train\\images\\01170_06051326_0676.png: 1 duplicate labels removed\n",
      "\u001b[34m\u001b[1mtrain: \u001b[0mWARNING ⚠️ E:\\traffic-sign-detection\\datasets\\cul\\train\\images\\01170_06051438_0700.png: 2 duplicate labels removed\n",
      "\u001b[34m\u001b[1mtrain: \u001b[0mWARNING ⚠️ E:\\traffic-sign-detection\\datasets\\cul\\train\\images\\01170_06060854_0812.png: 1 duplicate labels removed\n",
      "\u001b[34m\u001b[1mtrain: \u001b[0mWARNING ⚠️ E:\\traffic-sign-detection\\datasets\\cul\\train\\images\\01260_06042019_0514.png: 1 duplicate labels removed\n",
      "\u001b[34m\u001b[1mtrain: \u001b[0mWARNING ⚠️ E:\\traffic-sign-detection\\datasets\\cul\\train\\images\\01260_06050912_0596.png: 1 duplicate labels removed\n",
      "\u001b[34m\u001b[1mtrain: \u001b[0mWARNING ⚠️ E:\\traffic-sign-detection\\datasets\\cul\\train\\images\\01260_06050921_0599.png: 1 duplicate labels removed\n",
      "\u001b[34m\u001b[1mtrain: \u001b[0mWARNING ⚠️ E:\\traffic-sign-detection\\datasets\\cul\\train\\images\\01260_06051050_0624.png: 1 duplicate labels removed\n",
      "\u001b[34m\u001b[1mtrain: \u001b[0mWARNING ⚠️ E:\\traffic-sign-detection\\datasets\\cul\\train\\images\\01260_06051105_0629.png: 1 duplicate labels removed\n",
      "\u001b[34m\u001b[1mtrain: \u001b[0mWARNING ⚠️ E:\\traffic-sign-detection\\datasets\\cul\\train\\images\\01260_06051308_0670.png: 1 duplicate labels removed\n",
      "\u001b[34m\u001b[1mtrain: \u001b[0mWARNING ⚠️ E:\\traffic-sign-detection\\datasets\\cul\\train\\images\\01260_06051326_0676.png: 1 duplicate labels removed\n",
      "\u001b[34m\u001b[1mtrain: \u001b[0mWARNING ⚠️ E:\\traffic-sign-detection\\datasets\\cul\\train\\images\\01260_06051535_0719.png: 1 duplicate labels removed\n",
      "\u001b[34m\u001b[1mtrain: \u001b[0mWARNING ⚠️ E:\\traffic-sign-detection\\datasets\\cul\\train\\images\\01260_06060639_0767.png: 1 duplicate labels removed\n",
      "\u001b[34m\u001b[1mtrain: \u001b[0mWARNING ⚠️ E:\\traffic-sign-detection\\datasets\\cul\\train\\images\\01260_06060958_0833.png: 1 duplicate labels removed\n",
      "\u001b[34m\u001b[1mtrain: \u001b[0mWARNING ⚠️ E:\\traffic-sign-detection\\datasets\\cul\\train\\images\\01260_06061016_0839.png: 1 duplicate labels removed\n",
      "\u001b[34m\u001b[1mtrain: \u001b[0mWARNING ⚠️ E:\\traffic-sign-detection\\datasets\\cul\\train\\images\\01260_06061037_0846.png: 1 duplicate labels removed\n",
      "\u001b[34m\u001b[1mtrain: \u001b[0mWARNING ⚠️ E:\\traffic-sign-detection\\datasets\\cul\\train\\images\\01350_06042046_0523.png: 1 duplicate labels removed\n",
      "\u001b[34m\u001b[1mtrain: \u001b[0mWARNING ⚠️ E:\\traffic-sign-detection\\datasets\\cul\\train\\images\\01350_06050836_0584.png: 1 duplicate labels removed\n",
      "\u001b[34m\u001b[1mtrain: \u001b[0mWARNING ⚠️ E:\\traffic-sign-detection\\datasets\\cul\\train\\images\\01350_06051147_0643.png: 1 duplicate labels removed\n",
      "\u001b[34m\u001b[1mtrain: \u001b[0mWARNING ⚠️ E:\\traffic-sign-detection\\datasets\\cul\\train\\images\\01350_06051220_0654.png: 1 duplicate labels removed\n",
      "\u001b[34m\u001b[1mtrain: \u001b[0mWARNING ⚠️ E:\\traffic-sign-detection\\datasets\\cul\\train\\images\\01350_06051356_0686.png: 1 duplicate labels removed\n",
      "\u001b[34m\u001b[1mtrain: \u001b[0mWARNING ⚠️ E:\\traffic-sign-detection\\datasets\\cul\\train\\images\\01350_06051554_0724.png: 1 duplicate labels removed\n",
      "\u001b[34m\u001b[1mtrain: \u001b[0mWARNING ⚠️ E:\\traffic-sign-detection\\datasets\\cul\\train\\images\\01350_06060724_0782.png: 1 duplicate labels removed\n",
      "\u001b[34m\u001b[1mtrain: \u001b[0mWARNING ⚠️ E:\\traffic-sign-detection\\datasets\\cul\\train\\images\\01350_06060842_0808.png: 1 duplicate labels removed\n",
      "\u001b[34m\u001b[1mtrain: \u001b[0mWARNING ⚠️ E:\\traffic-sign-detection\\datasets\\cul\\train\\images\\01350_06060854_0812.png: 1 duplicate labels removed\n",
      "\u001b[34m\u001b[1mtrain: \u001b[0mWARNING ⚠️ E:\\traffic-sign-detection\\datasets\\cul\\train\\images\\01440_06042022_0515.png: 1 duplicate labels removed\n",
      "\u001b[34m\u001b[1mtrain: \u001b[0mWARNING ⚠️ E:\\traffic-sign-detection\\datasets\\cul\\train\\images\\01440_06050906_0594.png: 1 duplicate labels removed\n",
      "\u001b[34m\u001b[1mtrain: \u001b[0mWARNING ⚠️ E:\\traffic-sign-detection\\datasets\\cul\\train\\images\\01440_06051102_0628.png: 1 duplicate labels removed\n",
      "\u001b[34m\u001b[1mtrain: \u001b[0mWARNING ⚠️ E:\\traffic-sign-detection\\datasets\\cul\\train\\images\\01440_06051108_0630.png: 1 duplicate labels removed\n",
      "\u001b[34m\u001b[1mtrain: \u001b[0mWARNING ⚠️ E:\\traffic-sign-detection\\datasets\\cul\\train\\images\\01440_06051111_0631.png: 1 duplicate labels removed\n",
      "\u001b[34m\u001b[1mtrain: \u001b[0mWARNING ⚠️ E:\\traffic-sign-detection\\datasets\\cul\\train\\images\\01440_06051214_0652.png: 1 duplicate labels removed\n",
      "\u001b[34m\u001b[1mtrain: \u001b[0mWARNING ⚠️ E:\\traffic-sign-detection\\datasets\\cul\\train\\images\\01440_06051308_0670.png: 1 duplicate labels removed\n",
      "\u001b[34m\u001b[1mtrain: \u001b[0mWARNING ⚠️ E:\\traffic-sign-detection\\datasets\\cul\\train\\images\\01440_06051514_0712.png: 1 duplicate labels removed\n",
      "\u001b[34m\u001b[1mtrain: \u001b[0mWARNING ⚠️ E:\\traffic-sign-detection\\datasets\\cul\\train\\images\\01440_06051728_0755.png: 1 duplicate labels removed\n",
      "\u001b[34m\u001b[1mtrain: \u001b[0mWARNING ⚠️ E:\\traffic-sign-detection\\datasets\\cul\\train\\images\\01440_06060721_0781.png: 1 duplicate labels removed\n",
      "\u001b[34m\u001b[1mtrain: \u001b[0mWARNING ⚠️ E:\\traffic-sign-detection\\datasets\\cul\\train\\images\\01440_06060751_0791.png: 1 duplicate labels removed\n",
      "\u001b[34m\u001b[1mtrain: \u001b[0mWARNING ⚠️ E:\\traffic-sign-detection\\datasets\\cul\\train\\images\\01440_06060854_0812.png: 1 duplicate labels removed\n",
      "\u001b[34m\u001b[1mtrain: \u001b[0mWARNING ⚠️ E:\\traffic-sign-detection\\datasets\\cul\\train\\images\\01440_06060919_0820.png: 1 duplicate labels removed\n",
      "\u001b[34m\u001b[1mtrain: \u001b[0mWARNING ⚠️ E:\\traffic-sign-detection\\datasets\\cul\\train\\images\\01440_06061031_0844.png: 1 duplicate labels removed\n",
      "\u001b[34m\u001b[1mtrain: \u001b[0mWARNING ⚠️ E:\\traffic-sign-detection\\datasets\\cul\\train\\images\\01530_06050951_0609.png: 1 duplicate labels removed\n",
      "\u001b[34m\u001b[1mtrain: \u001b[0mWARNING ⚠️ E:\\traffic-sign-detection\\datasets\\cul\\train\\images\\01530_06050954_0610.png: 1 duplicate labels removed\n",
      "\u001b[34m\u001b[1mtrain: \u001b[0mWARNING ⚠️ E:\\traffic-sign-detection\\datasets\\cul\\train\\images\\01530_06051032_0618.png: 1 duplicate labels removed\n",
      "\u001b[34m\u001b[1mtrain: \u001b[0mWARNING ⚠️ E:\\traffic-sign-detection\\datasets\\cul\\train\\images\\01530_06051111_0631.png: 1 duplicate labels removed\n",
      "\u001b[34m\u001b[1mtrain: \u001b[0mWARNING ⚠️ E:\\traffic-sign-detection\\datasets\\cul\\train\\images\\01530_06051156_0646.png: 1 duplicate labels removed\n",
      "\u001b[34m\u001b[1mtrain: \u001b[0mWARNING ⚠️ E:\\traffic-sign-detection\\datasets\\cul\\train\\images\\01530_06051356_0686.png: 1 duplicate labels removed\n",
      "\u001b[34m\u001b[1mtrain: \u001b[0mWARNING ⚠️ E:\\traffic-sign-detection\\datasets\\cul\\train\\images\\01530_06051438_0700.png: 1 duplicate labels removed\n",
      "\u001b[34m\u001b[1mtrain: \u001b[0mWARNING ⚠️ E:\\traffic-sign-detection\\datasets\\cul\\train\\images\\01530_06051557_0725.png: 1 duplicate labels removed\n",
      "\u001b[34m\u001b[1mtrain: \u001b[0mWARNING ⚠️ E:\\traffic-sign-detection\\datasets\\cul\\train\\images\\01530_06051619_0732.png: 1 duplicate labels removed\n",
      "\u001b[34m\u001b[1mtrain: \u001b[0mWARNING ⚠️ E:\\traffic-sign-detection\\datasets\\cul\\train\\images\\01530_06051755_0764.png: 1 duplicate labels removed\n",
      "\u001b[34m\u001b[1mtrain: \u001b[0mWARNING ⚠️ E:\\traffic-sign-detection\\datasets\\cul\\train\\images\\01530_06051814_0766.png: 1 duplicate labels removed\n",
      "\u001b[34m\u001b[1mtrain: \u001b[0mWARNING ⚠️ E:\\traffic-sign-detection\\datasets\\cul\\train\\images\\01530_06060830_0804.png: 1 duplicate labels removed\n",
      "\u001b[34m\u001b[1mtrain: \u001b[0mWARNING ⚠️ E:\\traffic-sign-detection\\datasets\\cul\\train\\images\\01530_06060919_0820.png: 1 duplicate labels removed\n",
      "\u001b[34m\u001b[1mtrain: \u001b[0mWARNING ⚠️ E:\\traffic-sign-detection\\datasets\\cul\\train\\images\\01530_06060928_0823.png: 1 duplicate labels removed\n",
      "\u001b[34m\u001b[1mtrain: \u001b[0mWARNING ⚠️ E:\\traffic-sign-detection\\datasets\\cul\\train\\images\\01620_06042016_0513.png: 1 duplicate labels removed\n",
      "\u001b[34m\u001b[1mtrain: \u001b[0mWARNING ⚠️ E:\\traffic-sign-detection\\datasets\\cul\\train\\images\\01620_06050915_0597.png: 1 duplicate labels removed\n",
      "\u001b[34m\u001b[1mtrain: \u001b[0mWARNING ⚠️ E:\\traffic-sign-detection\\datasets\\cul\\train\\images\\01620_06051032_0618.png: 1 duplicate labels removed\n",
      "\u001b[34m\u001b[1mtrain: \u001b[0mWARNING ⚠️ E:\\traffic-sign-detection\\datasets\\cul\\train\\images\\01620_06051335_0679.png: 1 duplicate labels removed\n",
      "\u001b[34m\u001b[1mtrain: \u001b[0mWARNING ⚠️ E:\\traffic-sign-detection\\datasets\\cul\\train\\images\\01620_06051511_0711.png: 1 duplicate labels removed\n",
      "\u001b[34m\u001b[1mtrain: \u001b[0mWARNING ⚠️ E:\\traffic-sign-detection\\datasets\\cul\\train\\images\\01620_06051529_0717.png: 1 duplicate labels removed\n",
      "\u001b[34m\u001b[1mtrain: \u001b[0mWARNING ⚠️ E:\\traffic-sign-detection\\datasets\\cul\\train\\images\\01620_06051637_0738.png: 1 duplicate labels removed\n",
      "\u001b[34m\u001b[1mtrain: \u001b[0mWARNING ⚠️ E:\\traffic-sign-detection\\datasets\\cul\\train\\images\\01620_06051640_0739.png: 1 duplicate labels removed\n",
      "\u001b[34m\u001b[1mtrain: \u001b[0mWARNING ⚠️ E:\\traffic-sign-detection\\datasets\\cul\\train\\images\\01620_06060754_0792.png: 1 duplicate labels removed\n",
      "\u001b[34m\u001b[1mtrain: \u001b[0mWARNING ⚠️ E:\\traffic-sign-detection\\datasets\\cul\\train\\images\\01620_06060919_0820.png: 1 duplicate labels removed\n",
      "\u001b[34m\u001b[1mtrain: \u001b[0mWARNING ⚠️ E:\\traffic-sign-detection\\datasets\\cul\\train\\images\\01620_06061046_0849.png: 1 duplicate labels removed\n",
      "\u001b[34m\u001b[1mtrain: \u001b[0mWARNING ⚠️ E:\\traffic-sign-detection\\datasets\\cul\\train\\images\\01710_06050836_0584.png: 1 duplicate labels removed\n",
      "\u001b[34m\u001b[1mtrain: \u001b[0mWARNING ⚠️ E:\\traffic-sign-detection\\datasets\\cul\\train\\images\\01710_06050900_0592.png: 1 duplicate labels removed\n",
      "\u001b[34m\u001b[1mtrain: \u001b[0mWARNING ⚠️ E:\\traffic-sign-detection\\datasets\\cul\\train\\images\\01710_06051056_0626.png: 1 duplicate labels removed\n",
      "\u001b[34m\u001b[1mtrain: \u001b[0mWARNING ⚠️ E:\\traffic-sign-detection\\datasets\\cul\\train\\images\\01710_06051123_0635.png: 1 duplicate labels removed\n",
      "\u001b[34m\u001b[1mtrain: \u001b[0mWARNING ⚠️ E:\\traffic-sign-detection\\datasets\\cul\\train\\images\\01710_06051126_0636.png: 1 duplicate labels removed\n",
      "\u001b[34m\u001b[1mtrain: \u001b[0mWARNING ⚠️ E:\\traffic-sign-detection\\datasets\\cul\\train\\images\\01710_06051438_0700.png: 1 duplicate labels removed\n",
      "\u001b[34m\u001b[1mtrain: \u001b[0mWARNING ⚠️ E:\\traffic-sign-detection\\datasets\\cul\\train\\images\\01710_06051526_0716.png: 1 duplicate labels removed\n",
      "\u001b[34m\u001b[1mtrain: \u001b[0mWARNING ⚠️ E:\\traffic-sign-detection\\datasets\\cul\\train\\images\\01710_06051557_0725.png: 1 duplicate labels removed\n",
      "\u001b[34m\u001b[1mtrain: \u001b[0mWARNING ⚠️ E:\\traffic-sign-detection\\datasets\\cul\\train\\images\\01710_06051637_0738.png: 1 duplicate labels removed\n",
      "\u001b[34m\u001b[1mtrain: \u001b[0mWARNING ⚠️ E:\\traffic-sign-detection\\datasets\\cul\\train\\images\\01710_06061034_0845.png: 1 duplicate labels removed\n",
      "\u001b[34m\u001b[1mtrain: \u001b[0mWARNING ⚠️ E:\\traffic-sign-detection\\datasets\\cul\\train\\images\\01800_06051144_0642.png: 1 duplicate labels removed\n",
      "\u001b[34m\u001b[1mtrain: \u001b[0mWARNING ⚠️ E:\\traffic-sign-detection\\datasets\\cul\\train\\images\\01800_06051147_0643.png: 1 duplicate labels removed\n",
      "\u001b[34m\u001b[1mtrain: \u001b[0mWARNING ⚠️ E:\\traffic-sign-detection\\datasets\\cul\\train\\images\\01800_06051557_0725.png: 1 duplicate labels removed\n",
      "\u001b[34m\u001b[1mtrain: \u001b[0mWARNING ⚠️ E:\\traffic-sign-detection\\datasets\\cul\\train\\images\\01800_06051637_0738.png: 1 duplicate labels removed\n",
      "\u001b[34m\u001b[1mtrain: \u001b[0mWARNING ⚠️ E:\\traffic-sign-detection\\datasets\\cul\\train\\images\\01800_06060639_0767.png: 1 duplicate labels removed\n",
      "\u001b[34m\u001b[1mtrain: \u001b[0mWARNING ⚠️ E:\\traffic-sign-detection\\datasets\\cul\\train\\images\\01800_06060845_0809.png: 1 duplicate labels removed\n",
      "\u001b[34m\u001b[1mtrain: \u001b[0mWARNING ⚠️ E:\\traffic-sign-detection\\datasets\\cul\\train\\images\\01800_06060854_0812.png: 1 duplicate labels removed\n",
      "\u001b[34m\u001b[1mtrain: \u001b[0mWARNING ⚠️ E:\\traffic-sign-detection\\datasets\\cul\\train\\images\\01800_06060857_0813.png: 1 duplicate labels removed\n",
      "\u001b[34m\u001b[1mtrain: \u001b[0mWARNING ⚠️ E:\\traffic-sign-detection\\datasets\\cul\\train\\images\\01800_06061034_0845.png: 1 duplicate labels removed\n",
      "\u001b[34m\u001b[1mtrain: \u001b[0mWARNING ⚠️ E:\\traffic-sign-detection\\datasets\\cul\\train\\images\\01890_06051023_0615.png: 1 duplicate labels removed\n",
      "\u001b[34m\u001b[1mtrain: \u001b[0mWARNING ⚠️ E:\\traffic-sign-detection\\datasets\\cul\\train\\images\\01890_06051144_0642.png: 1 duplicate labels removed\n",
      "\u001b[34m\u001b[1mtrain: \u001b[0mWARNING ⚠️ E:\\traffic-sign-detection\\datasets\\cul\\train\\images\\01890_06051223_0655.png: 1 duplicate labels removed\n",
      "\u001b[34m\u001b[1mtrain: \u001b[0mWARNING ⚠️ E:\\traffic-sign-detection\\datasets\\cul\\train\\images\\01890_06051317_0673.png: 1 duplicate labels removed\n",
      "\u001b[34m\u001b[1mtrain: \u001b[0mWARNING ⚠️ E:\\traffic-sign-detection\\datasets\\cul\\train\\images\\01890_06051557_0725.png: 1 duplicate labels removed\n",
      "\u001b[34m\u001b[1mtrain: \u001b[0mWARNING ⚠️ E:\\traffic-sign-detection\\datasets\\cul\\train\\images\\01890_06051637_0738.png: 1 duplicate labels removed\n",
      "\u001b[34m\u001b[1mtrain: \u001b[0mWARNING ⚠️ E:\\traffic-sign-detection\\datasets\\cul\\train\\images\\01890_06060639_0767.png: 1 duplicate labels removed\n",
      "\u001b[34m\u001b[1mtrain: \u001b[0mWARNING ⚠️ E:\\traffic-sign-detection\\datasets\\cul\\train\\images\\01890_06060815_0799.png: 1 duplicate labels removed\n",
      "\u001b[34m\u001b[1mtrain: \u001b[0mWARNING ⚠️ E:\\traffic-sign-detection\\datasets\\cul\\train\\images\\01890_06060830_0804.png: 1 duplicate labels removed\n",
      "\u001b[34m\u001b[1mtrain: \u001b[0mWARNING ⚠️ E:\\traffic-sign-detection\\datasets\\cul\\train\\images\\01890_06060854_0812.png: 1 duplicate labels removed\n",
      "\u001b[34m\u001b[1mtrain: \u001b[0mWARNING ⚠️ E:\\traffic-sign-detection\\datasets\\cul\\train\\images\\01890_06060857_0813.png: 1 duplicate labels removed\n",
      "\u001b[34m\u001b[1mtrain: \u001b[0mWARNING ⚠️ E:\\traffic-sign-detection\\datasets\\cul\\train\\images\\01890_06061034_0845.png: 1 duplicate labels removed\n",
      "\u001b[34m\u001b[1mtrain: \u001b[0mWARNING ⚠️ E:\\traffic-sign-detection\\datasets\\cul\\train\\images\\01980_06050612_0536.png: 1 duplicate labels removed\n",
      "\u001b[34m\u001b[1mtrain: \u001b[0mWARNING ⚠️ E:\\traffic-sign-detection\\datasets\\cul\\train\\images\\01980_06050915_0597.png: 1 duplicate labels removed\n",
      "\u001b[34m\u001b[1mtrain: \u001b[0mWARNING ⚠️ E:\\traffic-sign-detection\\datasets\\cul\\train\\images\\01980_06051102_0628.png: 1 duplicate labels removed\n",
      "\u001b[34m\u001b[1mtrain: \u001b[0mWARNING ⚠️ E:\\traffic-sign-detection\\datasets\\cul\\train\\images\\01980_06051320_0674.png: 1 duplicate labels removed\n",
      "\u001b[34m\u001b[1mtrain: \u001b[0mWARNING ⚠️ E:\\traffic-sign-detection\\datasets\\cul\\train\\images\\01980_06051335_0679.png: 1 duplicate labels removed\n",
      "\u001b[34m\u001b[1mtrain: \u001b[0mWARNING ⚠️ E:\\traffic-sign-detection\\datasets\\cul\\train\\images\\01980_06051508_0710.png: 1 duplicate labels removed\n",
      "\u001b[34m\u001b[1mtrain: \u001b[0mWARNING ⚠️ E:\\traffic-sign-detection\\datasets\\cul\\train\\images\\01980_06051557_0725.png: 1 duplicate labels removed\n",
      "\u001b[34m\u001b[1mtrain: \u001b[0mWARNING ⚠️ E:\\traffic-sign-detection\\datasets\\cul\\train\\images\\01980_06051713_0750.png: 1 duplicate labels removed\n",
      "\u001b[34m\u001b[1mtrain: \u001b[0mWARNING ⚠️ E:\\traffic-sign-detection\\datasets\\cul\\train\\images\\01980_06060639_0767.png: 1 duplicate labels removed\n",
      "\u001b[34m\u001b[1mtrain: \u001b[0mWARNING ⚠️ E:\\traffic-sign-detection\\datasets\\cul\\train\\images\\01980_06060800_0794.png: 1 duplicate labels removed\n",
      "\u001b[34m\u001b[1mtrain: \u001b[0mWARNING ⚠️ E:\\traffic-sign-detection\\datasets\\cul\\train\\images\\01980_06060803_0795.png: 1 duplicate labels removed\n",
      "\u001b[34m\u001b[1mtrain: \u001b[0mWARNING ⚠️ E:\\traffic-sign-detection\\datasets\\cul\\train\\images\\01980_06060854_0812.png: 1 duplicate labels removed\n",
      "\u001b[34m\u001b[1mtrain: \u001b[0mWARNING ⚠️ E:\\traffic-sign-detection\\datasets\\cul\\train\\images\\01980_06060857_0813.png: 1 duplicate labels removed\n",
      "\u001b[34m\u001b[1mtrain: \u001b[0mWARNING ⚠️ E:\\traffic-sign-detection\\datasets\\cul\\train\\images\\01980_06061034_0845.png: 1 duplicate labels removed\n",
      "\u001b[34m\u001b[1mtrain: \u001b[0mWARNING ⚠️ E:\\traffic-sign-detection\\datasets\\cul\\train\\images\\02070_06050612_0536.png: 1 duplicate labels removed\n",
      "\u001b[34m\u001b[1mtrain: \u001b[0mWARNING ⚠️ E:\\traffic-sign-detection\\datasets\\cul\\train\\images\\02070_06050906_0594.png: 1 duplicate labels removed\n",
      "\u001b[34m\u001b[1mtrain: \u001b[0mWARNING ⚠️ E:\\traffic-sign-detection\\datasets\\cul\\train\\images\\02070_06050921_0599.png: 1 duplicate labels removed\n",
      "\u001b[34m\u001b[1mtrain: \u001b[0mWARNING ⚠️ E:\\traffic-sign-detection\\datasets\\cul\\train\\images\\02070_06050945_0607.png: 1 duplicate labels removed\n",
      "\u001b[34m\u001b[1mtrain: \u001b[0mWARNING ⚠️ E:\\traffic-sign-detection\\datasets\\cul\\train\\images\\02070_06051123_0635.png: 1 duplicate labels removed\n",
      "\u001b[34m\u001b[1mtrain: \u001b[0mWARNING ⚠️ E:\\traffic-sign-detection\\datasets\\cul\\train\\images\\02070_06051320_0674.png: 1 duplicate labels removed\n",
      "\u001b[34m\u001b[1mtrain: \u001b[0mWARNING ⚠️ E:\\traffic-sign-detection\\datasets\\cul\\train\\images\\02070_06051335_0679.png: 1 duplicate labels removed\n",
      "\u001b[34m\u001b[1mtrain: \u001b[0mWARNING ⚠️ E:\\traffic-sign-detection\\datasets\\cul\\train\\images\\02070_06051544_0722.png: 2 duplicate labels removed\n",
      "\u001b[34m\u001b[1mtrain: \u001b[0mWARNING ⚠️ E:\\traffic-sign-detection\\datasets\\cul\\train\\images\\02070_06051557_0725.png: 1 duplicate labels removed\n",
      "\u001b[34m\u001b[1mtrain: \u001b[0mWARNING ⚠️ E:\\traffic-sign-detection\\datasets\\cul\\train\\images\\02070_06051731_0756.png: 1 duplicate labels removed\n",
      "\u001b[34m\u001b[1mtrain: \u001b[0mWARNING ⚠️ E:\\traffic-sign-detection\\datasets\\cul\\train\\images\\02070_06060800_0794.png: 1 duplicate labels removed\n",
      "\u001b[34m\u001b[1mtrain: \u001b[0mWARNING ⚠️ E:\\traffic-sign-detection\\datasets\\cul\\train\\images\\02070_06060931_0824.png: 1 duplicate labels removed\n",
      "\u001b[34m\u001b[1mtrain: \u001b[0mWARNING ⚠️ E:\\traffic-sign-detection\\datasets\\cul\\train\\images\\02070_06061031_0844.png: 1 duplicate labels removed\n",
      "\u001b[34m\u001b[1mtrain: \u001b[0mWARNING ⚠️ E:\\traffic-sign-detection\\datasets\\cul\\train\\images\\02070_06061049_0850.png: 1 duplicate labels removed\n",
      "\u001b[34m\u001b[1mtrain: \u001b[0mWARNING ⚠️ E:\\traffic-sign-detection\\datasets\\cul\\train\\images\\02160_06042055_0526.png: 1 duplicate labels removed\n",
      "\u001b[34m\u001b[1mtrain: \u001b[0mWARNING ⚠️ E:\\traffic-sign-detection\\datasets\\cul\\train\\images\\02160_06050842_0586.png: 1 duplicate labels removed\n",
      "\u001b[34m\u001b[1mtrain: \u001b[0mWARNING ⚠️ E:\\traffic-sign-detection\\datasets\\cul\\train\\images\\02160_06051126_0636.png: 1 duplicate labels removed\n",
      "\u001b[34m\u001b[1mtrain: \u001b[0mWARNING ⚠️ E:\\traffic-sign-detection\\datasets\\cul\\train\\images\\02160_06051129_0637.png: 1 duplicate labels removed\n",
      "\u001b[34m\u001b[1mtrain: \u001b[0mWARNING ⚠️ E:\\traffic-sign-detection\\datasets\\cul\\train\\images\\02160_06051317_0673.png: 1 duplicate labels removed\n",
      "\u001b[34m\u001b[1mtrain: \u001b[0mWARNING ⚠️ E:\\traffic-sign-detection\\datasets\\cul\\train\\images\\02160_06051332_0678.png: 1 duplicate labels removed\n",
      "\u001b[34m\u001b[1mtrain: \u001b[0mWARNING ⚠️ E:\\traffic-sign-detection\\datasets\\cul\\train\\images\\02160_06051335_0679.png: 1 duplicate labels removed\n",
      "\u001b[34m\u001b[1mtrain: \u001b[0mWARNING ⚠️ E:\\traffic-sign-detection\\datasets\\cul\\train\\images\\02160_06051350_0684.png: 1 duplicate labels removed\n",
      "\u001b[34m\u001b[1mtrain: \u001b[0mWARNING ⚠️ E:\\traffic-sign-detection\\datasets\\cul\\train\\images\\02160_06051356_0686.png: 1 duplicate labels removed\n",
      "\u001b[34m\u001b[1mtrain: \u001b[0mWARNING ⚠️ E:\\traffic-sign-detection\\datasets\\cul\\train\\images\\02160_06051520_0714.png: 1 duplicate labels removed\n",
      "\u001b[34m\u001b[1mtrain: \u001b[0mWARNING ⚠️ E:\\traffic-sign-detection\\datasets\\cul\\train\\images\\02160_06051544_0722.png: 1 duplicate labels removed\n",
      "\u001b[34m\u001b[1mtrain: \u001b[0mWARNING ⚠️ E:\\traffic-sign-detection\\datasets\\cul\\train\\images\\02160_06051637_0738.png: 1 duplicate labels removed\n",
      "\u001b[34m\u001b[1mtrain: \u001b[0mWARNING ⚠️ E:\\traffic-sign-detection\\datasets\\cul\\train\\images\\02160_06060739_0787.png: 1 duplicate labels removed\n",
      "\u001b[34m\u001b[1mtrain: \u001b[0mWARNING ⚠️ E:\\traffic-sign-detection\\datasets\\cul\\train\\images\\02160_06060800_0794.png: 1 duplicate labels removed\n",
      "\u001b[34m\u001b[1mtrain: \u001b[0mWARNING ⚠️ E:\\traffic-sign-detection\\datasets\\cul\\train\\images\\02160_06061034_0845.png: 1 duplicate labels removed\n",
      "\u001b[34m\u001b[1mtrain: \u001b[0mWARNING ⚠️ E:\\traffic-sign-detection\\datasets\\cul\\train\\images\\02250_06042104_0529.png: 1 duplicate labels removed\n",
      "\u001b[34m\u001b[1mtrain: \u001b[0mWARNING ⚠️ E:\\traffic-sign-detection\\datasets\\cul\\train\\images\\02250_06050559_0532.png: 1 duplicate labels removed\n",
      "\u001b[34m\u001b[1mtrain: \u001b[0mWARNING ⚠️ E:\\traffic-sign-detection\\datasets\\cul\\train\\images\\02250_06050842_0586.png: 1 duplicate labels removed\n",
      "\u001b[34m\u001b[1mtrain: \u001b[0mWARNING ⚠️ E:\\traffic-sign-detection\\datasets\\cul\\train\\images\\02250_06050921_0599.png: 1 duplicate labels removed\n",
      "\u001b[34m\u001b[1mtrain: \u001b[0mWARNING ⚠️ E:\\traffic-sign-detection\\datasets\\cul\\train\\images\\02250_06051105_0629.png: 1 duplicate labels removed\n",
      "\u001b[34m\u001b[1mtrain: \u001b[0mWARNING ⚠️ E:\\traffic-sign-detection\\datasets\\cul\\train\\images\\02250_06051314_0672.png: 1 duplicate labels removed\n",
      "\u001b[34m\u001b[1mtrain: \u001b[0mWARNING ⚠️ E:\\traffic-sign-detection\\datasets\\cul\\train\\images\\02250_06051320_0674.png: 1 duplicate labels removed\n",
      "\u001b[34m\u001b[1mtrain: \u001b[0mWARNING ⚠️ E:\\traffic-sign-detection\\datasets\\cul\\train\\images\\02250_06051350_0684.png: 1 duplicate labels removed\n",
      "\u001b[34m\u001b[1mtrain: \u001b[0mWARNING ⚠️ E:\\traffic-sign-detection\\datasets\\cul\\train\\images\\02250_06051356_0686.png: 1 duplicate labels removed\n",
      "\u001b[34m\u001b[1mtrain: \u001b[0mWARNING ⚠️ E:\\traffic-sign-detection\\datasets\\cul\\train\\images\\02250_06051544_0722.png: 1 duplicate labels removed\n",
      "\u001b[34m\u001b[1mtrain: \u001b[0mWARNING ⚠️ E:\\traffic-sign-detection\\datasets\\cul\\train\\images\\02250_06060739_0787.png: 1 duplicate labels removed\n",
      "\u001b[34m\u001b[1mtrain: \u001b[0mWARNING ⚠️ E:\\traffic-sign-detection\\datasets\\cul\\train\\images\\02250_06060800_0794.png: 1 duplicate labels removed\n",
      "\u001b[34m\u001b[1mtrain: \u001b[0mWARNING ⚠️ E:\\traffic-sign-detection\\datasets\\cul\\train\\images\\02250_06060931_0824.png: 1 duplicate labels removed\n",
      "\u001b[34m\u001b[1mtrain: \u001b[0mWARNING ⚠️ E:\\traffic-sign-detection\\datasets\\cul\\train\\images\\02250_06061034_0845.png: 1 duplicate labels removed\n",
      "\u001b[34m\u001b[1mtrain: \u001b[0mWARNING ⚠️ E:\\traffic-sign-detection\\datasets\\cul\\train\\images\\02340_06050945_0607.png: 1 duplicate labels removed\n",
      "\u001b[34m\u001b[1mtrain: \u001b[0mWARNING ⚠️ E:\\traffic-sign-detection\\datasets\\cul\\train\\images\\02340_06051059_0627.png: 1 duplicate labels removed\n",
      "\u001b[34m\u001b[1mtrain: \u001b[0mWARNING ⚠️ E:\\traffic-sign-detection\\datasets\\cul\\train\\images\\02340_06051108_0630.png: 1 duplicate labels removed\n",
      "\u001b[34m\u001b[1mtrain: \u001b[0mWARNING ⚠️ E:\\traffic-sign-detection\\datasets\\cul\\train\\images\\02340_06051250_0664.png: 1 duplicate labels removed\n",
      "\u001b[34m\u001b[1mtrain: \u001b[0mWARNING ⚠️ E:\\traffic-sign-detection\\datasets\\cul\\train\\images\\02340_06051320_0674.png: 1 duplicate labels removed\n",
      "\u001b[34m\u001b[1mtrain: \u001b[0mWARNING ⚠️ E:\\traffic-sign-detection\\datasets\\cul\\train\\images\\02340_06051353_0685.png: 1 duplicate labels removed\n",
      "\u001b[34m\u001b[1mtrain: \u001b[0mWARNING ⚠️ E:\\traffic-sign-detection\\datasets\\cul\\train\\images\\02340_06051356_0686.png: 1 duplicate labels removed\n",
      "\u001b[34m\u001b[1mtrain: \u001b[0mWARNING ⚠️ E:\\traffic-sign-detection\\datasets\\cul\\train\\images\\02340_06051544_0722.png: 1 duplicate labels removed\n",
      "\u001b[34m\u001b[1mtrain: \u001b[0mWARNING ⚠️ E:\\traffic-sign-detection\\datasets\\cul\\train\\images\\02340_06051557_0725.png: 1 duplicate labels removed\n",
      "\u001b[34m\u001b[1mtrain: \u001b[0mWARNING ⚠️ E:\\traffic-sign-detection\\datasets\\cul\\train\\images\\02340_06060724_0782.png: 1 duplicate labels removed\n",
      "\u001b[34m\u001b[1mtrain: \u001b[0mWARNING ⚠️ E:\\traffic-sign-detection\\datasets\\cul\\train\\images\\02340_06060730_0784.png: 1 duplicate labels removed\n",
      "\u001b[34m\u001b[1mtrain: \u001b[0mWARNING ⚠️ E:\\traffic-sign-detection\\datasets\\cul\\train\\images\\02340_06060800_0794.png: 1 duplicate labels removed\n",
      "\u001b[34m\u001b[1mtrain: \u001b[0mWARNING ⚠️ E:\\traffic-sign-detection\\datasets\\cul\\train\\images\\02340_06061034_0845.png: 1 duplicate labels removed\n",
      "\u001b[34m\u001b[1mtrain: \u001b[0mWARNING ⚠️ E:\\traffic-sign-detection\\datasets\\cul\\train\\images\\02430_06042055_0526.png: 1 duplicate labels removed\n",
      "\u001b[34m\u001b[1mtrain: \u001b[0mWARNING ⚠️ E:\\traffic-sign-detection\\datasets\\cul\\train\\images\\02430_06042104_0529.png: 1 duplicate labels removed\n",
      "\u001b[34m\u001b[1mtrain: \u001b[0mWARNING ⚠️ E:\\traffic-sign-detection\\datasets\\cul\\train\\images\\02430_06050612_0536.png: 1 duplicate labels removed\n",
      "\u001b[34m\u001b[1mtrain: \u001b[0mWARNING ⚠️ E:\\traffic-sign-detection\\datasets\\cul\\train\\images\\02430_06050857_0591.png: 1 duplicate labels removed\n",
      "\u001b[34m\u001b[1mtrain: \u001b[0mWARNING ⚠️ E:\\traffic-sign-detection\\datasets\\cul\\train\\images\\02430_06050924_0600.png: 1 duplicate labels removed\n",
      "\u001b[34m\u001b[1mtrain: \u001b[0mWARNING ⚠️ E:\\traffic-sign-detection\\datasets\\cul\\train\\images\\02430_06050945_0607.png: 1 duplicate labels removed\n",
      "\u001b[34m\u001b[1mtrain: \u001b[0mWARNING ⚠️ E:\\traffic-sign-detection\\datasets\\cul\\train\\images\\02430_06051108_0630.png: 1 duplicate labels removed\n",
      "\u001b[34m\u001b[1mtrain: \u001b[0mWARNING ⚠️ E:\\traffic-sign-detection\\datasets\\cul\\train\\images\\02430_06051147_0643.png: 1 duplicate labels removed\n",
      "\u001b[34m\u001b[1mtrain: \u001b[0mWARNING ⚠️ E:\\traffic-sign-detection\\datasets\\cul\\train\\images\\02430_06051217_0653.png: 1 duplicate labels removed\n",
      "\u001b[34m\u001b[1mtrain: \u001b[0mWARNING ⚠️ E:\\traffic-sign-detection\\datasets\\cul\\train\\images\\02430_06051526_0716.png: 1 duplicate labels removed\n",
      "\u001b[34m\u001b[1mtrain: \u001b[0mWARNING ⚠️ E:\\traffic-sign-detection\\datasets\\cul\\train\\images\\02430_06051544_0722.png: 1 duplicate labels removed\n",
      "\u001b[34m\u001b[1mtrain: \u001b[0mWARNING ⚠️ E:\\traffic-sign-detection\\datasets\\cul\\train\\images\\02430_06051554_0724.png: 1 duplicate labels removed\n",
      "\u001b[34m\u001b[1mtrain: \u001b[0mWARNING ⚠️ E:\\traffic-sign-detection\\datasets\\cul\\train\\images\\02430_06051612_0730.png: 1 duplicate labels removed\n",
      "\u001b[34m\u001b[1mtrain: \u001b[0mWARNING ⚠️ E:\\traffic-sign-detection\\datasets\\cul\\train\\images\\02430_06060724_0782.png: 1 duplicate labels removed\n",
      "\u001b[34m\u001b[1mtrain: \u001b[0mWARNING ⚠️ E:\\traffic-sign-detection\\datasets\\cul\\train\\images\\02430_06060800_0794.png: 1 duplicate labels removed\n",
      "\u001b[34m\u001b[1mtrain: \u001b[0mWARNING ⚠️ E:\\traffic-sign-detection\\datasets\\cul\\train\\images\\02430_06061034_0845.png: 1 duplicate labels removed\n",
      "\u001b[34m\u001b[1mtrain: \u001b[0mWARNING ⚠️ E:\\traffic-sign-detection\\datasets\\cul\\train\\images\\02520_06042055_0526.png: 1 duplicate labels removed\n",
      "\u001b[34m\u001b[1mtrain: \u001b[0mWARNING ⚠️ E:\\traffic-sign-detection\\datasets\\cul\\train\\images\\02520_06042104_0529.png: 1 duplicate labels removed\n",
      "\u001b[34m\u001b[1mtrain: \u001b[0mWARNING ⚠️ E:\\traffic-sign-detection\\datasets\\cul\\train\\images\\02520_06042107_0530.png: 1 duplicate labels removed\n",
      "\u001b[34m\u001b[1mtrain: \u001b[0mWARNING ⚠️ E:\\traffic-sign-detection\\datasets\\cul\\train\\images\\02520_06050921_0599.png: 1 duplicate labels removed\n",
      "\u001b[34m\u001b[1mtrain: \u001b[0mWARNING ⚠️ E:\\traffic-sign-detection\\datasets\\cul\\train\\images\\02520_06050942_0606.png: 1 duplicate labels removed\n",
      "\u001b[34m\u001b[1mtrain: \u001b[0mWARNING ⚠️ E:\\traffic-sign-detection\\datasets\\cul\\train\\images\\02520_06051108_0630.png: 1 duplicate labels removed\n",
      "\u001b[34m\u001b[1mtrain: \u001b[0mWARNING ⚠️ E:\\traffic-sign-detection\\datasets\\cul\\train\\images\\02520_06051114_0632.png: 1 duplicate labels removed\n",
      "\u001b[34m\u001b[1mtrain: \u001b[0mWARNING ⚠️ E:\\traffic-sign-detection\\datasets\\cul\\train\\images\\02520_06051147_0643.png: 1 duplicate labels removed\n",
      "\u001b[34m\u001b[1mtrain: \u001b[0mWARNING ⚠️ E:\\traffic-sign-detection\\datasets\\cul\\train\\images\\02520_06051205_0649.png: 2 duplicate labels removed\n",
      "\u001b[34m\u001b[1mtrain: \u001b[0mWARNING ⚠️ E:\\traffic-sign-detection\\datasets\\cul\\train\\images\\02520_06051338_0680.png: 1 duplicate labels removed\n",
      "\u001b[34m\u001b[1mtrain: \u001b[0mWARNING ⚠️ E:\\traffic-sign-detection\\datasets\\cul\\train\\images\\02520_06051713_0750.png: 1 duplicate labels removed\n",
      "\u001b[34m\u001b[1mtrain: \u001b[0mWARNING ⚠️ E:\\traffic-sign-detection\\datasets\\cul\\train\\images\\02520_06060730_0784.png: 1 duplicate labels removed\n",
      "\u001b[34m\u001b[1mtrain: \u001b[0mWARNING ⚠️ E:\\traffic-sign-detection\\datasets\\cul\\train\\images\\02520_06060748_0790.png: 1 duplicate labels removed\n",
      "\u001b[34m\u001b[1mtrain: \u001b[0mWARNING ⚠️ E:\\traffic-sign-detection\\datasets\\cul\\train\\images\\02610_06050921_0599.png: 1 duplicate labels removed\n",
      "\u001b[34m\u001b[1mtrain: \u001b[0mWARNING ⚠️ E:\\traffic-sign-detection\\datasets\\cul\\train\\images\\02610_06050927_0601.png: 1 duplicate labels removed\n",
      "\u001b[34m\u001b[1mtrain: \u001b[0mWARNING ⚠️ E:\\traffic-sign-detection\\datasets\\cul\\train\\images\\02610_06051032_0618.png: 1 duplicate labels removed\n",
      "\u001b[34m\u001b[1mtrain: \u001b[0mWARNING ⚠️ E:\\traffic-sign-detection\\datasets\\cul\\train\\images\\02610_06051059_0627.png: 1 duplicate labels removed\n",
      "\u001b[34m\u001b[1mtrain: \u001b[0mWARNING ⚠️ E:\\traffic-sign-detection\\datasets\\cul\\train\\images\\02610_06051135_0639.png: 1 duplicate labels removed\n",
      "\u001b[34m\u001b[1mtrain: \u001b[0mWARNING ⚠️ E:\\traffic-sign-detection\\datasets\\cul\\train\\images\\02610_06051335_0679.png: 1 duplicate labels removed\n",
      "\u001b[34m\u001b[1mtrain: \u001b[0mWARNING ⚠️ E:\\traffic-sign-detection\\datasets\\cul\\train\\images\\02700_06042019_0514.png: 1 duplicate labels removed\n",
      "\u001b[34m\u001b[1mtrain: \u001b[0mWARNING ⚠️ E:\\traffic-sign-detection\\datasets\\cul\\train\\images\\02700_06042046_0523.png: 1 duplicate labels removed\n",
      "\u001b[34m\u001b[1mtrain: \u001b[0mWARNING ⚠️ E:\\traffic-sign-detection\\datasets\\cul\\train\\images\\02700_06050851_0589.png: 1 duplicate labels removed\n",
      "\u001b[34m\u001b[1mtrain: \u001b[0mWARNING ⚠️ E:\\traffic-sign-detection\\datasets\\cul\\train\\images\\02700_06050912_0596.png: 1 duplicate labels removed\n",
      "\u001b[34m\u001b[1mtrain: \u001b[0mWARNING ⚠️ E:\\traffic-sign-detection\\datasets\\cul\\train\\images\\02700_06050921_0599.png: 1 duplicate labels removed\n",
      "\u001b[34m\u001b[1mtrain: \u001b[0mWARNING ⚠️ E:\\traffic-sign-detection\\datasets\\cul\\train\\images\\02700_06050945_0607.png: 1 duplicate labels removed\n",
      "\u001b[34m\u001b[1mtrain: \u001b[0mWARNING ⚠️ E:\\traffic-sign-detection\\datasets\\cul\\train\\images\\02700_06051135_0639.png: 1 duplicate labels removed\n",
      "\u001b[34m\u001b[1mtrain: \u001b[0mWARNING ⚠️ E:\\traffic-sign-detection\\datasets\\cul\\train\\images\\02700_06051538_0720.png: 1 duplicate labels removed\n",
      "\u001b[34m\u001b[1mtrain: \u001b[0mWARNING ⚠️ E:\\traffic-sign-detection\\datasets\\cul\\train\\images\\02700_06051612_0730.png: 1 duplicate labels removed\n",
      "\u001b[34m\u001b[1mtrain: \u001b[0mWARNING ⚠️ E:\\traffic-sign-detection\\datasets\\cul\\train\\images\\02700_06060724_0782.png: 1 duplicate labels removed\n",
      "\u001b[34m\u001b[1mtrain: \u001b[0mWARNING ⚠️ E:\\traffic-sign-detection\\datasets\\cul\\train\\images\\02700_06060824_0802.png: 1 duplicate labels removed\n",
      "\u001b[34m\u001b[1mtrain: \u001b[0mWARNING ⚠️ E:\\traffic-sign-detection\\datasets\\cul\\train\\images\\02700_06060949_0830.png: 1 duplicate labels removed\n",
      "\u001b[34m\u001b[1mtrain: \u001b[0mWARNING ⚠️ E:\\traffic-sign-detection\\datasets\\cul\\train\\images\\02790_06042055_0526.png: 1 duplicate labels removed\n",
      "\u001b[34m\u001b[1mtrain: \u001b[0mWARNING ⚠️ E:\\traffic-sign-detection\\datasets\\cul\\train\\images\\02790_06050921_0599.png: 1 duplicate labels removed\n",
      "\u001b[34m\u001b[1mtrain: \u001b[0mWARNING ⚠️ E:\\traffic-sign-detection\\datasets\\cul\\train\\images\\02790_06051056_0626.png: 1 duplicate labels removed\n",
      "\u001b[34m\u001b[1mtrain: \u001b[0mWARNING ⚠️ E:\\traffic-sign-detection\\datasets\\cul\\train\\images\\02790_06051120_0634.png: 1 duplicate labels removed\n",
      "\u001b[34m\u001b[1mtrain: \u001b[0mWARNING ⚠️ E:\\traffic-sign-detection\\datasets\\cul\\train\\images\\02790_06051135_0639.png: 1 duplicate labels removed\n",
      "\u001b[34m\u001b[1mtrain: \u001b[0mWARNING ⚠️ E:\\traffic-sign-detection\\datasets\\cul\\train\\images\\02790_06051147_0643.png: 1 duplicate labels removed\n",
      "\u001b[34m\u001b[1mtrain: \u001b[0mWARNING ⚠️ E:\\traffic-sign-detection\\datasets\\cul\\train\\images\\02790_06051150_0644.png: 1 duplicate labels removed\n",
      "\u001b[34m\u001b[1mtrain: \u001b[0mWARNING ⚠️ E:\\traffic-sign-detection\\datasets\\cul\\train\\images\\02790_06051205_0649.png: 2 duplicate labels removed\n",
      "\u001b[34m\u001b[1mtrain: \u001b[0mWARNING ⚠️ E:\\traffic-sign-detection\\datasets\\cul\\train\\images\\02790_06051332_0678.png: 1 duplicate labels removed\n",
      "\u001b[34m\u001b[1mtrain: \u001b[0mWARNING ⚠️ E:\\traffic-sign-detection\\datasets\\cul\\train\\images\\02790_06051453_0705.png: 1 duplicate labels removed\n",
      "\u001b[34m\u001b[1mtrain: \u001b[0mWARNING ⚠️ E:\\traffic-sign-detection\\datasets\\cul\\train\\images\\02790_06051538_0720.png: 1 duplicate labels removed\n",
      "\u001b[34m\u001b[1mtrain: \u001b[0mWARNING ⚠️ E:\\traffic-sign-detection\\datasets\\cul\\train\\images\\02790_06060824_0802.png: 1 duplicate labels removed\n",
      "\u001b[34m\u001b[1mtrain: \u001b[0mWARNING ⚠️ E:\\traffic-sign-detection\\datasets\\cul\\train\\images\\02880_06050851_0589.png: 1 duplicate labels removed\n",
      "\u001b[34m\u001b[1mtrain: \u001b[0mWARNING ⚠️ E:\\traffic-sign-detection\\datasets\\cul\\train\\images\\02880_06050909_0595.png: 1 duplicate labels removed\n",
      "\u001b[34m\u001b[1mtrain: \u001b[0mWARNING ⚠️ E:\\traffic-sign-detection\\datasets\\cul\\train\\images\\02880_06051050_0624.png: 1 duplicate labels removed\n",
      "\u001b[34m\u001b[1mtrain: \u001b[0mWARNING ⚠️ E:\\traffic-sign-detection\\datasets\\cul\\train\\images\\02880_06051123_0635.png: 1 duplicate labels removed\n",
      "\u001b[34m\u001b[1mtrain: \u001b[0mWARNING ⚠️ E:\\traffic-sign-detection\\datasets\\cul\\train\\images\\02880_06051135_0639.png: 1 duplicate labels removed\n",
      "\u001b[34m\u001b[1mtrain: \u001b[0mWARNING ⚠️ E:\\traffic-sign-detection\\datasets\\cul\\train\\images\\02880_06051438_0700.png: 1 duplicate labels removed\n",
      "\u001b[34m\u001b[1mtrain: \u001b[0mWARNING ⚠️ E:\\traffic-sign-detection\\datasets\\cul\\train\\images\\02880_06051447_0703.png: 1 duplicate labels removed\n",
      "\u001b[34m\u001b[1mtrain: \u001b[0mWARNING ⚠️ E:\\traffic-sign-detection\\datasets\\cul\\train\\images\\02880_06051612_0730.png: 1 duplicate labels removed\n",
      "\u001b[34m\u001b[1mtrain: \u001b[0mWARNING ⚠️ E:\\traffic-sign-detection\\datasets\\cul\\train\\images\\02880_06051637_0738.png: 1 duplicate labels removed\n",
      "\u001b[34m\u001b[1mtrain: \u001b[0mWARNING ⚠️ E:\\traffic-sign-detection\\datasets\\cul\\train\\images\\02880_06060642_0768.png: 1 duplicate labels removed\n",
      "\u001b[34m\u001b[1mtrain: \u001b[0mWARNING ⚠️ E:\\traffic-sign-detection\\datasets\\cul\\train\\images\\02880_06060809_0797.png: 1 duplicate labels removed\n",
      "\u001b[34m\u001b[1mtrain: \u001b[0mWARNING ⚠️ E:\\traffic-sign-detection\\datasets\\cul\\train\\images\\02880_06060824_0802.png: 1 duplicate labels removed\n",
      "\u001b[34m\u001b[1mtrain: \u001b[0mWARNING ⚠️ E:\\traffic-sign-detection\\datasets\\cul\\train\\images\\02880_06060900_0814.png: 1 duplicate labels removed\n",
      "\u001b[34m\u001b[1mtrain: \u001b[0mWARNING ⚠️ E:\\traffic-sign-detection\\datasets\\cul\\train\\images\\02970_06042010_0511.png: 1 duplicate labels removed\n",
      "\u001b[34m\u001b[1mtrain: \u001b[0mWARNING ⚠️ E:\\traffic-sign-detection\\datasets\\cul\\train\\images\\02970_06051120_0634.png: 1 duplicate labels removed\n",
      "\u001b[34m\u001b[1mtrain: \u001b[0mWARNING ⚠️ E:\\traffic-sign-detection\\datasets\\cul\\train\\images\\02970_06051144_0642.png: 1 duplicate labels removed\n",
      "\u001b[34m\u001b[1mtrain: \u001b[0mWARNING ⚠️ E:\\traffic-sign-detection\\datasets\\cul\\train\\images\\02970_06051205_0649.png: 1 duplicate labels removed\n",
      "\u001b[34m\u001b[1mtrain: \u001b[0mWARNING ⚠️ E:\\traffic-sign-detection\\datasets\\cul\\train\\images\\02970_06051323_0675.png: 1 duplicate labels removed\n",
      "\u001b[34m\u001b[1mtrain: \u001b[0mWARNING ⚠️ E:\\traffic-sign-detection\\datasets\\cul\\train\\images\\02970_06051447_0703.png: 1 duplicate labels removed\n",
      "\u001b[34m\u001b[1mtrain: \u001b[0mWARNING ⚠️ E:\\traffic-sign-detection\\datasets\\cul\\train\\images\\02970_06051529_0717.png: 1 duplicate labels removed\n",
      "\u001b[34m\u001b[1mtrain: \u001b[0mWARNING ⚠️ E:\\traffic-sign-detection\\datasets\\cul\\train\\images\\02970_06051612_0730.png: 1 duplicate labels removed\n",
      "\u001b[34m\u001b[1mtrain: \u001b[0mWARNING ⚠️ E:\\traffic-sign-detection\\datasets\\cul\\train\\images\\02970_06051637_0738.png: 1 duplicate labels removed\n",
      "\u001b[34m\u001b[1mtrain: \u001b[0mWARNING ⚠️ E:\\traffic-sign-detection\\datasets\\cul\\train\\images\\02970_06051710_0749.png: 1 duplicate labels removed\n",
      "\u001b[34m\u001b[1mtrain: \u001b[0mWARNING ⚠️ E:\\traffic-sign-detection\\datasets\\cul\\train\\images\\03060_06042040_0521.png: 1 duplicate labels removed\n",
      "\u001b[34m\u001b[1mtrain: \u001b[0mWARNING ⚠️ E:\\traffic-sign-detection\\datasets\\cul\\train\\images\\03060_06050909_0595.png: 1 duplicate labels removed\n",
      "\u001b[34m\u001b[1mtrain: \u001b[0mWARNING ⚠️ E:\\traffic-sign-detection\\datasets\\cul\\train\\images\\03060_06051135_0639.png: 1 duplicate labels removed\n",
      "\u001b[34m\u001b[1mtrain: \u001b[0mWARNING ⚠️ E:\\traffic-sign-detection\\datasets\\cul\\train\\images\\03060_06051205_0649.png: 1 duplicate labels removed\n",
      "\u001b[34m\u001b[1mtrain: \u001b[0mWARNING ⚠️ E:\\traffic-sign-detection\\datasets\\cul\\train\\images\\03060_06051408_0690.png: 1 duplicate labels removed\n",
      "\u001b[34m\u001b[1mtrain: \u001b[0mWARNING ⚠️ E:\\traffic-sign-detection\\datasets\\cul\\train\\images\\03060_06051508_0710.png: 1 duplicate labels removed\n",
      "\u001b[34m\u001b[1mtrain: \u001b[0mWARNING ⚠️ E:\\traffic-sign-detection\\datasets\\cul\\train\\images\\03060_06051535_0719.png: 1 duplicate labels removed\n",
      "\u001b[34m\u001b[1mtrain: \u001b[0mWARNING ⚠️ E:\\traffic-sign-detection\\datasets\\cul\\train\\images\\03150_06042016_0513.png: 1 duplicate labels removed\n",
      "\u001b[34m\u001b[1mtrain: \u001b[0mWARNING ⚠️ E:\\traffic-sign-detection\\datasets\\cul\\train\\images\\03150_06050909_0595.png: 1 duplicate labels removed\n",
      "\u001b[34m\u001b[1mtrain: \u001b[0mWARNING ⚠️ E:\\traffic-sign-detection\\datasets\\cul\\train\\images\\03150_06051441_0701.png: 1 duplicate labels removed\n",
      "\u001b[34m\u001b[1mtrain: \u001b[0mWARNING ⚠️ E:\\traffic-sign-detection\\datasets\\cul\\train\\images\\03150_06051529_0717.png: 1 duplicate labels removed\n",
      "\u001b[34m\u001b[1mtrain: \u001b[0mWARNING ⚠️ E:\\traffic-sign-detection\\datasets\\cul\\train\\images\\03150_06051535_0719.png: 2 duplicate labels removed\n",
      "\u001b[34m\u001b[1mtrain: \u001b[0mWARNING ⚠️ E:\\traffic-sign-detection\\datasets\\cul\\train\\images\\03150_06051554_0724.png: 1 duplicate labels removed\n",
      "\u001b[34m\u001b[1mtrain: \u001b[0mWARNING ⚠️ E:\\traffic-sign-detection\\datasets\\cul\\train\\images\\03150_06051612_0730.png: 1 duplicate labels removed\n",
      "\u001b[34m\u001b[1mtrain: \u001b[0mWARNING ⚠️ E:\\traffic-sign-detection\\datasets\\cul\\train\\images\\03150_06060803_0795.png: 1 duplicate labels removed\n",
      "\u001b[34m\u001b[1mtrain: \u001b[0mWARNING ⚠️ E:\\traffic-sign-detection\\datasets\\cul\\train\\images\\03150_06061049_0850.png: 1 duplicate labels removed\n",
      "\u001b[34m\u001b[1mtrain: \u001b[0mWARNING ⚠️ E:\\traffic-sign-detection\\datasets\\cul\\train\\images\\03240_06042055_0526.png: 1 duplicate labels removed\n",
      "\u001b[34m\u001b[1mtrain: \u001b[0mWARNING ⚠️ E:\\traffic-sign-detection\\datasets\\cul\\train\\images\\03240_06051144_0642.png: 1 duplicate labels removed\n",
      "\u001b[34m\u001b[1mtrain: \u001b[0mWARNING ⚠️ E:\\traffic-sign-detection\\datasets\\cul\\train\\images\\03240_06051147_0643.png: 1 duplicate labels removed\n",
      "\u001b[34m\u001b[1mtrain: \u001b[0mWARNING ⚠️ E:\\traffic-sign-detection\\datasets\\cul\\train\\images\\03240_06051314_0672.png: 1 duplicate labels removed\n",
      "\u001b[34m\u001b[1mtrain: \u001b[0mWARNING ⚠️ E:\\traffic-sign-detection\\datasets\\cul\\train\\images\\03240_06051704_0747.png: 1 duplicate labels removed\n",
      "\u001b[34m\u001b[1mtrain: \u001b[0mWARNING ⚠️ E:\\traffic-sign-detection\\datasets\\cul\\train\\images\\03240_06060639_0767.png: 1 duplicate labels removed\n",
      "\u001b[34m\u001b[1mtrain: \u001b[0mWARNING ⚠️ E:\\traffic-sign-detection\\datasets\\cul\\train\\images\\03240_06060718_0780.png: 1 duplicate labels removed\n",
      "\u001b[34m\u001b[1mtrain: \u001b[0mWARNING ⚠️ E:\\traffic-sign-detection\\datasets\\cul\\train\\images\\03240_06060903_0815.png: 1 duplicate labels removed\n",
      "\u001b[34m\u001b[1mtrain: \u001b[0mWARNING ⚠️ E:\\traffic-sign-detection\\datasets\\cul\\train\\images\\03240_06060946_0829.png: 1 duplicate labels removed\n",
      "\u001b[34m\u001b[1mtrain: \u001b[0mWARNING ⚠️ E:\\traffic-sign-detection\\datasets\\cul\\train\\images\\03240_06061043_0848.png: 1 duplicate labels removed\n",
      "\u001b[34m\u001b[1mtrain: \u001b[0mWARNING ⚠️ E:\\traffic-sign-detection\\datasets\\cul\\train\\images\\03330_06050559_0532.png: 1 duplicate labels removed\n",
      "\u001b[34m\u001b[1mtrain: \u001b[0mWARNING ⚠️ E:\\traffic-sign-detection\\datasets\\cul\\train\\images\\03330_06050606_0534.png: 1 duplicate labels removed\n",
      "\u001b[34m\u001b[1mtrain: \u001b[0mWARNING ⚠️ E:\\traffic-sign-detection\\datasets\\cul\\train\\images\\03330_06050609_0535.png: 1 duplicate labels removed\n",
      "\u001b[34m\u001b[1mtrain: \u001b[0mWARNING ⚠️ E:\\traffic-sign-detection\\datasets\\cul\\train\\images\\03330_06050612_0536.png: 1 duplicate labels removed\n",
      "\u001b[34m\u001b[1mtrain: \u001b[0mWARNING ⚠️ E:\\traffic-sign-detection\\datasets\\cul\\train\\images\\03330_06051126_0636.png: 1 duplicate labels removed\n",
      "\u001b[34m\u001b[1mtrain: \u001b[0mWARNING ⚠️ E:\\traffic-sign-detection\\datasets\\cul\\train\\images\\03330_06051253_0665.png: 1 duplicate labels removed\n",
      "\u001b[34m\u001b[1mtrain: \u001b[0mWARNING ⚠️ E:\\traffic-sign-detection\\datasets\\cul\\train\\images\\03330_06051323_0675.png: 1 duplicate labels removed\n",
      "\u001b[34m\u001b[1mtrain: \u001b[0mWARNING ⚠️ E:\\traffic-sign-detection\\datasets\\cul\\train\\images\\03330_06051606_0728.png: 1 duplicate labels removed\n",
      "\u001b[34m\u001b[1mtrain: \u001b[0mWARNING ⚠️ E:\\traffic-sign-detection\\datasets\\cul\\train\\images\\03330_06051612_0730.png: 1 duplicate labels removed\n",
      "\u001b[34m\u001b[1mtrain: \u001b[0mWARNING ⚠️ E:\\traffic-sign-detection\\datasets\\cul\\train\\images\\03330_06060639_0767.png: 1 duplicate labels removed\n",
      "\u001b[34m\u001b[1mtrain: \u001b[0mWARNING ⚠️ E:\\traffic-sign-detection\\datasets\\cul\\train\\images\\03330_06060718_0780.png: 1 duplicate labels removed\n",
      "\u001b[34m\u001b[1mtrain: \u001b[0mWARNING ⚠️ E:\\traffic-sign-detection\\datasets\\cul\\train\\images\\03330_06060857_0813.png: 1 duplicate labels removed\n",
      "\u001b[34m\u001b[1mtrain: \u001b[0mWARNING ⚠️ E:\\traffic-sign-detection\\datasets\\cul\\train\\images\\03330_06061007_0836.png: 1 duplicate labels removed\n",
      "\u001b[34m\u001b[1mtrain: \u001b[0mWARNING ⚠️ E:\\traffic-sign-detection\\datasets\\cul\\train\\images\\03330_06061040_0847.png: 1 duplicate labels removed\n",
      "\u001b[34m\u001b[1mtrain: \u001b[0mWARNING ⚠️ E:\\traffic-sign-detection\\datasets\\cul\\train\\images\\03330_06061043_0848.png: 1 duplicate labels removed\n",
      "\u001b[34m\u001b[1mtrain: \u001b[0mWARNING ⚠️ E:\\traffic-sign-detection\\datasets\\cul\\train\\images\\03420_06050915_0597.png: 1 duplicate labels removed\n",
      "\u001b[34m\u001b[1mtrain: \u001b[0mWARNING ⚠️ E:\\traffic-sign-detection\\datasets\\cul\\train\\images\\03420_06050924_0600.png: 1 duplicate labels removed\n",
      "\u001b[34m\u001b[1mtrain: \u001b[0mWARNING ⚠️ E:\\traffic-sign-detection\\datasets\\cul\\train\\images\\03420_06051108_0630.png: 2 duplicate labels removed\n",
      "\u001b[34m\u001b[1mtrain: \u001b[0mWARNING ⚠️ E:\\traffic-sign-detection\\datasets\\cul\\train\\images\\03420_06051247_0663.png: 1 duplicate labels removed\n",
      "\u001b[34m\u001b[1mtrain: \u001b[0mWARNING ⚠️ E:\\traffic-sign-detection\\datasets\\cul\\train\\images\\03420_06051314_0672.png: 1 duplicate labels removed\n",
      "\u001b[34m\u001b[1mtrain: \u001b[0mWARNING ⚠️ E:\\traffic-sign-detection\\datasets\\cul\\train\\images\\03420_06051356_0686.png: 1 duplicate labels removed\n",
      "\u001b[34m\u001b[1mtrain: \u001b[0mWARNING ⚠️ E:\\traffic-sign-detection\\datasets\\cul\\train\\images\\03420_06051612_0730.png: 1 duplicate labels removed\n",
      "\u001b[34m\u001b[1mtrain: \u001b[0mWARNING ⚠️ E:\\traffic-sign-detection\\datasets\\cul\\train\\images\\03420_06060730_0784.png: 1 duplicate labels removed\n",
      "\u001b[34m\u001b[1mtrain: \u001b[0mWARNING ⚠️ E:\\traffic-sign-detection\\datasets\\cul\\train\\images\\03420_06060857_0813.png: 1 duplicate labels removed\n",
      "\u001b[34m\u001b[1mtrain: \u001b[0mWARNING ⚠️ E:\\traffic-sign-detection\\datasets\\cul\\train\\images\\03420_06060903_0815.png: 1 duplicate labels removed\n",
      "\u001b[34m\u001b[1mtrain: \u001b[0mWARNING ⚠️ E:\\traffic-sign-detection\\datasets\\cul\\train\\images\\03420_06060928_0823.png: 1 duplicate labels removed\n",
      "\u001b[34m\u001b[1mtrain: \u001b[0mWARNING ⚠️ E:\\traffic-sign-detection\\datasets\\cul\\train\\images\\03420_06061010_0837.png: 1 duplicate labels removed\n",
      "\u001b[34m\u001b[1mtrain: \u001b[0mWARNING ⚠️ E:\\traffic-sign-detection\\datasets\\cul\\train\\images\\03510_06050851_0589.png: 1 duplicate labels removed\n",
      "\u001b[34m\u001b[1mtrain: \u001b[0mWARNING ⚠️ E:\\traffic-sign-detection\\datasets\\cul\\train\\images\\03510_06051526_0716.png: 1 duplicate labels removed\n",
      "\u001b[34m\u001b[1mtrain: \u001b[0mWARNING ⚠️ E:\\traffic-sign-detection\\datasets\\cul\\train\\images\\03510_06060857_0813.png: 1 duplicate labels removed\n",
      "\u001b[34m\u001b[1mtrain: \u001b[0mWARNING ⚠️ E:\\traffic-sign-detection\\datasets\\cul\\train\\images\\03510_06060903_0815.png: 1 duplicate labels removed\n",
      "\u001b[34m\u001b[1mtrain: \u001b[0mWARNING ⚠️ E:\\traffic-sign-detection\\datasets\\cul\\train\\images\\03510_06060958_0833.png: 1 duplicate labels removed\n",
      "\u001b[34m\u001b[1mtrain: \u001b[0mWARNING ⚠️ E:\\traffic-sign-detection\\datasets\\cul\\train\\images\\03510_06061037_0846.png: 1 duplicate labels removed\n",
      "\u001b[34m\u001b[1mtrain: \u001b[0mWARNING ⚠️ E:\\traffic-sign-detection\\datasets\\cul\\train\\images\\03510_06061049_0850.png: 1 duplicate labels removed\n",
      "\u001b[34m\u001b[1mtrain: \u001b[0mWARNING ⚠️ E:\\traffic-sign-detection\\datasets\\cul\\train\\images\\03600_06051117_0633.png: 1 duplicate labels removed\n",
      "\u001b[34m\u001b[1mtrain: \u001b[0mWARNING ⚠️ E:\\traffic-sign-detection\\datasets\\cul\\train\\images\\03600_06051135_0639.png: 1 duplicate labels removed\n",
      "\u001b[34m\u001b[1mtrain: \u001b[0mWARNING ⚠️ E:\\traffic-sign-detection\\datasets\\cul\\train\\images\\03600_06051244_0662.png: 1 duplicate labels removed\n",
      "\u001b[34m\u001b[1mtrain: \u001b[0mWARNING ⚠️ E:\\traffic-sign-detection\\datasets\\cul\\train\\images\\03600_06051347_0683.png: 1 duplicate labels removed\n",
      "\u001b[34m\u001b[1mtrain: \u001b[0mWARNING ⚠️ E:\\traffic-sign-detection\\datasets\\cul\\train\\images\\03600_06051408_0690.png: 1 duplicate labels removed\n",
      "\u001b[34m\u001b[1mtrain: \u001b[0mWARNING ⚠️ E:\\traffic-sign-detection\\datasets\\cul\\train\\images\\03600_06060718_0780.png: 1 duplicate labels removed\n",
      "\u001b[34m\u001b[1mtrain: \u001b[0mWARNING ⚠️ E:\\traffic-sign-detection\\datasets\\cul\\train\\images\\03600_06060724_0782.png: 1 duplicate labels removed\n",
      "\u001b[34m\u001b[1mtrain: \u001b[0mWARNING ⚠️ E:\\traffic-sign-detection\\datasets\\cul\\train\\images\\03690_06042104_0529.png: 1 duplicate labels removed\n",
      "\u001b[34m\u001b[1mtrain: \u001b[0mWARNING ⚠️ E:\\traffic-sign-detection\\datasets\\cul\\train\\images\\03690_06050939_0605.png: 1 duplicate labels removed\n",
      "\u001b[34m\u001b[1mtrain: \u001b[0mWARNING ⚠️ E:\\traffic-sign-detection\\datasets\\cul\\train\\images\\03690_06050951_0609.png: 1 duplicate labels removed\n",
      "\u001b[34m\u001b[1mtrain: \u001b[0mWARNING ⚠️ E:\\traffic-sign-detection\\datasets\\cul\\train\\images\\03690_06051144_0642.png: 1 duplicate labels removed\n",
      "\u001b[34m\u001b[1mtrain: \u001b[0mWARNING ⚠️ E:\\traffic-sign-detection\\datasets\\cul\\train\\images\\03690_06051356_0686.png: 2 duplicate labels removed\n",
      "\u001b[34m\u001b[1mtrain: \u001b[0mWARNING ⚠️ E:\\traffic-sign-detection\\datasets\\cul\\train\\images\\03690_06051508_0710.png: 1 duplicate labels removed\n",
      "\u001b[34m\u001b[1mtrain: \u001b[0mWARNING ⚠️ E:\\traffic-sign-detection\\datasets\\cul\\train\\images\\03690_06051535_0719.png: 1 duplicate labels removed\n",
      "\u001b[34m\u001b[1mtrain: \u001b[0mWARNING ⚠️ E:\\traffic-sign-detection\\datasets\\cul\\train\\images\\03690_06060642_0768.png: 1 duplicate labels removed\n",
      "\u001b[34m\u001b[1mtrain: \u001b[0mWARNING ⚠️ E:\\traffic-sign-detection\\datasets\\cul\\train\\images\\03690_06060952_0831.png: 1 duplicate labels removed\n",
      "\u001b[34m\u001b[1mtrain: \u001b[0mWARNING ⚠️ E:\\traffic-sign-detection\\datasets\\cul\\train\\images\\03780_06042104_0529.png: 1 duplicate labels removed\n",
      "\u001b[34m\u001b[1mtrain: \u001b[0mWARNING ⚠️ E:\\traffic-sign-detection\\datasets\\cul\\train\\images\\03780_06050927_0601.png: 1 duplicate labels removed\n",
      "\u001b[34m\u001b[1mtrain: \u001b[0mWARNING ⚠️ E:\\traffic-sign-detection\\datasets\\cul\\train\\images\\03780_06050939_0605.png: 1 duplicate labels removed\n",
      "\u001b[34m\u001b[1mtrain: \u001b[0mWARNING ⚠️ E:\\traffic-sign-detection\\datasets\\cul\\train\\images\\03780_06051050_0624.png: 1 duplicate labels removed\n",
      "\u001b[34m\u001b[1mtrain: \u001b[0mWARNING ⚠️ E:\\traffic-sign-detection\\datasets\\cul\\train\\images\\03780_06051153_0645.png: 1 duplicate labels removed\n",
      "\u001b[34m\u001b[1mtrain: \u001b[0mWARNING ⚠️ E:\\traffic-sign-detection\\datasets\\cul\\train\\images\\03780_06051356_0686.png: 1 duplicate labels removed\n",
      "\u001b[34m\u001b[1mtrain: \u001b[0mWARNING ⚠️ E:\\traffic-sign-detection\\datasets\\cul\\train\\images\\03780_06051557_0725.png: 1 duplicate labels removed\n",
      "\u001b[34m\u001b[1mtrain: \u001b[0mWARNING ⚠️ E:\\traffic-sign-detection\\datasets\\cul\\train\\images\\03780_06060642_0768.png: 1 duplicate labels removed\n",
      "\u001b[34m\u001b[1mtrain: \u001b[0mWARNING ⚠️ E:\\traffic-sign-detection\\datasets\\cul\\train\\images\\03780_06060803_0795.png: 1 duplicate labels removed\n",
      "\u001b[34m\u001b[1mtrain: \u001b[0mWARNING ⚠️ E:\\traffic-sign-detection\\datasets\\cul\\train\\images\\03780_06060809_0797.png: 1 duplicate labels removed\n",
      "\u001b[34m\u001b[1mtrain: \u001b[0mWARNING ⚠️ E:\\traffic-sign-detection\\datasets\\cul\\train\\images\\03780_06061019_0840.png: 1 duplicate labels removed\n",
      "\u001b[34m\u001b[1mtrain: \u001b[0mWARNING ⚠️ E:\\traffic-sign-detection\\datasets\\cul\\train\\images\\03870_06042055_0526.png: 1 duplicate labels removed\n",
      "\u001b[34m\u001b[1mtrain: \u001b[0mWARNING ⚠️ E:\\traffic-sign-detection\\datasets\\cul\\train\\images\\03870_06050833_0583.png: 1 duplicate labels removed\n",
      "\u001b[34m\u001b[1mtrain: \u001b[0mWARNING ⚠️ E:\\traffic-sign-detection\\datasets\\cul\\train\\images\\03870_06050918_0598.png: 1 duplicate labels removed\n",
      "\u001b[34m\u001b[1mtrain: \u001b[0mWARNING ⚠️ E:\\traffic-sign-detection\\datasets\\cul\\train\\images\\03870_06050939_0605.png: 1 duplicate labels removed\n",
      "\u001b[34m\u001b[1mtrain: \u001b[0mWARNING ⚠️ E:\\traffic-sign-detection\\datasets\\cul\\train\\images\\03870_06051153_0645.png: 1 duplicate labels removed\n",
      "\u001b[34m\u001b[1mtrain: \u001b[0mWARNING ⚠️ E:\\traffic-sign-detection\\datasets\\cul\\train\\images\\03870_06051202_0648.png: 1 duplicate labels removed\n",
      "\u001b[34m\u001b[1mtrain: \u001b[0mWARNING ⚠️ E:\\traffic-sign-detection\\datasets\\cul\\train\\images\\03870_06051326_0676.png: 1 duplicate labels removed\n",
      "\u001b[34m\u001b[1mtrain: \u001b[0mWARNING ⚠️ E:\\traffic-sign-detection\\datasets\\cul\\train\\images\\03870_06051329_0677.png: 1 duplicate labels removed\n",
      "\u001b[34m\u001b[1mtrain: \u001b[0mWARNING ⚠️ E:\\traffic-sign-detection\\datasets\\cul\\train\\images\\03870_06051441_0701.png: 1 duplicate labels removed\n",
      "\u001b[34m\u001b[1mtrain: \u001b[0mWARNING ⚠️ E:\\traffic-sign-detection\\datasets\\cul\\train\\images\\03870_06060642_0768.png: 1 duplicate labels removed\n",
      "\u001b[34m\u001b[1mtrain: \u001b[0mWARNING ⚠️ E:\\traffic-sign-detection\\datasets\\cul\\train\\images\\03870_06060803_0795.png: 1 duplicate labels removed\n",
      "\u001b[34m\u001b[1mtrain: \u001b[0mWARNING ⚠️ E:\\traffic-sign-detection\\datasets\\cul\\train\\images\\03870_06061007_0836.png: 1 duplicate labels removed\n",
      "\u001b[34m\u001b[1mtrain: \u001b[0mWARNING ⚠️ E:\\traffic-sign-detection\\datasets\\cul\\train\\images\\03960_06050900_0592.png: 1 duplicate labels removed\n",
      "\u001b[34m\u001b[1mtrain: \u001b[0mWARNING ⚠️ E:\\traffic-sign-detection\\datasets\\cul\\train\\images\\03960_06051056_0626.png: 1 duplicate labels removed\n",
      "\u001b[34m\u001b[1mtrain: \u001b[0mWARNING ⚠️ E:\\traffic-sign-detection\\datasets\\cul\\train\\images\\03960_06051135_0639.png: 1 duplicate labels removed\n",
      "\u001b[34m\u001b[1mtrain: \u001b[0mWARNING ⚠️ E:\\traffic-sign-detection\\datasets\\cul\\train\\images\\03960_06051144_0642.png: 1 duplicate labels removed\n",
      "\u001b[34m\u001b[1mtrain: \u001b[0mWARNING ⚠️ E:\\traffic-sign-detection\\datasets\\cul\\train\\images\\03960_06051202_0648.png: 1 duplicate labels removed\n",
      "\u001b[34m\u001b[1mtrain: \u001b[0mWARNING ⚠️ E:\\traffic-sign-detection\\datasets\\cul\\train\\images\\03960_06051317_0673.png: 1 duplicate labels removed\n",
      "\u001b[34m\u001b[1mtrain: \u001b[0mWARNING ⚠️ E:\\traffic-sign-detection\\datasets\\cul\\train\\images\\03960_06051414_0692.png: 1 duplicate labels removed\n",
      "\u001b[34m\u001b[1mtrain: \u001b[0mWARNING ⚠️ E:\\traffic-sign-detection\\datasets\\cul\\train\\images\\03960_06051441_0701.png: 1 duplicate labels removed\n",
      "\u001b[34m\u001b[1mtrain: \u001b[0mWARNING ⚠️ E:\\traffic-sign-detection\\datasets\\cul\\train\\images\\03960_06051557_0725.png: 1 duplicate labels removed\n",
      "\u001b[34m\u001b[1mtrain: \u001b[0mWARNING ⚠️ E:\\traffic-sign-detection\\datasets\\cul\\train\\images\\03960_06060642_0768.png: 1 duplicate labels removed\n",
      "\u001b[34m\u001b[1mtrain: \u001b[0mWARNING ⚠️ E:\\traffic-sign-detection\\datasets\\cul\\train\\images\\03960_06060751_0791.png: 1 duplicate labels removed\n",
      "\u001b[34m\u001b[1mtrain: \u001b[0mWARNING ⚠️ E:\\traffic-sign-detection\\datasets\\cul\\train\\images\\03960_06060827_0803.png: 1 duplicate labels removed\n",
      "\u001b[34m\u001b[1mtrain: \u001b[0mWARNING ⚠️ E:\\traffic-sign-detection\\datasets\\cul\\train\\images\\03960_06061004_0835.png: 1 duplicate labels removed\n",
      "\u001b[34m\u001b[1mtrain: \u001b[0mWARNING ⚠️ E:\\traffic-sign-detection\\datasets\\cul\\train\\images\\03960_06061007_0836.png: 1 duplicate labels removed\n",
      "\u001b[34m\u001b[1mtrain: \u001b[0mWARNING ⚠️ E:\\traffic-sign-detection\\datasets\\cul\\train\\images\\04050_06050900_0592.png: 1 duplicate labels removed\n",
      "\u001b[34m\u001b[1mtrain: \u001b[0mWARNING ⚠️ E:\\traffic-sign-detection\\datasets\\cul\\train\\images\\04050_06050948_0608.png: 1 duplicate labels removed\n",
      "\u001b[34m\u001b[1mtrain: \u001b[0mWARNING ⚠️ E:\\traffic-sign-detection\\datasets\\cul\\train\\images\\04050_06051105_0629.png: 1 duplicate labels removed\n",
      "\u001b[34m\u001b[1mtrain: \u001b[0mWARNING ⚠️ E:\\traffic-sign-detection\\datasets\\cul\\train\\images\\04050_06051108_0630.png: 1 duplicate labels removed\n",
      "\u001b[34m\u001b[1mtrain: \u001b[0mWARNING ⚠️ E:\\traffic-sign-detection\\datasets\\cul\\train\\images\\04050_06051208_0650.png: 1 duplicate labels removed\n",
      "\u001b[34m\u001b[1mtrain: \u001b[0mWARNING ⚠️ E:\\traffic-sign-detection\\datasets\\cul\\train\\images\\04050_06051535_0719.png: 1 duplicate labels removed\n",
      "\u001b[34m\u001b[1mtrain: \u001b[0mWARNING ⚠️ E:\\traffic-sign-detection\\datasets\\cul\\train\\images\\04050_06051538_0720.png: 1 duplicate labels removed\n",
      "\u001b[34m\u001b[1mtrain: \u001b[0mWARNING ⚠️ E:\\traffic-sign-detection\\datasets\\cul\\train\\images\\04050_06051541_0721.png: 1 duplicate labels removed\n",
      "\u001b[34m\u001b[1mtrain: \u001b[0mWARNING ⚠️ E:\\traffic-sign-detection\\datasets\\cul\\train\\images\\04050_06060845_0809.png: 1 duplicate labels removed\n",
      "\u001b[34m\u001b[1mtrain: \u001b[0mWARNING ⚠️ E:\\traffic-sign-detection\\datasets\\cul\\train\\images\\04050_06061040_0847.png: 1 duplicate labels removed\n",
      "\u001b[34m\u001b[1mtrain: \u001b[0mWARNING ⚠️ E:\\traffic-sign-detection\\datasets\\cul\\train\\images\\04140_06042104_0529.png: 1 duplicate labels removed\n",
      "\u001b[34m\u001b[1mtrain: \u001b[0mWARNING ⚠️ E:\\traffic-sign-detection\\datasets\\cul\\train\\images\\04140_06050900_0592.png: 1 duplicate labels removed\n",
      "\u001b[34m\u001b[1mtrain: \u001b[0mWARNING ⚠️ E:\\traffic-sign-detection\\datasets\\cul\\train\\images\\04140_06050948_0608.png: 1 duplicate labels removed\n",
      "\u001b[34m\u001b[1mtrain: \u001b[0mWARNING ⚠️ E:\\traffic-sign-detection\\datasets\\cul\\train\\images\\04140_06051023_0615.png: 1 duplicate labels removed\n",
      "\u001b[34m\u001b[1mtrain: \u001b[0mWARNING ⚠️ E:\\traffic-sign-detection\\datasets\\cul\\train\\images\\04140_06051105_0629.png: 1 duplicate labels removed\n",
      "\u001b[34m\u001b[1mtrain: \u001b[0mWARNING ⚠️ E:\\traffic-sign-detection\\datasets\\cul\\train\\images\\04140_06051114_0632.png: 1 duplicate labels removed\n",
      "\u001b[34m\u001b[1mtrain: \u001b[0mWARNING ⚠️ E:\\traffic-sign-detection\\datasets\\cul\\train\\images\\04140_06051126_0636.png: 1 duplicate labels removed\n",
      "\u001b[34m\u001b[1mtrain: \u001b[0mWARNING ⚠️ E:\\traffic-sign-detection\\datasets\\cul\\train\\images\\04140_06051144_0642.png: 1 duplicate labels removed\n",
      "\u001b[34m\u001b[1mtrain: \u001b[0mWARNING ⚠️ E:\\traffic-sign-detection\\datasets\\cul\\train\\images\\04140_06051338_0680.png: 1 duplicate labels removed\n",
      "\u001b[34m\u001b[1mtrain: \u001b[0mWARNING ⚠️ E:\\traffic-sign-detection\\datasets\\cul\\train\\images\\04140_06051438_0700.png: 1 duplicate labels removed\n",
      "\u001b[34m\u001b[1mtrain: \u001b[0mWARNING ⚠️ E:\\traffic-sign-detection\\datasets\\cul\\train\\images\\04140_06060955_0832.png: 1 duplicate labels removed\n",
      "\u001b[34m\u001b[1mtrain: \u001b[0mWARNING ⚠️ E:\\traffic-sign-detection\\datasets\\cul\\train\\images\\04140_06061034_0845.png: 1 duplicate labels removed\n",
      "\u001b[34m\u001b[1mtrain: \u001b[0mWARNING ⚠️ E:\\traffic-sign-detection\\datasets\\cul\\train\\images\\04140_06061049_0850.png: 1 duplicate labels removed\n",
      "\u001b[34m\u001b[1mtrain: \u001b[0mWARNING ⚠️ E:\\traffic-sign-detection\\datasets\\cul\\train\\images\\04230_06042046_0523.png: 1 duplicate labels removed\n",
      "\u001b[34m\u001b[1mtrain: \u001b[0mWARNING ⚠️ E:\\traffic-sign-detection\\datasets\\cul\\train\\images\\04230_06042058_0527.png: 1 duplicate labels removed\n",
      "\u001b[34m\u001b[1mtrain: \u001b[0mWARNING ⚠️ E:\\traffic-sign-detection\\datasets\\cul\\train\\images\\04230_06050936_0604.png: 1 duplicate labels removed\n",
      "\u001b[34m\u001b[1mtrain: \u001b[0mWARNING ⚠️ E:\\traffic-sign-detection\\datasets\\cul\\train\\images\\04230_06051105_0629.png: 1 duplicate labels removed\n",
      "\u001b[34m\u001b[1mtrain: \u001b[0mWARNING ⚠️ E:\\traffic-sign-detection\\datasets\\cul\\train\\images\\04230_06051144_0642.png: 1 duplicate labels removed\n",
      "\u001b[34m\u001b[1mtrain: \u001b[0mWARNING ⚠️ E:\\traffic-sign-detection\\datasets\\cul\\train\\images\\04230_06051323_0675.png: 1 duplicate labels removed\n",
      "\u001b[34m\u001b[1mtrain: \u001b[0mWARNING ⚠️ E:\\traffic-sign-detection\\datasets\\cul\\train\\images\\04230_06051338_0680.png: 1 duplicate labels removed\n",
      "\u001b[34m\u001b[1mtrain: \u001b[0mWARNING ⚠️ E:\\traffic-sign-detection\\datasets\\cul\\train\\images\\04230_06051438_0700.png: 1 duplicate labels removed\n",
      "\u001b[34m\u001b[1mtrain: \u001b[0mWARNING ⚠️ E:\\traffic-sign-detection\\datasets\\cul\\train\\images\\04230_06051609_0729.png: 1 duplicate labels removed\n",
      "\u001b[34m\u001b[1mtrain: \u001b[0mWARNING ⚠️ E:\\traffic-sign-detection\\datasets\\cul\\train\\images\\04230_06060642_0768.png: 1 duplicate labels removed\n",
      "\u001b[34m\u001b[1mtrain: \u001b[0mWARNING ⚠️ E:\\traffic-sign-detection\\datasets\\cul\\train\\images\\04230_06060952_0831.png: 2 duplicate labels removed\n",
      "\u001b[34m\u001b[1mtrain: \u001b[0mWARNING ⚠️ E:\\traffic-sign-detection\\datasets\\cul\\train\\images\\04320_06050559_0532.png: 1 duplicate labels removed\n",
      "\u001b[34m\u001b[1mtrain: \u001b[0mWARNING ⚠️ E:\\traffic-sign-detection\\datasets\\cul\\train\\images\\04320_06050848_0588.png: 1 duplicate labels removed\n",
      "\u001b[34m\u001b[1mtrain: \u001b[0mWARNING ⚠️ E:\\traffic-sign-detection\\datasets\\cul\\train\\images\\04320_06050948_0608.png: 1 duplicate labels removed\n",
      "\u001b[34m\u001b[1mtrain: \u001b[0mWARNING ⚠️ E:\\traffic-sign-detection\\datasets\\cul\\train\\images\\04320_06051317_0673.png: 1 duplicate labels removed\n",
      "\u001b[34m\u001b[1mtrain: \u001b[0mWARNING ⚠️ E:\\traffic-sign-detection\\datasets\\cul\\train\\images\\04320_06051541_0721.png: 2 duplicate labels removed\n",
      "\u001b[34m\u001b[1mtrain: \u001b[0mWARNING ⚠️ E:\\traffic-sign-detection\\datasets\\cul\\train\\images\\04320_06051557_0725.png: 1 duplicate labels removed\n",
      "\u001b[34m\u001b[1mtrain: \u001b[0mWARNING ⚠️ E:\\traffic-sign-detection\\datasets\\cul\\train\\images\\04320_06060751_0791.png: 1 duplicate labels removed\n",
      "\u001b[34m\u001b[1mtrain: \u001b[0mWARNING ⚠️ E:\\traffic-sign-detection\\datasets\\cul\\train\\images\\04320_06061025_0842.png: 1 duplicate labels removed\n",
      "\u001b[34m\u001b[1mtrain: \u001b[0mWARNING ⚠️ E:\\traffic-sign-detection\\datasets\\cul\\train\\images\\04320_06061034_0845.png: 1 duplicate labels removed\n",
      "\u001b[34m\u001b[1mtrain: \u001b[0mWARNING ⚠️ E:\\traffic-sign-detection\\datasets\\cul\\train\\images\\04410_06051111_0631.png: 1 duplicate labels removed\n",
      "\u001b[34m\u001b[1mtrain: \u001b[0mWARNING ⚠️ E:\\traffic-sign-detection\\datasets\\cul\\train\\images\\04410_06051329_0677.png: 1 duplicate labels removed\n",
      "\u001b[34m\u001b[1mtrain: \u001b[0mWARNING ⚠️ E:\\traffic-sign-detection\\datasets\\cul\\train\\images\\04410_06051429_0697.png: 1 duplicate labels removed\n",
      "\u001b[34m\u001b[1mtrain: \u001b[0mWARNING ⚠️ E:\\traffic-sign-detection\\datasets\\cul\\train\\images\\04410_06051541_0721.png: 2 duplicate labels removed\n",
      "\u001b[34m\u001b[1mtrain: \u001b[0mWARNING ⚠️ E:\\traffic-sign-detection\\datasets\\cul\\train\\images\\04410_06060642_0768.png: 1 duplicate labels removed\n",
      "\u001b[34m\u001b[1mtrain: \u001b[0mWARNING ⚠️ E:\\traffic-sign-detection\\datasets\\cul\\train\\images\\04410_06060839_0807.png: 1 duplicate labels removed\n",
      "\u001b[34m\u001b[1mtrain: \u001b[0mWARNING ⚠️ E:\\traffic-sign-detection\\datasets\\cul\\train\\images\\04410_06061025_0842.png: 1 duplicate labels removed\n",
      "\u001b[34m\u001b[1mtrain: \u001b[0mWARNING ⚠️ E:\\traffic-sign-detection\\datasets\\cul\\train\\images\\04410_06061037_0846.png: 1 duplicate labels removed\n",
      "\u001b[34m\u001b[1mtrain: \u001b[0mWARNING ⚠️ E:\\traffic-sign-detection\\datasets\\cul\\train\\images\\04410_06061049_0850.png: 1 duplicate labels removed\n",
      "\u001b[34m\u001b[1mtrain: \u001b[0mWARNING ⚠️ E:\\traffic-sign-detection\\datasets\\cul\\train\\images\\04500_06042107_0530.png: 1 duplicate labels removed\n",
      "\u001b[34m\u001b[1mtrain: \u001b[0mWARNING ⚠️ E:\\traffic-sign-detection\\datasets\\cul\\train\\images\\04500_06050918_0598.png: 1 duplicate labels removed\n",
      "\u001b[34m\u001b[1mtrain: \u001b[0mWARNING ⚠️ E:\\traffic-sign-detection\\datasets\\cul\\train\\images\\04500_06051329_0677.png: 1 duplicate labels removed\n",
      "\u001b[34m\u001b[1mtrain: \u001b[0mWARNING ⚠️ E:\\traffic-sign-detection\\datasets\\cul\\train\\images\\04500_06051538_0720.png: 1 duplicate labels removed\n",
      "\u001b[34m\u001b[1mtrain: \u001b[0mWARNING ⚠️ E:\\traffic-sign-detection\\datasets\\cul\\train\\images\\04500_06060900_0814.png: 1 duplicate labels removed\n",
      "\u001b[34m\u001b[1mtrain: \u001b[0mWARNING ⚠️ E:\\traffic-sign-detection\\datasets\\cul\\train\\images\\04500_06061025_0842.png: 1 duplicate labels removed\n",
      "\u001b[34m\u001b[1mtrain: \u001b[0mWARNING ⚠️ E:\\traffic-sign-detection\\datasets\\cul\\train\\images\\04500_06061046_0849.png: 1 duplicate labels removed\n",
      "\u001b[34m\u001b[1mtrain: \u001b[0mWARNING ⚠️ E:\\traffic-sign-detection\\datasets\\cul\\train\\images\\04590_06050903_0593.png: 1 duplicate labels removed\n",
      "\u001b[34m\u001b[1mtrain: \u001b[0mWARNING ⚠️ E:\\traffic-sign-detection\\datasets\\cul\\train\\images\\04590_06050921_0599.png: 1 duplicate labels removed\n",
      "\u001b[34m\u001b[1mtrain: \u001b[0mWARNING ⚠️ E:\\traffic-sign-detection\\datasets\\cul\\train\\images\\04590_06050933_0603.png: 1 duplicate labels removed\n",
      "\u001b[34m\u001b[1mtrain: \u001b[0mWARNING ⚠️ E:\\traffic-sign-detection\\datasets\\cul\\train\\images\\04590_06051029_0617.png: 1 duplicate labels removed\n",
      "\u001b[34m\u001b[1mtrain: \u001b[0mWARNING ⚠️ E:\\traffic-sign-detection\\datasets\\cul\\train\\images\\04590_06051114_0632.png: 1 duplicate labels removed\n",
      "\u001b[34m\u001b[1mtrain: \u001b[0mWARNING ⚠️ E:\\traffic-sign-detection\\datasets\\cul\\train\\images\\04590_06051241_0661.png: 1 duplicate labels removed\n",
      "\u001b[34m\u001b[1mtrain: \u001b[0mWARNING ⚠️ E:\\traffic-sign-detection\\datasets\\cul\\train\\images\\04590_06051538_0720.png: 2 duplicate labels removed\n",
      "\u001b[34m\u001b[1mtrain: \u001b[0mWARNING ⚠️ E:\\traffic-sign-detection\\datasets\\cul\\train\\images\\04590_06051634_0737.png: 1 duplicate labels removed\n",
      "\u001b[34m\u001b[1mtrain: \u001b[0mWARNING ⚠️ E:\\traffic-sign-detection\\datasets\\cul\\train\\images\\04590_06060751_0791.png: 1 duplicate labels removed\n",
      "\u001b[34m\u001b[1mtrain: \u001b[0mWARNING ⚠️ E:\\traffic-sign-detection\\datasets\\cul\\train\\images\\04590_06060900_0814.png: 1 duplicate labels removed\n",
      "\u001b[34m\u001b[1mtrain: \u001b[0mWARNING ⚠️ E:\\traffic-sign-detection\\datasets\\cul\\train\\images\\04590_06060925_0822.png: 1 duplicate labels removed\n",
      "\u001b[34m\u001b[1mtrain: \u001b[0mWARNING ⚠️ E:\\traffic-sign-detection\\datasets\\cul\\train\\images\\04680_06050857_0591.png: 1 duplicate labels removed\n",
      "\u001b[34m\u001b[1mtrain: \u001b[0mWARNING ⚠️ E:\\traffic-sign-detection\\datasets\\cul\\train\\images\\04680_06051029_0617.png: 1 duplicate labels removed\n",
      "\u001b[34m\u001b[1mtrain: \u001b[0mWARNING ⚠️ E:\\traffic-sign-detection\\datasets\\cul\\train\\images\\04680_06051135_0639.png: 1 duplicate labels removed\n",
      "\u001b[34m\u001b[1mtrain: \u001b[0mWARNING ⚠️ E:\\traffic-sign-detection\\datasets\\cul\\train\\images\\04680_06051253_0665.png: 1 duplicate labels removed\n",
      "\u001b[34m\u001b[1mtrain: \u001b[0mWARNING ⚠️ E:\\traffic-sign-detection\\datasets\\cul\\train\\images\\04680_06051438_0700.png: 1 duplicate labels removed\n",
      "\u001b[34m\u001b[1mtrain: \u001b[0mWARNING ⚠️ E:\\traffic-sign-detection\\datasets\\cul\\train\\images\\04680_06051511_0711.png: 1 duplicate labels removed\n",
      "\u001b[34m\u001b[1mtrain: \u001b[0mWARNING ⚠️ E:\\traffic-sign-detection\\datasets\\cul\\train\\images\\04680_06060751_0791.png: 1 duplicate labels removed\n",
      "\u001b[34m\u001b[1mtrain: \u001b[0mWARNING ⚠️ E:\\traffic-sign-detection\\datasets\\cul\\train\\images\\04680_06060916_0819.png: 2 duplicate labels removed\n",
      "\u001b[34m\u001b[1mtrain: \u001b[0mWARNING ⚠️ E:\\traffic-sign-detection\\datasets\\cul\\train\\images\\04770_06050857_0591.png: 1 duplicate labels removed\n",
      "\u001b[34m\u001b[1mtrain: \u001b[0mWARNING ⚠️ E:\\traffic-sign-detection\\datasets\\cul\\train\\images\\04770_06050933_0603.png: 1 duplicate labels removed\n",
      "\u001b[34m\u001b[1mtrain: \u001b[0mWARNING ⚠️ E:\\traffic-sign-detection\\datasets\\cul\\train\\images\\04770_06051159_0647.png: 1 duplicate labels removed\n",
      "\u001b[34m\u001b[1mtrain: \u001b[0mWARNING ⚠️ E:\\traffic-sign-detection\\datasets\\cul\\train\\images\\04770_06051253_0665.png: 1 duplicate labels removed\n",
      "\u001b[34m\u001b[1mtrain: \u001b[0mWARNING ⚠️ E:\\traffic-sign-detection\\datasets\\cul\\train\\images\\04770_06051335_0679.png: 1 duplicate labels removed\n",
      "\u001b[34m\u001b[1mtrain: \u001b[0mWARNING ⚠️ E:\\traffic-sign-detection\\datasets\\cul\\train\\images\\04770_06051338_0680.png: 1 duplicate labels removed\n",
      "\u001b[34m\u001b[1mtrain: \u001b[0mWARNING ⚠️ E:\\traffic-sign-detection\\datasets\\cul\\train\\images\\04770_06051634_0737.png: 1 duplicate labels removed\n",
      "\u001b[34m\u001b[1mtrain: \u001b[0mWARNING ⚠️ E:\\traffic-sign-detection\\datasets\\cul\\train\\images\\04770_06060751_0791.png: 1 duplicate labels removed\n",
      "\u001b[34m\u001b[1mtrain: \u001b[0mWARNING ⚠️ E:\\traffic-sign-detection\\datasets\\cul\\train\\images\\04770_06061034_0845.png: 1 duplicate labels removed\n",
      "\u001b[34m\u001b[1mtrain: \u001b[0mWARNING ⚠️ E:\\traffic-sign-detection\\datasets\\cul\\train\\images\\04860_06050936_0604.png: 1 duplicate labels removed\n",
      "\u001b[34m\u001b[1mtrain: \u001b[0mWARNING ⚠️ E:\\traffic-sign-detection\\datasets\\cul\\train\\images\\04860_06051126_0636.png: 1 duplicate labels removed\n",
      "\u001b[34m\u001b[1mtrain: \u001b[0mWARNING ⚠️ E:\\traffic-sign-detection\\datasets\\cul\\train\\images\\04860_06051147_0643.png: 1 duplicate labels removed\n",
      "\u001b[34m\u001b[1mtrain: \u001b[0mWARNING ⚠️ E:\\traffic-sign-detection\\datasets\\cul\\train\\images\\04860_06051338_0680.png: 1 duplicate labels removed\n",
      "\u001b[34m\u001b[1mtrain: \u001b[0mWARNING ⚠️ E:\\traffic-sign-detection\\datasets\\cul\\train\\images\\04860_06051423_0695.png: 1 duplicate labels removed\n",
      "\u001b[34m\u001b[1mtrain: \u001b[0mWARNING ⚠️ E:\\traffic-sign-detection\\datasets\\cul\\train\\images\\04860_06051609_0729.png: 1 duplicate labels removed\n",
      "\u001b[34m\u001b[1mtrain: \u001b[0mWARNING ⚠️ E:\\traffic-sign-detection\\datasets\\cul\\train\\images\\04860_06060751_0791.png: 1 duplicate labels removed\n",
      "\u001b[34m\u001b[1mtrain: \u001b[0mWARNING ⚠️ E:\\traffic-sign-detection\\datasets\\cul\\train\\images\\04860_06061034_0845.png: 1 duplicate labels removed\n",
      "\u001b[34m\u001b[1mtrain: \u001b[0mWARNING ⚠️ E:\\traffic-sign-detection\\datasets\\cul\\train\\images\\04860_06061049_0850.png: 1 duplicate labels removed\n",
      "\u001b[34m\u001b[1mtrain: \u001b[0mWARNING ⚠️ E:\\traffic-sign-detection\\datasets\\cul\\train\\images\\04950_06042043_0522.png: 1 duplicate labels removed\n",
      "\u001b[34m\u001b[1mtrain: \u001b[0mWARNING ⚠️ E:\\traffic-sign-detection\\datasets\\cul\\train\\images\\04950_06050924_0600.png: 1 duplicate labels removed\n",
      "\u001b[34m\u001b[1mtrain: \u001b[0mWARNING ⚠️ E:\\traffic-sign-detection\\datasets\\cul\\train\\images\\04950_06050936_0604.png: 1 duplicate labels removed\n",
      "\u001b[34m\u001b[1mtrain: \u001b[0mWARNING ⚠️ E:\\traffic-sign-detection\\datasets\\cul\\train\\images\\04950_06051126_0636.png: 1 duplicate labels removed\n",
      "\u001b[34m\u001b[1mtrain: \u001b[0mWARNING ⚠️ E:\\traffic-sign-detection\\datasets\\cul\\train\\images\\04950_06051144_0642.png: 1 duplicate labels removed\n",
      "\u001b[34m\u001b[1mtrain: \u001b[0mWARNING ⚠️ E:\\traffic-sign-detection\\datasets\\cul\\train\\images\\04950_06051323_0675.png: 1 duplicate labels removed\n",
      "\u001b[34m\u001b[1mtrain: \u001b[0mWARNING ⚠️ E:\\traffic-sign-detection\\datasets\\cul\\train\\images\\04950_06051338_0680.png: 1 duplicate labels removed\n",
      "\u001b[34m\u001b[1mtrain: \u001b[0mWARNING ⚠️ E:\\traffic-sign-detection\\datasets\\cul\\train\\images\\04950_06051557_0725.png: 1 duplicate labels removed\n",
      "\u001b[34m\u001b[1mtrain: \u001b[0mWARNING ⚠️ E:\\traffic-sign-detection\\datasets\\cul\\train\\images\\04950_06051710_0749.png: 1 duplicate labels removed\n",
      "\u001b[34m\u001b[1mtrain: \u001b[0mWARNING ⚠️ E:\\traffic-sign-detection\\datasets\\cul\\train\\images\\04950_06060800_0794.png: 1 duplicate labels removed\n",
      "\u001b[34m\u001b[1mtrain: \u001b[0mWARNING ⚠️ E:\\traffic-sign-detection\\datasets\\cul\\train\\images\\04950_06060940_0827.png: 1 duplicate labels removed\n",
      "\u001b[34m\u001b[1mtrain: \u001b[0mWARNING ⚠️ E:\\traffic-sign-detection\\datasets\\cul\\train\\images\\05040_06051056_0626.png: 1 duplicate labels removed\n",
      "\u001b[34m\u001b[1mtrain: \u001b[0mWARNING ⚠️ E:\\traffic-sign-detection\\datasets\\cul\\train\\images\\05040_06051311_0671.png: 1 duplicate labels removed\n",
      "\u001b[34m\u001b[1mtrain: \u001b[0mWARNING ⚠️ E:\\traffic-sign-detection\\datasets\\cul\\train\\images\\05040_06051323_0675.png: 1 duplicate labels removed\n",
      "\u001b[34m\u001b[1mtrain: \u001b[0mWARNING ⚠️ E:\\traffic-sign-detection\\datasets\\cul\\train\\images\\05040_06051338_0680.png: 1 duplicate labels removed\n",
      "\u001b[34m\u001b[1mtrain: \u001b[0mWARNING ⚠️ E:\\traffic-sign-detection\\datasets\\cul\\train\\images\\05040_06051551_0723.png: 1 duplicate labels removed\n",
      "\u001b[34m\u001b[1mtrain: \u001b[0mWARNING ⚠️ E:\\traffic-sign-detection\\datasets\\cul\\train\\images\\05040_06060751_0791.png: 1 duplicate labels removed\n",
      "\u001b[34m\u001b[1mtrain: \u001b[0mWARNING ⚠️ E:\\traffic-sign-detection\\datasets\\cul\\train\\images\\05040_06060900_0814.png: 1 duplicate labels removed\n",
      "\u001b[34m\u001b[1mtrain: \u001b[0mWARNING ⚠️ E:\\traffic-sign-detection\\datasets\\cul\\train\\images\\05130_06051323_0675.png: 1 duplicate labels removed\n",
      "\u001b[34m\u001b[1mtrain: \u001b[0mWARNING ⚠️ E:\\traffic-sign-detection\\datasets\\cul\\train\\images\\05130_06051359_0687.png: 1 duplicate labels removed\n",
      "\u001b[34m\u001b[1mtrain: \u001b[0mWARNING ⚠️ E:\\traffic-sign-detection\\datasets\\cul\\train\\images\\05130_06051551_0723.png: 2 duplicate labels removed\n",
      "\u001b[34m\u001b[1mtrain: \u001b[0mWARNING ⚠️ E:\\traffic-sign-detection\\datasets\\cul\\train\\images\\05130_06051609_0729.png: 1 duplicate labels removed\n",
      "\u001b[34m\u001b[1mtrain: \u001b[0mWARNING ⚠️ E:\\traffic-sign-detection\\datasets\\cul\\train\\images\\05130_06051755_0764.png: 1 duplicate labels removed\n",
      "\u001b[34m\u001b[1mtrain: \u001b[0mWARNING ⚠️ E:\\traffic-sign-detection\\datasets\\cul\\train\\images\\05130_06060751_0791.png: 1 duplicate labels removed\n",
      "\u001b[34m\u001b[1mtrain: \u001b[0mWARNING ⚠️ E:\\traffic-sign-detection\\datasets\\cul\\train\\images\\05130_06060940_0827.png: 1 duplicate labels removed\n",
      "\u001b[34m\u001b[1mtrain: \u001b[0mWARNING ⚠️ E:\\traffic-sign-detection\\datasets\\cul\\train\\images\\05130_06061031_0844.png: 1 duplicate labels removed\n",
      "\u001b[34m\u001b[1mtrain: \u001b[0mWARNING ⚠️ E:\\traffic-sign-detection\\datasets\\cul\\train\\images\\05220_06050851_0589.png: 1 duplicate labels removed\n",
      "\u001b[34m\u001b[1mtrain: \u001b[0mWARNING ⚠️ E:\\traffic-sign-detection\\datasets\\cul\\train\\images\\05220_06051317_0673.png: 1 duplicate labels removed\n",
      "\u001b[34m\u001b[1mtrain: \u001b[0mWARNING ⚠️ E:\\traffic-sign-detection\\datasets\\cul\\train\\images\\05220_06051402_0688.png: 1 duplicate labels removed\n",
      "\u001b[34m\u001b[1mtrain: \u001b[0mWARNING ⚠️ E:\\traffic-sign-detection\\datasets\\cul\\train\\images\\05220_06060730_0784.png: 1 duplicate labels removed\n",
      "\u001b[34m\u001b[1mtrain: \u001b[0mWARNING ⚠️ E:\\traffic-sign-detection\\datasets\\cul\\train\\images\\05220_06060916_0819.png: 1 duplicate labels removed\n",
      "\u001b[34m\u001b[1mtrain: \u001b[0mWARNING ⚠️ E:\\traffic-sign-detection\\datasets\\cul\\train\\images\\05310_06042055_0526.png: 1 duplicate labels removed\n",
      "\u001b[34m\u001b[1mtrain: \u001b[0mWARNING ⚠️ E:\\traffic-sign-detection\\datasets\\cul\\train\\images\\05310_06050848_0588.png: 1 duplicate labels removed\n",
      "\u001b[34m\u001b[1mtrain: \u001b[0mWARNING ⚠️ E:\\traffic-sign-detection\\datasets\\cul\\train\\images\\05310_06050909_0595.png: 1 duplicate labels removed\n",
      "\u001b[34m\u001b[1mtrain: \u001b[0mWARNING ⚠️ E:\\traffic-sign-detection\\datasets\\cul\\train\\images\\05310_06050927_0601.png: 1 duplicate labels removed\n",
      "\u001b[34m\u001b[1mtrain: \u001b[0mWARNING ⚠️ E:\\traffic-sign-detection\\datasets\\cul\\train\\images\\05310_06051023_0615.png: 1 duplicate labels removed\n",
      "\u001b[34m\u001b[1mtrain: \u001b[0mWARNING ⚠️ E:\\traffic-sign-detection\\datasets\\cul\\train\\images\\05310_06051120_0634.png: 1 duplicate labels removed\n",
      "\u001b[34m\u001b[1mtrain: \u001b[0mWARNING ⚠️ E:\\traffic-sign-detection\\datasets\\cul\\train\\images\\05310_06051126_0636.png: 1 duplicate labels removed\n",
      "\u001b[34m\u001b[1mtrain: \u001b[0mWARNING ⚠️ E:\\traffic-sign-detection\\datasets\\cul\\train\\images\\05310_06051317_0673.png: 1 duplicate labels removed\n",
      "\u001b[34m\u001b[1mtrain: \u001b[0mWARNING ⚠️ E:\\traffic-sign-detection\\datasets\\cul\\train\\images\\05310_06051323_0675.png: 1 duplicate labels removed\n",
      "\u001b[34m\u001b[1mtrain: \u001b[0mWARNING ⚠️ E:\\traffic-sign-detection\\datasets\\cul\\train\\images\\05310_06051402_0688.png: 1 duplicate labels removed\n",
      "\u001b[34m\u001b[1mtrain: \u001b[0mWARNING ⚠️ E:\\traffic-sign-detection\\datasets\\cul\\train\\images\\05310_06051435_0699.png: 1 duplicate labels removed\n",
      "\u001b[34m\u001b[1mtrain: \u001b[0mWARNING ⚠️ E:\\traffic-sign-detection\\datasets\\cul\\train\\images\\05310_06051551_0723.png: 1 duplicate labels removed\n",
      "\u001b[34m\u001b[1mtrain: \u001b[0mWARNING ⚠️ E:\\traffic-sign-detection\\datasets\\cul\\train\\images\\05310_06060952_0831.png: 1 duplicate labels removed\n",
      "\u001b[34m\u001b[1mtrain: \u001b[0mWARNING ⚠️ E:\\traffic-sign-detection\\datasets\\cul\\train\\images\\05310_06061046_0849.png: 1 duplicate labels removed\n"
     ]
    },
    {
     "name": "stderr",
     "output_type": "stream",
     "text": [
      "\n",
      "\u001b[34m\u001b[1mval: \u001b[0mScanning E:\\traffic-sign-detection\\datasets\\cul\\val\\labels.cache... 1363 images, 171 backgrounds, 0 corrupt: 100%|██████████| 1363/1363 [00:00<?, ?it/s]\u001b[0m"
     ]
    },
    {
     "name": "stdout",
     "output_type": "stream",
     "text": [
      "\u001b[34m\u001b[1mval: \u001b[0mWARNING ⚠️ E:\\traffic-sign-detection\\datasets\\cul\\val\\images\\00000_06051405_0689.png: 1 duplicate labels removed\n",
      "\u001b[34m\u001b[1mval: \u001b[0mWARNING ⚠️ E:\\traffic-sign-detection\\datasets\\cul\\val\\images\\00090_06051426_0696.png: 1 duplicate labels removed\n",
      "\u001b[34m\u001b[1mval: \u001b[0mWARNING ⚠️ E:\\traffic-sign-detection\\datasets\\cul\\val\\images\\00090_06061034_0845.png: 1 duplicate labels removed\n",
      "\u001b[34m\u001b[1mval: \u001b[0mWARNING ⚠️ E:\\traffic-sign-detection\\datasets\\cul\\val\\images\\00360_06042049_0524.png: 1 duplicate labels removed\n",
      "\u001b[34m\u001b[1mval: \u001b[0mWARNING ⚠️ E:\\traffic-sign-detection\\datasets\\cul\\val\\images\\00450_06060815_0799.png: 1 duplicate labels removed\n",
      "\u001b[34m\u001b[1mval: \u001b[0mWARNING ⚠️ E:\\traffic-sign-detection\\datasets\\cul\\val\\images\\00540_06051108_0630.png: 1 duplicate labels removed\n",
      "\u001b[34m\u001b[1mval: \u001b[0mWARNING ⚠️ E:\\traffic-sign-detection\\datasets\\cul\\val\\images\\00720_06042049_0524.png: 2 duplicate labels removed\n",
      "\u001b[34m\u001b[1mval: \u001b[0mWARNING ⚠️ E:\\traffic-sign-detection\\datasets\\cul\\val\\images\\00810_06051056_0626.png: 1 duplicate labels removed\n",
      "\u001b[34m\u001b[1mval: \u001b[0mWARNING ⚠️ E:\\traffic-sign-detection\\datasets\\cul\\val\\images\\00900_06050606_0534.png: 1 duplicate labels removed\n",
      "\u001b[34m\u001b[1mval: \u001b[0mWARNING ⚠️ E:\\traffic-sign-detection\\datasets\\cul\\val\\images\\00900_06060800_0794.png: 1 duplicate labels removed\n",
      "\u001b[34m\u001b[1mval: \u001b[0mWARNING ⚠️ E:\\traffic-sign-detection\\datasets\\cul\\val\\images\\00990_06051326_0676.png: 2 duplicate labels removed\n",
      "\u001b[34m\u001b[1mval: \u001b[0mWARNING ⚠️ E:\\traffic-sign-detection\\datasets\\cul\\val\\images\\01170_06051059_0627.png: 2 duplicate labels removed\n",
      "\u001b[34m\u001b[1mval: \u001b[0mWARNING ⚠️ E:\\traffic-sign-detection\\datasets\\cul\\val\\images\\01170_06060934_0825.png: 1 duplicate labels removed\n",
      "\u001b[34m\u001b[1mval: \u001b[0mWARNING ⚠️ E:\\traffic-sign-detection\\datasets\\cul\\val\\images\\01260_06042052_0525.png: 1 duplicate labels removed\n",
      "\u001b[34m\u001b[1mval: \u001b[0mWARNING ⚠️ E:\\traffic-sign-detection\\datasets\\cul\\val\\images\\01260_06051147_0643.png: 1 duplicate labels removed\n",
      "\u001b[34m\u001b[1mval: \u001b[0mWARNING ⚠️ E:\\traffic-sign-detection\\datasets\\cul\\val\\images\\01260_06051704_0747.png: 1 duplicate labels removed\n",
      "\u001b[34m\u001b[1mval: \u001b[0mWARNING ⚠️ E:\\traffic-sign-detection\\datasets\\cul\\val\\images\\01350_06051514_0712.png: 1 duplicate labels removed\n",
      "\u001b[34m\u001b[1mval: \u001b[0mWARNING ⚠️ E:\\traffic-sign-detection\\datasets\\cul\\val\\images\\01440_06051544_0722.png: 1 duplicate labels removed\n",
      "\u001b[34m\u001b[1mval: \u001b[0mWARNING ⚠️ E:\\traffic-sign-detection\\datasets\\cul\\val\\images\\01530_06042052_0525.png: 1 duplicate labels removed\n",
      "\u001b[34m\u001b[1mval: \u001b[0mWARNING ⚠️ E:\\traffic-sign-detection\\datasets\\cul\\val\\images\\01530_06042055_0526.png: 1 duplicate labels removed\n",
      "\u001b[34m\u001b[1mval: \u001b[0mWARNING ⚠️ E:\\traffic-sign-detection\\datasets\\cul\\val\\images\\01530_06051117_0633.png: 1 duplicate labels removed\n",
      "\u001b[34m\u001b[1mval: \u001b[0mWARNING ⚠️ E:\\traffic-sign-detection\\datasets\\cul\\val\\images\\01710_06060639_0767.png: 1 duplicate labels removed\n",
      "\u001b[34m\u001b[1mval: \u001b[0mWARNING ⚠️ E:\\traffic-sign-detection\\datasets\\cul\\val\\images\\01800_06051429_0697.png: 2 duplicate labels removed\n",
      "\u001b[34m\u001b[1mval: \u001b[0mWARNING ⚠️ E:\\traffic-sign-detection\\datasets\\cul\\val\\images\\01890_06060803_0795.png: 1 duplicate labels removed\n",
      "\u001b[34m\u001b[1mval: \u001b[0mWARNING ⚠️ E:\\traffic-sign-detection\\datasets\\cul\\val\\images\\01980_06051205_0649.png: 1 duplicate labels removed\n",
      "\u001b[34m\u001b[1mval: \u001b[0mWARNING ⚠️ E:\\traffic-sign-detection\\datasets\\cul\\val\\images\\01980_06051520_0714.png: 1 duplicate labels removed\n",
      "\u001b[34m\u001b[1mval: \u001b[0mWARNING ⚠️ E:\\traffic-sign-detection\\datasets\\cul\\val\\images\\01980_06051637_0738.png: 1 duplicate labels removed\n",
      "\u001b[34m\u001b[1mval: \u001b[0mWARNING ⚠️ E:\\traffic-sign-detection\\datasets\\cul\\val\\images\\01980_06061031_0844.png: 1 duplicate labels removed\n",
      "\u001b[34m\u001b[1mval: \u001b[0mWARNING ⚠️ E:\\traffic-sign-detection\\datasets\\cul\\val\\images\\02070_06051108_0630.png: 1 duplicate labels removed\n",
      "\u001b[34m\u001b[1mval: \u001b[0mWARNING ⚠️ E:\\traffic-sign-detection\\datasets\\cul\\val\\images\\02070_06051508_0710.png: 1 duplicate labels removed\n",
      "\u001b[34m\u001b[1mval: \u001b[0mWARNING ⚠️ E:\\traffic-sign-detection\\datasets\\cul\\val\\images\\02070_06051538_0720.png: 1 duplicate labels removed\n",
      "\u001b[34m\u001b[1mval: \u001b[0mWARNING ⚠️ E:\\traffic-sign-detection\\datasets\\cul\\val\\images\\02070_06061034_0845.png: 1 duplicate labels removed\n",
      "\u001b[34m\u001b[1mval: \u001b[0mWARNING ⚠️ E:\\traffic-sign-detection\\datasets\\cul\\val\\images\\02160_06051526_0716.png: 1 duplicate labels removed\n",
      "\u001b[34m\u001b[1mval: \u001b[0mWARNING ⚠️ E:\\traffic-sign-detection\\datasets\\cul\\val\\images\\02250_06042110_0531.png: 1 duplicate labels removed\n",
      "\u001b[34m\u001b[1mval: \u001b[0mWARNING ⚠️ E:\\traffic-sign-detection\\datasets\\cul\\val\\images\\02250_06051308_0670.png: 1 duplicate labels removed\n",
      "\u001b[34m\u001b[1mval: \u001b[0mWARNING ⚠️ E:\\traffic-sign-detection\\datasets\\cul\\val\\images\\02340_06060830_0804.png: 1 duplicate labels removed\n",
      "\u001b[34m\u001b[1mval: \u001b[0mWARNING ⚠️ E:\\traffic-sign-detection\\datasets\\cul\\val\\images\\02520_06042058_0527.png: 1 duplicate labels removed\n",
      "\u001b[34m\u001b[1mval: \u001b[0mWARNING ⚠️ E:\\traffic-sign-detection\\datasets\\cul\\val\\images\\02520_06061034_0845.png: 1 duplicate labels removed\n",
      "\u001b[34m\u001b[1mval: \u001b[0mWARNING ⚠️ E:\\traffic-sign-detection\\datasets\\cul\\val\\images\\02610_06060812_0798.png: 1 duplicate labels removed\n",
      "\u001b[34m\u001b[1mval: \u001b[0mWARNING ⚠️ E:\\traffic-sign-detection\\datasets\\cul\\val\\images\\02700_06051526_0716.png: 1 duplicate labels removed\n",
      "\u001b[34m\u001b[1mval: \u001b[0mWARNING ⚠️ E:\\traffic-sign-detection\\datasets\\cul\\val\\images\\02790_06051050_0624.png: 1 duplicate labels removed\n",
      "\u001b[34m\u001b[1mval: \u001b[0mWARNING ⚠️ E:\\traffic-sign-detection\\datasets\\cul\\val\\images\\02790_06051612_0730.png: 1 duplicate labels removed\n",
      "\u001b[34m\u001b[1mval: \u001b[0mWARNING ⚠️ E:\\traffic-sign-detection\\datasets\\cul\\val\\images\\02880_06051147_0643.png: 1 duplicate labels removed\n",
      "\u001b[34m\u001b[1mval: \u001b[0mWARNING ⚠️ E:\\traffic-sign-detection\\datasets\\cul\\val\\images\\02880_06051520_0714.png: 1 duplicate labels removed\n",
      "\u001b[34m\u001b[1mval: \u001b[0mWARNING ⚠️ E:\\traffic-sign-detection\\datasets\\cul\\val\\images\\02970_06050839_0585.png: 1 duplicate labels removed\n",
      "\u001b[34m\u001b[1mval: \u001b[0mWARNING ⚠️ E:\\traffic-sign-detection\\datasets\\cul\\val\\images\\03240_06050848_0588.png: 1 duplicate labels removed\n",
      "\u001b[34m\u001b[1mval: \u001b[0mWARNING ⚠️ E:\\traffic-sign-detection\\datasets\\cul\\val\\images\\03240_06051612_0730.png: 1 duplicate labels removed\n",
      "\u001b[34m\u001b[1mval: \u001b[0mWARNING ⚠️ E:\\traffic-sign-detection\\datasets\\cul\\val\\images\\03330_06051135_0639.png: 1 duplicate labels removed\n",
      "\u001b[34m\u001b[1mval: \u001b[0mWARNING ⚠️ E:\\traffic-sign-detection\\datasets\\cul\\val\\images\\03330_06060903_0815.png: 1 duplicate labels removed\n",
      "\u001b[34m\u001b[1mval: \u001b[0mWARNING ⚠️ E:\\traffic-sign-detection\\datasets\\cul\\val\\images\\03330_06061013_0838.png: 1 duplicate labels removed\n",
      "\u001b[34m\u001b[1mval: \u001b[0mWARNING ⚠️ E:\\traffic-sign-detection\\datasets\\cul\\val\\images\\03420_06051414_0692.png: 1 duplicate labels removed\n",
      "\u001b[34m\u001b[1mval: \u001b[0mWARNING ⚠️ E:\\traffic-sign-detection\\datasets\\cul\\val\\images\\03600_06051447_0703.png: 1 duplicate labels removed\n",
      "\u001b[34m\u001b[1mval: \u001b[0mWARNING ⚠️ E:\\traffic-sign-detection\\datasets\\cul\\val\\images\\03690_06051438_0700.png: 1 duplicate labels removed\n",
      "\u001b[34m\u001b[1mval: \u001b[0mWARNING ⚠️ E:\\traffic-sign-detection\\datasets\\cul\\val\\images\\03870_06050921_0599.png: 1 duplicate labels removed\n",
      "\u001b[34m\u001b[1mval: \u001b[0mWARNING ⚠️ E:\\traffic-sign-detection\\datasets\\cul\\val\\images\\03870_06051535_0719.png: 1 duplicate labels removed\n",
      "\u001b[34m\u001b[1mval: \u001b[0mWARNING ⚠️ E:\\traffic-sign-detection\\datasets\\cul\\val\\images\\04050_06051144_0642.png: 1 duplicate labels removed\n",
      "\u001b[34m\u001b[1mval: \u001b[0mWARNING ⚠️ E:\\traffic-sign-detection\\datasets\\cul\\val\\images\\04140_06051323_0675.png: 1 duplicate labels removed\n",
      "\u001b[34m\u001b[1mval: \u001b[0mWARNING ⚠️ E:\\traffic-sign-detection\\datasets\\cul\\val\\images\\04230_06061034_0845.png: 1 duplicate labels removed\n",
      "\u001b[34m\u001b[1mval: \u001b[0mWARNING ⚠️ E:\\traffic-sign-detection\\datasets\\cul\\val\\images\\04320_06061037_0846.png: 1 duplicate labels removed\n",
      "\u001b[34m\u001b[1mval: \u001b[0mWARNING ⚠️ E:\\traffic-sign-detection\\datasets\\cul\\val\\images\\04410_06051441_0701.png: 1 duplicate labels removed\n",
      "\u001b[34m\u001b[1mval: \u001b[0mWARNING ⚠️ E:\\traffic-sign-detection\\datasets\\cul\\val\\images\\04410_06060949_0830.png: 1 duplicate labels removed\n",
      "\u001b[34m\u001b[1mval: \u001b[0mWARNING ⚠️ E:\\traffic-sign-detection\\datasets\\cul\\val\\images\\04410_06060955_0832.png: 1 duplicate labels removed\n",
      "\u001b[34m\u001b[1mval: \u001b[0mWARNING ⚠️ E:\\traffic-sign-detection\\datasets\\cul\\val\\images\\04500_06042016_0513.png: 1 duplicate labels removed\n",
      "\u001b[34m\u001b[1mval: \u001b[0mWARNING ⚠️ E:\\traffic-sign-detection\\datasets\\cul\\val\\images\\04500_06061037_0846.png: 1 duplicate labels removed\n",
      "\u001b[34m\u001b[1mval: \u001b[0mWARNING ⚠️ E:\\traffic-sign-detection\\datasets\\cul\\val\\images\\04680_06050927_0601.png: 1 duplicate labels removed\n",
      "\u001b[34m\u001b[1mval: \u001b[0mWARNING ⚠️ E:\\traffic-sign-detection\\datasets\\cul\\val\\images\\04770_06060700_0774.png: 1 duplicate labels removed\n",
      "\u001b[34m\u001b[1mval: \u001b[0mWARNING ⚠️ E:\\traffic-sign-detection\\datasets\\cul\\val\\images\\04770_06060812_0798.png: 1 duplicate labels removed\n",
      "\u001b[34m\u001b[1mval: \u001b[0mWARNING ⚠️ E:\\traffic-sign-detection\\datasets\\cul\\val\\images\\04950_06051111_0631.png: 1 duplicate labels removed\n",
      "\u001b[34m\u001b[1mval: \u001b[0mWARNING ⚠️ E:\\traffic-sign-detection\\datasets\\cul\\val\\images\\04950_06060751_0791.png: 1 duplicate labels removed\n",
      "\u001b[34m\u001b[1mval: \u001b[0mWARNING ⚠️ E:\\traffic-sign-detection\\datasets\\cul\\val\\images\\04950_06060910_0817.png: 1 duplicate labels removed\n",
      "\u001b[34m\u001b[1mval: \u001b[0mWARNING ⚠️ E:\\traffic-sign-detection\\datasets\\cul\\val\\images\\04950_06061034_0845.png: 1 duplicate labels removed\n",
      "\u001b[34m\u001b[1mval: \u001b[0mWARNING ⚠️ E:\\traffic-sign-detection\\datasets\\cul\\val\\images\\05040_06050936_0604.png: 1 duplicate labels removed\n",
      "\u001b[34m\u001b[1mval: \u001b[0mWARNING ⚠️ E:\\traffic-sign-detection\\datasets\\cul\\val\\images\\05040_06051217_0653.png: 2 duplicate labels removed\n",
      "\u001b[34m\u001b[1mval: \u001b[0mWARNING ⚠️ E:\\traffic-sign-detection\\datasets\\cul\\val\\images\\05040_06060940_0827.png: 1 duplicate labels removed\n",
      "\u001b[34m\u001b[1mval: \u001b[0mWARNING ⚠️ E:\\traffic-sign-detection\\datasets\\cul\\val\\images\\05130_06051317_0673.png: 1 duplicate labels removed\n",
      "\u001b[34m\u001b[1mval: \u001b[0mWARNING ⚠️ E:\\traffic-sign-detection\\datasets\\cul\\val\\images\\05220_06051637_0738.png: 1 duplicate labels removed\n",
      "\u001b[34m\u001b[1mval: \u001b[0mWARNING ⚠️ E:\\traffic-sign-detection\\datasets\\cul\\val\\images\\05310_06050903_0593.png: 1 duplicate labels removed\n"
     ]
    },
    {
     "name": "stderr",
     "output_type": "stream",
     "text": [
      "\n"
     ]
    },
    {
     "name": "stdout",
     "output_type": "stream",
     "text": [
      "Plotting labels to runs\\detect\\cul_tld_512_yolov8n\\labels.jpg... \n",
      "\u001b[34m\u001b[1moptimizer:\u001b[0m 'optimizer=auto' found, ignoring 'lr0=0.01' and 'momentum=0.937' and determining best 'optimizer', 'lr0' and 'momentum' automatically... \n",
      "\u001b[34m\u001b[1moptimizer:\u001b[0m SGD(lr=0.01, momentum=0.9) with parameter groups 57 weight(decay=0.0), 64 weight(decay=0.0005), 63 bias(decay=0.0)\n",
      "Image sizes 512 train, 512 val\n",
      "Using 8 dataloader workers\n",
      "Logging results to \u001b[1mruns\\detect\\cul_tld_512_yolov8n\u001b[0m\n",
      "Starting training for 200 epochs...\n",
      "\n",
      "      Epoch    GPU_mem   box_loss   cls_loss   dfl_loss  Instances       Size\n"
     ]
    },
    {
     "name": "stderr",
     "output_type": "stream",
     "text": [
      "      1/200      1.59G      1.784      2.062       1.42         46        512: 100%|██████████| 767/767 [01:11<00:00, 10.68it/s]\n",
      "                 Class     Images  Instances      Box(P          R      mAP50  mAP50-95): 100%|██████████| 43/43 [00:09<00:00,  4.68it/s]\n"
     ]
    },
    {
     "name": "stdout",
     "output_type": "stream",
     "text": [
      "                   all       1363      50860      0.467      0.528      0.475       0.17\n",
      "\n",
      "      Epoch    GPU_mem   box_loss   cls_loss   dfl_loss  Instances       Size\n"
     ]
    },
    {
     "name": "stderr",
     "output_type": "stream",
     "text": [
      "      2/200      1.63G      1.372      1.296       1.16         91        512: 100%|██████████| 767/767 [01:08<00:00, 11.16it/s]\n",
      "                 Class     Images  Instances      Box(P          R      mAP50  mAP50-95): 100%|██████████| 43/43 [00:09<00:00,  4.52it/s]\n"
     ]
    },
    {
     "name": "stdout",
     "output_type": "stream",
     "text": [
      "                   all       1363      50860      0.463      0.443      0.404     0.0474\n",
      "\n",
      "      Epoch    GPU_mem   box_loss   cls_loss   dfl_loss  Instances       Size\n"
     ]
    },
    {
     "name": "stderr",
     "output_type": "stream",
     "text": [
      "      3/200      1.62G       1.32      1.242      1.128        101        512: 100%|██████████| 767/767 [01:09<00:00, 11.08it/s]\n",
      "                 Class     Images  Instances      Box(P          R      mAP50  mAP50-95): 100%|██████████| 43/43 [00:09<00:00,  4.72it/s]\n"
     ]
    },
    {
     "name": "stdout",
     "output_type": "stream",
     "text": [
      "                   all       1363      50860      0.531       0.52      0.515      0.122\n",
      "\n",
      "      Epoch    GPU_mem   box_loss   cls_loss   dfl_loss  Instances       Size\n"
     ]
    },
    {
     "name": "stderr",
     "output_type": "stream",
     "text": [
      "      4/200      1.62G      1.265      1.207      1.107         78        512: 100%|██████████| 767/767 [01:06<00:00, 11.58it/s]\n",
      "                 Class     Images  Instances      Box(P          R      mAP50  mAP50-95): 100%|██████████| 43/43 [00:08<00:00,  4.96it/s]\n"
     ]
    },
    {
     "name": "stdout",
     "output_type": "stream",
     "text": [
      "                   all       1363      50860      0.527      0.482      0.474      0.105\n",
      "\n",
      "      Epoch    GPU_mem   box_loss   cls_loss   dfl_loss  Instances       Size\n"
     ]
    },
    {
     "name": "stderr",
     "output_type": "stream",
     "text": [
      "      5/200      1.61G      1.208      1.163      1.082         87        512: 100%|██████████| 767/767 [01:06<00:00, 11.61it/s]\n",
      "                 Class     Images  Instances      Box(P          R      mAP50  mAP50-95): 100%|██████████| 43/43 [00:08<00:00,  4.91it/s]\n"
     ]
    },
    {
     "name": "stdout",
     "output_type": "stream",
     "text": [
      "                   all       1363      50860      0.511      0.545      0.521      0.215\n",
      "\n",
      "      Epoch    GPU_mem   box_loss   cls_loss   dfl_loss  Instances       Size\n"
     ]
    },
    {
     "name": "stderr",
     "output_type": "stream",
     "text": [
      "      6/200      1.63G      1.178      1.141      1.071         91        512: 100%|██████████| 767/767 [01:06<00:00, 11.53it/s]\n",
      "                 Class     Images  Instances      Box(P          R      mAP50  mAP50-95): 100%|██████████| 43/43 [00:08<00:00,  5.07it/s]\n"
     ]
    },
    {
     "name": "stdout",
     "output_type": "stream",
     "text": [
      "                   all       1363      50860      0.565       0.52      0.532      0.175\n",
      "\n",
      "      Epoch    GPU_mem   box_loss   cls_loss   dfl_loss  Instances       Size\n"
     ]
    },
    {
     "name": "stderr",
     "output_type": "stream",
     "text": [
      "      7/200      1.63G      1.152      1.118       1.06        104        512: 100%|██████████| 767/767 [01:06<00:00, 11.57it/s]\n",
      "                 Class     Images  Instances      Box(P          R      mAP50  mAP50-95): 100%|██████████| 43/43 [00:08<00:00,  4.96it/s]\n"
     ]
    },
    {
     "name": "stdout",
     "output_type": "stream",
     "text": [
      "                   all       1363      50860      0.553      0.527      0.525      0.176\n",
      "\n",
      "      Epoch    GPU_mem   box_loss   cls_loss   dfl_loss  Instances       Size\n"
     ]
    },
    {
     "name": "stderr",
     "output_type": "stream",
     "text": [
      "      8/200      1.62G      1.133      1.103      1.055         83        512: 100%|██████████| 767/767 [01:06<00:00, 11.54it/s]\n",
      "                 Class     Images  Instances      Box(P          R      mAP50  mAP50-95): 100%|██████████| 43/43 [00:08<00:00,  5.01it/s]\n"
     ]
    },
    {
     "name": "stdout",
     "output_type": "stream",
     "text": [
      "                   all       1363      50860      0.549        0.5      0.512      0.117\n",
      "\n",
      "      Epoch    GPU_mem   box_loss   cls_loss   dfl_loss  Instances       Size\n"
     ]
    },
    {
     "name": "stderr",
     "output_type": "stream",
     "text": [
      "      9/200      1.61G      1.119      1.087      1.049         83        512: 100%|██████████| 767/767 [01:06<00:00, 11.53it/s]\n",
      "                 Class     Images  Instances      Box(P          R      mAP50  mAP50-95): 100%|██████████| 43/43 [00:08<00:00,  5.08it/s]\n"
     ]
    },
    {
     "name": "stdout",
     "output_type": "stream",
     "text": [
      "                   all       1363      50860      0.526      0.468      0.462     0.0903\n",
      "\n",
      "      Epoch    GPU_mem   box_loss   cls_loss   dfl_loss  Instances       Size\n"
     ]
    },
    {
     "name": "stderr",
     "output_type": "stream",
     "text": [
      "     10/200      1.62G      1.103      1.079      1.044         85        512: 100%|██████████| 767/767 [01:06<00:00, 11.50it/s]\n",
      "                 Class     Images  Instances      Box(P          R      mAP50  mAP50-95): 100%|██████████| 43/43 [00:08<00:00,  5.18it/s]\n"
     ]
    },
    {
     "name": "stdout",
     "output_type": "stream",
     "text": [
      "                   all       1363      50860      0.545      0.518      0.511      0.129\n",
      "\n",
      "      Epoch    GPU_mem   box_loss   cls_loss   dfl_loss  Instances       Size\n"
     ]
    },
    {
     "name": "stderr",
     "output_type": "stream",
     "text": [
      "     11/200      1.63G      1.092      1.061      1.038         82        512: 100%|██████████| 767/767 [01:06<00:00, 11.56it/s]\n",
      "                 Class     Images  Instances      Box(P          R      mAP50  mAP50-95): 100%|██████████| 43/43 [00:08<00:00,  5.17it/s]\n"
     ]
    },
    {
     "name": "stdout",
     "output_type": "stream",
     "text": [
      "                   all       1363      50860      0.554      0.488      0.487     0.0955\n",
      "\n",
      "      Epoch    GPU_mem   box_loss   cls_loss   dfl_loss  Instances       Size\n"
     ]
    },
    {
     "name": "stderr",
     "output_type": "stream",
     "text": [
      "     12/200      1.62G      1.082      1.054      1.035         94        512: 100%|██████████| 767/767 [01:06<00:00, 11.47it/s]\n",
      "                 Class     Images  Instances      Box(P          R      mAP50  mAP50-95): 100%|██████████| 43/43 [00:08<00:00,  5.11it/s]\n"
     ]
    },
    {
     "name": "stdout",
     "output_type": "stream",
     "text": [
      "                   all       1363      50860      0.552      0.564      0.548      0.154\n",
      "\n",
      "      Epoch    GPU_mem   box_loss   cls_loss   dfl_loss  Instances       Size\n"
     ]
    },
    {
     "name": "stderr",
     "output_type": "stream",
     "text": [
      "     13/200      1.61G      1.071      1.045      1.032         82        512: 100%|██████████| 767/767 [01:06<00:00, 11.53it/s]\n",
      "                 Class     Images  Instances      Box(P          R      mAP50  mAP50-95): 100%|██████████| 43/43 [00:08<00:00,  5.09it/s]\n"
     ]
    },
    {
     "name": "stdout",
     "output_type": "stream",
     "text": [
      "                   all       1363      50860      0.521      0.459      0.448     0.0661\n",
      "\n",
      "      Epoch    GPU_mem   box_loss   cls_loss   dfl_loss  Instances       Size\n"
     ]
    },
    {
     "name": "stderr",
     "output_type": "stream",
     "text": [
      "     14/200      1.62G      1.063      1.037      1.029         95        512: 100%|██████████| 767/767 [01:06<00:00, 11.52it/s]\n",
      "                 Class     Images  Instances      Box(P          R      mAP50  mAP50-95): 100%|██████████| 43/43 [00:08<00:00,  5.29it/s]\n"
     ]
    },
    {
     "name": "stdout",
     "output_type": "stream",
     "text": [
      "                   all       1363      50860      0.548      0.493      0.488     0.0993\n",
      "\n",
      "      Epoch    GPU_mem   box_loss   cls_loss   dfl_loss  Instances       Size\n"
     ]
    },
    {
     "name": "stderr",
     "output_type": "stream",
     "text": [
      "     15/200      1.62G      1.055      1.028      1.025         95        512: 100%|██████████| 767/767 [01:06<00:00, 11.51it/s]\n",
      "                 Class     Images  Instances      Box(P          R      mAP50  mAP50-95): 100%|██████████| 43/43 [00:08<00:00,  5.26it/s]\n"
     ]
    },
    {
     "name": "stdout",
     "output_type": "stream",
     "text": [
      "                   all       1363      50860      0.554      0.485      0.492     0.0816\n",
      "\n",
      "      Epoch    GPU_mem   box_loss   cls_loss   dfl_loss  Instances       Size\n"
     ]
    },
    {
     "name": "stderr",
     "output_type": "stream",
     "text": [
      "     16/200      1.62G      1.045      1.024      1.024         46        512: 100%|██████████| 767/767 [01:07<00:00, 11.44it/s]\n",
      "                 Class     Images  Instances      Box(P          R      mAP50  mAP50-95): 100%|██████████| 43/43 [00:08<00:00,  5.23it/s]\n"
     ]
    },
    {
     "name": "stdout",
     "output_type": "stream",
     "text": [
      "                   all       1363      50860      0.559      0.457      0.466     0.0634\n",
      "\n",
      "      Epoch    GPU_mem   box_loss   cls_loss   dfl_loss  Instances       Size\n"
     ]
    },
    {
     "name": "stderr",
     "output_type": "stream",
     "text": [
      "     17/200      1.61G      1.043      1.012      1.021         93        512: 100%|██████████| 767/767 [01:06<00:00, 11.45it/s]\n",
      "                 Class     Images  Instances      Box(P          R      mAP50  mAP50-95): 100%|██████████| 43/43 [00:08<00:00,  5.16it/s]\n"
     ]
    },
    {
     "name": "stdout",
     "output_type": "stream",
     "text": [
      "                   all       1363      50860      0.554      0.557      0.538      0.105\n",
      "\n",
      "      Epoch    GPU_mem   box_loss   cls_loss   dfl_loss  Instances       Size\n"
     ]
    },
    {
     "name": "stderr",
     "output_type": "stream",
     "text": [
      "     18/200      1.63G      1.032      1.006      1.019         94        512: 100%|██████████| 767/767 [01:08<00:00, 11.25it/s]\n",
      "                 Class     Images  Instances      Box(P          R      mAP50  mAP50-95): 100%|██████████| 43/43 [00:08<00:00,  5.10it/s]\n"
     ]
    },
    {
     "name": "stdout",
     "output_type": "stream",
     "text": [
      "                   all       1363      50860      0.553      0.539       0.53     0.0957\n",
      "\n",
      "      Epoch    GPU_mem   box_loss   cls_loss   dfl_loss  Instances       Size\n"
     ]
    },
    {
     "name": "stderr",
     "output_type": "stream",
     "text": [
      "     19/200      1.62G      1.026     0.9993      1.016         91        512: 100%|██████████| 767/767 [01:06<00:00, 11.50it/s]\n",
      "                 Class     Images  Instances      Box(P          R      mAP50  mAP50-95): 100%|██████████| 43/43 [00:08<00:00,  5.27it/s]\n"
     ]
    },
    {
     "name": "stdout",
     "output_type": "stream",
     "text": [
      "                   all       1363      50860      0.568      0.526       0.53      0.107\n",
      "\n",
      "      Epoch    GPU_mem   box_loss   cls_loss   dfl_loss  Instances       Size\n"
     ]
    },
    {
     "name": "stderr",
     "output_type": "stream",
     "text": [
      "     20/200      1.62G      1.018     0.9913      1.013         40        512: 100%|██████████| 767/767 [01:06<00:00, 11.47it/s]\n",
      "                 Class     Images  Instances      Box(P          R      mAP50  mAP50-95): 100%|██████████| 43/43 [00:08<00:00,  5.29it/s]\n"
     ]
    },
    {
     "name": "stdout",
     "output_type": "stream",
     "text": [
      "                   all       1363      50860      0.561      0.512      0.526     0.0939\n",
      "\n",
      "      Epoch    GPU_mem   box_loss   cls_loss   dfl_loss  Instances       Size\n"
     ]
    },
    {
     "name": "stderr",
     "output_type": "stream",
     "text": [
      "     21/200       1.6G      1.016     0.9861      1.011         83        512: 100%|██████████| 767/767 [01:06<00:00, 11.46it/s]\n",
      "                 Class     Images  Instances      Box(P          R      mAP50  mAP50-95): 100%|██████████| 43/43 [00:08<00:00,  5.24it/s]\n"
     ]
    },
    {
     "name": "stdout",
     "output_type": "stream",
     "text": [
      "                   all       1363      50860      0.568      0.575      0.561      0.123\n",
      "\n",
      "      Epoch    GPU_mem   box_loss   cls_loss   dfl_loss  Instances       Size\n"
     ]
    },
    {
     "name": "stderr",
     "output_type": "stream",
     "text": [
      "     22/200      1.62G      1.009     0.9846       1.01         39        512: 100%|██████████| 767/767 [01:07<00:00, 11.44it/s]\n",
      "                 Class     Images  Instances      Box(P          R      mAP50  mAP50-95): 100%|██████████| 43/43 [00:07<00:00,  5.41it/s]\n"
     ]
    },
    {
     "name": "stdout",
     "output_type": "stream",
     "text": [
      "                   all       1363      50860      0.579      0.475      0.503     0.0844\n",
      "\n",
      "      Epoch    GPU_mem   box_loss   cls_loss   dfl_loss  Instances       Size\n"
     ]
    },
    {
     "name": "stderr",
     "output_type": "stream",
     "text": [
      "     23/200      1.61G      1.004     0.9774      1.007         93        512: 100%|██████████| 767/767 [01:07<00:00, 11.42it/s]\n",
      "                 Class     Images  Instances      Box(P          R      mAP50  mAP50-95): 100%|██████████| 43/43 [00:07<00:00,  5.40it/s]\n"
     ]
    },
    {
     "name": "stdout",
     "output_type": "stream",
     "text": [
      "                   all       1363      50860      0.539      0.443      0.453     0.0721\n",
      "\n",
      "      Epoch    GPU_mem   box_loss   cls_loss   dfl_loss  Instances       Size\n"
     ]
    },
    {
     "name": "stderr",
     "output_type": "stream",
     "text": [
      "     24/200      1.61G     0.9979     0.9705      1.006         97        512: 100%|██████████| 767/767 [01:07<00:00, 11.44it/s]\n",
      "                 Class     Images  Instances      Box(P          R      mAP50  mAP50-95): 100%|██████████| 43/43 [00:08<00:00,  5.27it/s]\n"
     ]
    },
    {
     "name": "stdout",
     "output_type": "stream",
     "text": [
      "                   all       1363      50860      0.581        0.5      0.524     0.0927\n",
      "\n",
      "      Epoch    GPU_mem   box_loss   cls_loss   dfl_loss  Instances       Size\n"
     ]
    },
    {
     "name": "stderr",
     "output_type": "stream",
     "text": [
      "     25/200       1.6G     0.9915     0.9663      1.004         47        512: 100%|██████████| 767/767 [01:07<00:00, 11.45it/s]\n",
      "                 Class     Images  Instances      Box(P          R      mAP50  mAP50-95): 100%|██████████| 43/43 [00:08<00:00,  5.30it/s]\n"
     ]
    },
    {
     "name": "stdout",
     "output_type": "stream",
     "text": [
      "                   all       1363      50860      0.561      0.496       0.52      0.087\n",
      "\n",
      "      Epoch    GPU_mem   box_loss   cls_loss   dfl_loss  Instances       Size\n"
     ]
    },
    {
     "name": "stderr",
     "output_type": "stream",
     "text": [
      "     26/200      1.62G     0.9872     0.9578      1.003         88        512: 100%|██████████| 767/767 [01:07<00:00, 11.42it/s]\n",
      "                 Class     Images  Instances      Box(P          R      mAP50  mAP50-95): 100%|██████████| 43/43 [00:08<00:00,  5.22it/s]\n"
     ]
    },
    {
     "name": "stdout",
     "output_type": "stream",
     "text": [
      "                   all       1363      50860      0.569      0.529       0.54      0.107\n",
      "\n",
      "      Epoch    GPU_mem   box_loss   cls_loss   dfl_loss  Instances       Size\n"
     ]
    },
    {
     "name": "stderr",
     "output_type": "stream",
     "text": [
      "     27/200      1.62G     0.9805     0.9481     0.9998         88        512: 100%|██████████| 767/767 [01:06<00:00, 11.48it/s]\n",
      "                 Class     Images  Instances      Box(P          R      mAP50  mAP50-95): 100%|██████████| 43/43 [00:08<00:00,  5.29it/s]\n"
     ]
    },
    {
     "name": "stdout",
     "output_type": "stream",
     "text": [
      "                   all       1363      50860      0.582      0.547      0.565      0.126\n",
      "\n",
      "      Epoch    GPU_mem   box_loss   cls_loss   dfl_loss  Instances       Size\n"
     ]
    },
    {
     "name": "stderr",
     "output_type": "stream",
     "text": [
      "     28/200      1.62G     0.9778     0.9512     0.9995         28        512: 100%|██████████| 767/767 [01:06<00:00, 11.46it/s]\n",
      "                 Class     Images  Instances      Box(P          R      mAP50  mAP50-95): 100%|██████████| 43/43 [00:08<00:00,  5.28it/s]\n"
     ]
    },
    {
     "name": "stdout",
     "output_type": "stream",
     "text": [
      "                   all       1363      50860      0.581      0.593      0.589      0.151\n",
      "\n",
      "      Epoch    GPU_mem   box_loss   cls_loss   dfl_loss  Instances       Size\n"
     ]
    },
    {
     "name": "stderr",
     "output_type": "stream",
     "text": [
      "     29/200      1.62G     0.9727     0.9416     0.9988         93        512: 100%|██████████| 767/767 [01:07<00:00, 11.44it/s]\n",
      "                 Class     Images  Instances      Box(P          R      mAP50  mAP50-95): 100%|██████████| 43/43 [00:08<00:00,  5.06it/s]\n"
     ]
    },
    {
     "name": "stdout",
     "output_type": "stream",
     "text": [
      "                   all       1363      50860      0.568      0.609       0.61      0.179\n",
      "\n",
      "      Epoch    GPU_mem   box_loss   cls_loss   dfl_loss  Instances       Size\n"
     ]
    },
    {
     "name": "stderr",
     "output_type": "stream",
     "text": [
      "     30/200      1.63G     0.9678     0.9392      0.997         96        512: 100%|██████████| 767/767 [01:07<00:00, 11.39it/s]\n",
      "                 Class     Images  Instances      Box(P          R      mAP50  mAP50-95): 100%|██████████| 43/43 [00:08<00:00,  5.28it/s]\n"
     ]
    },
    {
     "name": "stdout",
     "output_type": "stream",
     "text": [
      "                   all       1363      50860      0.594      0.565      0.585      0.148\n",
      "\n",
      "      Epoch    GPU_mem   box_loss   cls_loss   dfl_loss  Instances       Size\n"
     ]
    },
    {
     "name": "stderr",
     "output_type": "stream",
     "text": [
      "     31/200      1.62G     0.9629      0.929     0.9956         87        512: 100%|██████████| 767/767 [01:07<00:00, 11.41it/s]\n",
      "                 Class     Images  Instances      Box(P          R      mAP50  mAP50-95): 100%|██████████| 43/43 [00:08<00:00,  5.09it/s]\n"
     ]
    },
    {
     "name": "stdout",
     "output_type": "stream",
     "text": [
      "                   all       1363      50860       0.58      0.596      0.604      0.154\n",
      "\n",
      "      Epoch    GPU_mem   box_loss   cls_loss   dfl_loss  Instances       Size\n"
     ]
    },
    {
     "name": "stderr",
     "output_type": "stream",
     "text": [
      "     32/200      1.62G     0.9615     0.9283     0.9944         37        512: 100%|██████████| 767/767 [01:07<00:00, 11.40it/s]\n",
      "                 Class     Images  Instances      Box(P          R      mAP50  mAP50-95): 100%|██████████| 43/43 [00:08<00:00,  5.24it/s]\n"
     ]
    },
    {
     "name": "stdout",
     "output_type": "stream",
     "text": [
      "                   all       1363      50860      0.586      0.592      0.605      0.165\n",
      "\n",
      "      Epoch    GPU_mem   box_loss   cls_loss   dfl_loss  Instances       Size\n"
     ]
    },
    {
     "name": "stderr",
     "output_type": "stream",
     "text": [
      "     33/200      1.54G     0.9542     0.9226     0.9925         84        512: 100%|██████████| 767/767 [01:07<00:00, 11.43it/s]\n",
      "                 Class     Images  Instances      Box(P          R      mAP50  mAP50-95): 100%|██████████| 43/43 [00:08<00:00,  5.12it/s]\n"
     ]
    },
    {
     "name": "stdout",
     "output_type": "stream",
     "text": [
      "                   all       1363      50860      0.593      0.587      0.607      0.189\n",
      "\n",
      "      Epoch    GPU_mem   box_loss   cls_loss   dfl_loss  Instances       Size\n"
     ]
    },
    {
     "name": "stderr",
     "output_type": "stream",
     "text": [
      "     34/200      1.62G     0.9519     0.9207     0.9926         45        512: 100%|██████████| 767/767 [01:07<00:00, 11.40it/s]\n",
      "                 Class     Images  Instances      Box(P          R      mAP50  mAP50-95): 100%|██████████| 43/43 [00:08<00:00,  5.17it/s]\n"
     ]
    },
    {
     "name": "stdout",
     "output_type": "stream",
     "text": [
      "                   all       1363      50860      0.591      0.587      0.604       0.15\n",
      "\n",
      "      Epoch    GPU_mem   box_loss   cls_loss   dfl_loss  Instances       Size\n"
     ]
    },
    {
     "name": "stderr",
     "output_type": "stream",
     "text": [
      "     35/200      1.61G     0.9491     0.9146     0.9905         91        512: 100%|██████████| 767/767 [01:07<00:00, 11.43it/s]\n",
      "                 Class     Images  Instances      Box(P          R      mAP50  mAP50-95): 100%|██████████| 43/43 [00:08<00:00,  5.36it/s]\n"
     ]
    },
    {
     "name": "stdout",
     "output_type": "stream",
     "text": [
      "                   all       1363      50860      0.583      0.554      0.579      0.122\n",
      "\n",
      "      Epoch    GPU_mem   box_loss   cls_loss   dfl_loss  Instances       Size\n"
     ]
    },
    {
     "name": "stderr",
     "output_type": "stream",
     "text": [
      "     36/200      1.62G     0.9431     0.9053     0.9898         91        512: 100%|██████████| 767/767 [01:09<00:00, 11.10it/s]\n",
      "                 Class     Images  Instances      Box(P          R      mAP50  mAP50-95): 100%|██████████| 43/43 [00:08<00:00,  4.91it/s]\n"
     ]
    },
    {
     "name": "stdout",
     "output_type": "stream",
     "text": [
      "                   all       1363      50860       0.57      0.582      0.599      0.137\n",
      "\n",
      "      Epoch    GPU_mem   box_loss   cls_loss   dfl_loss  Instances       Size\n"
     ]
    },
    {
     "name": "stderr",
     "output_type": "stream",
     "text": [
      "     37/200      1.61G     0.9395     0.9065     0.9885         79        512: 100%|██████████| 767/767 [01:09<00:00, 11.06it/s]\n",
      "                 Class     Images  Instances      Box(P          R      mAP50  mAP50-95): 100%|██████████| 43/43 [00:08<00:00,  5.28it/s]\n"
     ]
    },
    {
     "name": "stdout",
     "output_type": "stream",
     "text": [
      "                   all       1363      50860      0.586      0.553      0.577      0.122\n",
      "\n",
      "      Epoch    GPU_mem   box_loss   cls_loss   dfl_loss  Instances       Size\n"
     ]
    },
    {
     "name": "stderr",
     "output_type": "stream",
     "text": [
      "     38/200      1.62G     0.9364     0.9022     0.9869         48        512: 100%|██████████| 767/767 [01:08<00:00, 11.27it/s]\n",
      "                 Class     Images  Instances      Box(P          R      mAP50  mAP50-95): 100%|██████████| 43/43 [00:07<00:00,  5.39it/s]\n"
     ]
    },
    {
     "name": "stdout",
     "output_type": "stream",
     "text": [
      "                   all       1363      50860      0.586      0.553      0.582      0.126\n",
      "\n",
      "      Epoch    GPU_mem   box_loss   cls_loss   dfl_loss  Instances       Size\n"
     ]
    },
    {
     "name": "stderr",
     "output_type": "stream",
     "text": [
      "     39/200      1.61G     0.9366     0.8986     0.9871         54        512: 100%|██████████| 767/767 [01:06<00:00, 11.49it/s]\n",
      "                 Class     Images  Instances      Box(P          R      mAP50  mAP50-95): 100%|██████████| 43/43 [00:07<00:00,  5.41it/s]\n"
     ]
    },
    {
     "name": "stdout",
     "output_type": "stream",
     "text": [
      "                   all       1363      50860      0.589      0.593      0.608      0.143\n",
      "\n",
      "      Epoch    GPU_mem   box_loss   cls_loss   dfl_loss  Instances       Size\n"
     ]
    },
    {
     "name": "stderr",
     "output_type": "stream",
     "text": [
      "     40/200      1.62G     0.9306     0.8921     0.9847         80        512: 100%|██████████| 767/767 [01:06<00:00, 11.48it/s]\n",
      "                 Class     Images  Instances      Box(P          R      mAP50  mAP50-95): 100%|██████████| 43/43 [00:08<00:00,  5.37it/s]\n"
     ]
    },
    {
     "name": "stdout",
     "output_type": "stream",
     "text": [
      "                   all       1363      50860      0.593      0.586      0.608      0.136\n",
      "\n",
      "      Epoch    GPU_mem   box_loss   cls_loss   dfl_loss  Instances       Size\n"
     ]
    },
    {
     "name": "stderr",
     "output_type": "stream",
     "text": [
      "     41/200      1.61G     0.9273     0.8876     0.9844         96        512: 100%|██████████| 767/767 [01:07<00:00, 11.41it/s]\n",
      "                 Class     Images  Instances      Box(P          R      mAP50  mAP50-95): 100%|██████████| 43/43 [00:08<00:00,  5.32it/s]\n"
     ]
    },
    {
     "name": "stdout",
     "output_type": "stream",
     "text": [
      "                   all       1363      50860      0.583      0.609      0.617      0.159\n",
      "\n",
      "      Epoch    GPU_mem   box_loss   cls_loss   dfl_loss  Instances       Size\n"
     ]
    },
    {
     "name": "stderr",
     "output_type": "stream",
     "text": [
      "     42/200      1.62G     0.9267     0.8864      0.984         54        512: 100%|██████████| 767/767 [01:06<00:00, 11.45it/s]\n",
      "                 Class     Images  Instances      Box(P          R      mAP50  mAP50-95): 100%|██████████| 43/43 [00:07<00:00,  5.42it/s]\n"
     ]
    },
    {
     "name": "stdout",
     "output_type": "stream",
     "text": [
      "                   all       1363      50860       0.58      0.565      0.584      0.129\n",
      "\n",
      "      Epoch    GPU_mem   box_loss   cls_loss   dfl_loss  Instances       Size\n"
     ]
    },
    {
     "name": "stderr",
     "output_type": "stream",
     "text": [
      "     43/200      1.61G     0.9199     0.8813     0.9824         86        512: 100%|██████████| 767/767 [01:06<00:00, 11.48it/s]\n",
      "                 Class     Images  Instances      Box(P          R      mAP50  mAP50-95): 100%|██████████| 43/43 [00:08<00:00,  5.37it/s]\n"
     ]
    },
    {
     "name": "stdout",
     "output_type": "stream",
     "text": [
      "                   all       1363      50860      0.582      0.562      0.587      0.133\n",
      "\n",
      "      Epoch    GPU_mem   box_loss   cls_loss   dfl_loss  Instances       Size\n"
     ]
    },
    {
     "name": "stderr",
     "output_type": "stream",
     "text": [
      "     44/200      1.62G     0.9168     0.8747     0.9809         96        512: 100%|██████████| 767/767 [01:06<00:00, 11.48it/s]\n",
      "                 Class     Images  Instances      Box(P          R      mAP50  mAP50-95): 100%|██████████| 43/43 [00:08<00:00,  5.28it/s]\n"
     ]
    },
    {
     "name": "stdout",
     "output_type": "stream",
     "text": [
      "                   all       1363      50860      0.589      0.575        0.6      0.137\n",
      "\n",
      "      Epoch    GPU_mem   box_loss   cls_loss   dfl_loss  Instances       Size\n"
     ]
    },
    {
     "name": "stderr",
     "output_type": "stream",
     "text": [
      "     45/200      1.61G      0.914     0.8742       0.98         83        512: 100%|██████████| 767/767 [01:06<00:00, 11.47it/s]\n",
      "                 Class     Images  Instances      Box(P          R      mAP50  mAP50-95): 100%|██████████| 43/43 [00:07<00:00,  5.42it/s]\n"
     ]
    },
    {
     "name": "stdout",
     "output_type": "stream",
     "text": [
      "                   all       1363      50860      0.594      0.557      0.594      0.127\n",
      "\n",
      "      Epoch    GPU_mem   box_loss   cls_loss   dfl_loss  Instances       Size\n"
     ]
    },
    {
     "name": "stderr",
     "output_type": "stream",
     "text": [
      "     46/200      1.62G     0.9119     0.8712      0.979         91        512: 100%|██████████| 767/767 [01:07<00:00, 11.43it/s]\n",
      "                 Class     Images  Instances      Box(P          R      mAP50  mAP50-95): 100%|██████████| 43/43 [00:07<00:00,  5.38it/s]\n"
     ]
    },
    {
     "name": "stdout",
     "output_type": "stream",
     "text": [
      "                   all       1363      50860      0.575       0.52      0.557      0.104\n",
      "\n",
      "      Epoch    GPU_mem   box_loss   cls_loss   dfl_loss  Instances       Size\n"
     ]
    },
    {
     "name": "stderr",
     "output_type": "stream",
     "text": [
      "     47/200      1.62G     0.9103     0.8692     0.9791         65        512: 100%|██████████| 767/767 [01:06<00:00, 11.46it/s]\n",
      "                 Class     Images  Instances      Box(P          R      mAP50  mAP50-95): 100%|██████████| 43/43 [00:07<00:00,  5.49it/s]\n"
     ]
    },
    {
     "name": "stdout",
     "output_type": "stream",
     "text": [
      "                   all       1363      50860      0.584      0.535      0.569      0.118\n",
      "\n",
      "      Epoch    GPU_mem   box_loss   cls_loss   dfl_loss  Instances       Size\n"
     ]
    },
    {
     "name": "stderr",
     "output_type": "stream",
     "text": [
      "     48/200      1.61G     0.9059      0.865     0.9781         87        512: 100%|██████████| 767/767 [01:06<00:00, 11.48it/s]\n",
      "                 Class     Images  Instances      Box(P          R      mAP50  mAP50-95): 100%|██████████| 43/43 [00:07<00:00,  5.43it/s]\n"
     ]
    },
    {
     "name": "stdout",
     "output_type": "stream",
     "text": [
      "                   all       1363      50860      0.576      0.547      0.583       0.13\n",
      "\n",
      "      Epoch    GPU_mem   box_loss   cls_loss   dfl_loss  Instances       Size\n"
     ]
    },
    {
     "name": "stderr",
     "output_type": "stream",
     "text": [
      "     49/200      1.62G     0.9064     0.8615      0.978         94        512: 100%|██████████| 767/767 [01:07<00:00, 11.32it/s]\n",
      "                 Class     Images  Instances      Box(P          R      mAP50  mAP50-95): 100%|██████████| 43/43 [00:07<00:00,  5.49it/s]\n"
     ]
    },
    {
     "name": "stdout",
     "output_type": "stream",
     "text": [
      "                   all       1363      50860      0.578      0.558      0.588      0.127\n",
      "\n",
      "      Epoch    GPU_mem   box_loss   cls_loss   dfl_loss  Instances       Size\n"
     ]
    },
    {
     "name": "stderr",
     "output_type": "stream",
     "text": [
      "     50/200      1.62G     0.9039     0.8594     0.9767         95        512: 100%|██████████| 767/767 [01:07<00:00, 11.41it/s]\n",
      "                 Class     Images  Instances      Box(P          R      mAP50  mAP50-95): 100%|██████████| 43/43 [00:07<00:00,  5.73it/s]\n"
     ]
    },
    {
     "name": "stdout",
     "output_type": "stream",
     "text": [
      "                   all       1363      50860      0.576      0.538      0.575      0.113\n",
      "\n",
      "      Epoch    GPU_mem   box_loss   cls_loss   dfl_loss  Instances       Size\n"
     ]
    },
    {
     "name": "stderr",
     "output_type": "stream",
     "text": [
      "     51/200      1.61G      0.899     0.8566     0.9749         88        512: 100%|██████████| 767/767 [01:06<00:00, 11.47it/s]\n",
      "                 Class     Images  Instances      Box(P          R      mAP50  mAP50-95): 100%|██████████| 43/43 [00:07<00:00,  5.62it/s]\n"
     ]
    },
    {
     "name": "stdout",
     "output_type": "stream",
     "text": [
      "                   all       1363      50860      0.583      0.542      0.579      0.116\n",
      "\n",
      "      Epoch    GPU_mem   box_loss   cls_loss   dfl_loss  Instances       Size\n"
     ]
    },
    {
     "name": "stderr",
     "output_type": "stream",
     "text": [
      "     52/200      1.62G     0.8974     0.8518     0.9752         96        512: 100%|██████████| 767/767 [01:07<00:00, 11.45it/s]\n",
      "                 Class     Images  Instances      Box(P          R      mAP50  mAP50-95): 100%|██████████| 43/43 [00:07<00:00,  5.80it/s]\n"
     ]
    },
    {
     "name": "stdout",
     "output_type": "stream",
     "text": [
      "                   all       1363      50860      0.573      0.534      0.562      0.104\n",
      "\n",
      "      Epoch    GPU_mem   box_loss   cls_loss   dfl_loss  Instances       Size\n"
     ]
    },
    {
     "name": "stderr",
     "output_type": "stream",
     "text": [
      "     53/200      1.61G     0.8957     0.8485     0.9742         98        512: 100%|██████████| 767/767 [01:06<00:00, 11.46it/s]\n",
      "                 Class     Images  Instances      Box(P          R      mAP50  mAP50-95): 100%|██████████| 43/43 [00:07<00:00,  5.73it/s]\n"
     ]
    },
    {
     "name": "stdout",
     "output_type": "stream",
     "text": [
      "                   all       1363      50860      0.583      0.545      0.576      0.113\n",
      "\n",
      "      Epoch    GPU_mem   box_loss   cls_loss   dfl_loss  Instances       Size\n"
     ]
    },
    {
     "name": "stderr",
     "output_type": "stream",
     "text": [
      "     54/200      1.54G     0.8921     0.8425     0.9729         71        512: 100%|██████████| 767/767 [01:09<00:00, 11.05it/s]\n",
      "                 Class     Images  Instances      Box(P          R      mAP50  mAP50-95): 100%|██████████| 43/43 [00:07<00:00,  5.83it/s]\n"
     ]
    },
    {
     "name": "stdout",
     "output_type": "stream",
     "text": [
      "                   all       1363      50860      0.585      0.565      0.592      0.123\n",
      "\n",
      "      Epoch    GPU_mem   box_loss   cls_loss   dfl_loss  Instances       Size\n"
     ]
    },
    {
     "name": "stderr",
     "output_type": "stream",
     "text": [
      "     55/200      1.62G     0.8894     0.8416     0.9721         45        512: 100%|██████████| 767/767 [01:06<00:00, 11.47it/s]\n",
      "                 Class     Images  Instances      Box(P          R      mAP50  mAP50-95): 100%|██████████| 43/43 [00:07<00:00,  6.01it/s]\n"
     ]
    },
    {
     "name": "stdout",
     "output_type": "stream",
     "text": [
      "                   all       1363      50860      0.589      0.571        0.6      0.128\n",
      "\n",
      "      Epoch    GPU_mem   box_loss   cls_loss   dfl_loss  Instances       Size\n"
     ]
    },
    {
     "name": "stderr",
     "output_type": "stream",
     "text": [
      "     56/200      1.61G     0.8906     0.8417     0.9729         88        512: 100%|██████████| 767/767 [01:06<00:00, 11.49it/s]\n",
      "                 Class     Images  Instances      Box(P          R      mAP50  mAP50-95): 100%|██████████| 43/43 [00:06<00:00,  6.15it/s]\n"
     ]
    },
    {
     "name": "stdout",
     "output_type": "stream",
     "text": [
      "                   all       1363      50860      0.583      0.563      0.592      0.121\n",
      "\n",
      "      Epoch    GPU_mem   box_loss   cls_loss   dfl_loss  Instances       Size\n"
     ]
    },
    {
     "name": "stderr",
     "output_type": "stream",
     "text": [
      "     57/200       1.6G      0.888     0.8366     0.9714         92        512: 100%|██████████| 767/767 [01:06<00:00, 11.54it/s]\n",
      "                 Class     Images  Instances      Box(P          R      mAP50  mAP50-95): 100%|██████████| 43/43 [00:07<00:00,  6.12it/s]\n"
     ]
    },
    {
     "name": "stdout",
     "output_type": "stream",
     "text": [
      "                   all       1363      50860       0.58      0.551      0.586      0.121\n",
      "\n",
      "      Epoch    GPU_mem   box_loss   cls_loss   dfl_loss  Instances       Size\n"
     ]
    },
    {
     "name": "stderr",
     "output_type": "stream",
     "text": [
      "     58/200      1.62G     0.8877     0.8391     0.9715         80        512: 100%|██████████| 767/767 [01:06<00:00, 11.46it/s]\n",
      "                 Class     Images  Instances      Box(P          R      mAP50  mAP50-95): 100%|██████████| 43/43 [00:06<00:00,  6.15it/s]\n"
     ]
    },
    {
     "name": "stdout",
     "output_type": "stream",
     "text": [
      "                   all       1363      50860      0.587       0.55      0.589       0.12\n",
      "\n",
      "      Epoch    GPU_mem   box_loss   cls_loss   dfl_loss  Instances       Size\n"
     ]
    },
    {
     "name": "stderr",
     "output_type": "stream",
     "text": [
      "     59/200      1.54G     0.8824     0.8359     0.9707         68        512: 100%|██████████| 767/767 [01:06<00:00, 11.48it/s]\n",
      "                 Class     Images  Instances      Box(P          R      mAP50  mAP50-95): 100%|██████████| 43/43 [00:07<00:00,  5.81it/s]\n"
     ]
    },
    {
     "name": "stdout",
     "output_type": "stream",
     "text": [
      "                   all       1363      50860      0.587      0.553      0.592      0.118\n",
      "\n",
      "      Epoch    GPU_mem   box_loss   cls_loss   dfl_loss  Instances       Size\n"
     ]
    },
    {
     "name": "stderr",
     "output_type": "stream",
     "text": [
      "     60/200      1.61G     0.8829     0.8327     0.9701         98        512: 100%|██████████| 767/767 [01:06<00:00, 11.47it/s]\n",
      "                 Class     Images  Instances      Box(P          R      mAP50  mAP50-95): 100%|██████████| 43/43 [00:07<00:00,  5.73it/s]\n"
     ]
    },
    {
     "name": "stdout",
     "output_type": "stream",
     "text": [
      "                   all       1363      50860      0.588      0.559      0.593       0.12\n",
      "\n",
      "      Epoch    GPU_mem   box_loss   cls_loss   dfl_loss  Instances       Size\n"
     ]
    },
    {
     "name": "stderr",
     "output_type": "stream",
     "text": [
      "     61/200       1.6G     0.8765     0.8277     0.9696         75        512: 100%|██████████| 767/767 [01:06<00:00, 11.47it/s]\n",
      "                 Class     Images  Instances      Box(P          R      mAP50  mAP50-95): 100%|██████████| 43/43 [00:07<00:00,  5.69it/s]\n"
     ]
    },
    {
     "name": "stdout",
     "output_type": "stream",
     "text": [
      "                   all       1363      50860      0.582      0.559      0.588      0.115\n",
      "\n",
      "      Epoch    GPU_mem   box_loss   cls_loss   dfl_loss  Instances       Size\n"
     ]
    },
    {
     "name": "stderr",
     "output_type": "stream",
     "text": [
      "     62/200      1.62G     0.8769     0.8252     0.9693         81        512: 100%|██████████| 767/767 [01:07<00:00, 11.42it/s]\n",
      "                 Class     Images  Instances      Box(P          R      mAP50  mAP50-95): 100%|██████████| 43/43 [00:07<00:00,  5.78it/s]\n"
     ]
    },
    {
     "name": "stdout",
     "output_type": "stream",
     "text": [
      "                   all       1363      50860      0.587       0.56      0.594      0.117\n",
      "\n",
      "      Epoch    GPU_mem   box_loss   cls_loss   dfl_loss  Instances       Size\n"
     ]
    },
    {
     "name": "stderr",
     "output_type": "stream",
     "text": [
      "     63/200      1.61G     0.8749     0.8244     0.9683         87        512: 100%|██████████| 767/767 [01:06<00:00, 11.52it/s]\n",
      "                 Class     Images  Instances      Box(P          R      mAP50  mAP50-95): 100%|██████████| 43/43 [00:07<00:00,  5.75it/s]\n"
     ]
    },
    {
     "name": "stdout",
     "output_type": "stream",
     "text": [
      "                   all       1363      50860      0.591       0.57      0.603      0.121\n",
      "\n",
      "      Epoch    GPU_mem   box_loss   cls_loss   dfl_loss  Instances       Size\n"
     ]
    },
    {
     "name": "stderr",
     "output_type": "stream",
     "text": [
      "     64/200      1.62G     0.8759      0.823     0.9686         84        512: 100%|██████████| 767/767 [01:06<00:00, 11.46it/s]\n",
      "                 Class     Images  Instances      Box(P          R      mAP50  mAP50-95): 100%|██████████| 43/43 [00:07<00:00,  5.59it/s]\n"
     ]
    },
    {
     "name": "stdout",
     "output_type": "stream",
     "text": [
      "                   all       1363      50860      0.592      0.571      0.604      0.126\n",
      "\n",
      "      Epoch    GPU_mem   box_loss   cls_loss   dfl_loss  Instances       Size\n"
     ]
    },
    {
     "name": "stderr",
     "output_type": "stream",
     "text": [
      "     65/200       1.6G      0.872     0.8235     0.9674         83        512: 100%|██████████| 767/767 [01:08<00:00, 11.17it/s]\n",
      "                 Class     Images  Instances      Box(P          R      mAP50  mAP50-95): 100%|██████████| 43/43 [00:07<00:00,  5.56it/s]\n"
     ]
    },
    {
     "name": "stdout",
     "output_type": "stream",
     "text": [
      "                   all       1363      50860      0.588      0.572      0.604      0.125\n",
      "\n",
      "      Epoch    GPU_mem   box_loss   cls_loss   dfl_loss  Instances       Size\n"
     ]
    },
    {
     "name": "stderr",
     "output_type": "stream",
     "text": [
      "     66/200      1.61G     0.8697      0.819     0.9673         84        512: 100%|██████████| 767/767 [01:09<00:00, 11.10it/s]\n",
      "                 Class     Images  Instances      Box(P          R      mAP50  mAP50-95): 100%|██████████| 43/43 [00:07<00:00,  5.60it/s]\n"
     ]
    },
    {
     "name": "stdout",
     "output_type": "stream",
     "text": [
      "                   all       1363      50860      0.593      0.574       0.61      0.132\n",
      "\n",
      "      Epoch    GPU_mem   box_loss   cls_loss   dfl_loss  Instances       Size\n"
     ]
    },
    {
     "name": "stderr",
     "output_type": "stream",
     "text": [
      "     67/200      1.62G      0.867     0.8143     0.9662         78        512: 100%|██████████| 767/767 [01:09<00:00, 11.11it/s]\n",
      "                 Class     Images  Instances      Box(P          R      mAP50  mAP50-95): 100%|██████████| 43/43 [00:07<00:00,  5.60it/s]\n"
     ]
    },
    {
     "name": "stdout",
     "output_type": "stream",
     "text": [
      "                   all       1363      50860      0.591      0.574       0.61      0.132\n",
      "\n",
      "      Epoch    GPU_mem   box_loss   cls_loss   dfl_loss  Instances       Size\n"
     ]
    },
    {
     "name": "stderr",
     "output_type": "stream",
     "text": [
      "     68/200      1.61G     0.8667     0.8112     0.9659         73        512: 100%|██████████| 767/767 [01:09<00:00, 11.05it/s]\n",
      "                 Class     Images  Instances      Box(P          R      mAP50  mAP50-95): 100%|██████████| 43/43 [00:07<00:00,  5.62it/s]\n"
     ]
    },
    {
     "name": "stdout",
     "output_type": "stream",
     "text": [
      "                   all       1363      50860      0.592      0.571      0.609      0.136\n",
      "\n",
      "      Epoch    GPU_mem   box_loss   cls_loss   dfl_loss  Instances       Size\n"
     ]
    },
    {
     "name": "stderr",
     "output_type": "stream",
     "text": [
      "     69/200       1.6G     0.8633     0.8098     0.9649         93        512: 100%|██████████| 767/767 [01:09<00:00, 11.07it/s]\n",
      "                 Class     Images  Instances      Box(P          R      mAP50  mAP50-95): 100%|██████████| 43/43 [00:07<00:00,  5.58it/s]\n"
     ]
    },
    {
     "name": "stdout",
     "output_type": "stream",
     "text": [
      "                   all       1363      50860      0.598      0.573      0.612      0.138\n",
      "\n",
      "      Epoch    GPU_mem   box_loss   cls_loss   dfl_loss  Instances       Size\n"
     ]
    },
    {
     "name": "stderr",
     "output_type": "stream",
     "text": [
      "     70/200      1.61G     0.8615     0.8085     0.9643        102        512: 100%|██████████| 767/767 [01:09<00:00, 11.08it/s]\n",
      "                 Class     Images  Instances      Box(P          R      mAP50  mAP50-95): 100%|██████████| 43/43 [00:07<00:00,  5.60it/s]\n"
     ]
    },
    {
     "name": "stdout",
     "output_type": "stream",
     "text": [
      "                   all       1363      50860      0.595      0.575      0.612       0.14\n",
      "\n",
      "      Epoch    GPU_mem   box_loss   cls_loss   dfl_loss  Instances       Size\n"
     ]
    },
    {
     "name": "stderr",
     "output_type": "stream",
     "text": [
      "     71/200      1.61G      0.857     0.7995     0.9626         47        512: 100%|██████████| 767/767 [01:09<00:00, 11.11it/s]\n",
      "                 Class     Images  Instances      Box(P          R      mAP50  mAP50-95): 100%|██████████| 43/43 [00:07<00:00,  5.66it/s]\n"
     ]
    },
    {
     "name": "stdout",
     "output_type": "stream",
     "text": [
      "                   all       1363      50860      0.595      0.573       0.61      0.141\n",
      "\n",
      "      Epoch    GPU_mem   box_loss   cls_loss   dfl_loss  Instances       Size\n"
     ]
    },
    {
     "name": "stderr",
     "output_type": "stream",
     "text": [
      "     72/200      1.63G     0.8578     0.8021     0.9623         77        512: 100%|██████████| 767/767 [01:09<00:00, 11.09it/s]\n",
      "                 Class     Images  Instances      Box(P          R      mAP50  mAP50-95): 100%|██████████| 43/43 [00:07<00:00,  5.71it/s]\n"
     ]
    },
    {
     "name": "stdout",
     "output_type": "stream",
     "text": [
      "                   all       1363      50860      0.594      0.574      0.609       0.14\n",
      "\n",
      "      Epoch    GPU_mem   box_loss   cls_loss   dfl_loss  Instances       Size\n"
     ]
    },
    {
     "name": "stderr",
     "output_type": "stream",
     "text": [
      "     73/200       1.6G     0.8547     0.7983     0.9625         46        512: 100%|██████████| 767/767 [01:09<00:00, 11.02it/s]\n",
      "                 Class     Images  Instances      Box(P          R      mAP50  mAP50-95): 100%|██████████| 43/43 [00:07<00:00,  5.68it/s]\n"
     ]
    },
    {
     "name": "stdout",
     "output_type": "stream",
     "text": [
      "                   all       1363      50860      0.595      0.572      0.607      0.138\n",
      "\n",
      "      Epoch    GPU_mem   box_loss   cls_loss   dfl_loss  Instances       Size\n"
     ]
    },
    {
     "name": "stderr",
     "output_type": "stream",
     "text": [
      "     74/200      1.61G     0.8535     0.7962     0.9619        101        512: 100%|██████████| 767/767 [01:08<00:00, 11.13it/s]\n",
      "                 Class     Images  Instances      Box(P          R      mAP50  mAP50-95): 100%|██████████| 43/43 [00:07<00:00,  5.59it/s]\n"
     ]
    },
    {
     "name": "stdout",
     "output_type": "stream",
     "text": [
      "                   all       1363      50860      0.591      0.576      0.607      0.136\n",
      "\n",
      "      Epoch    GPU_mem   box_loss   cls_loss   dfl_loss  Instances       Size\n"
     ]
    },
    {
     "name": "stderr",
     "output_type": "stream",
     "text": [
      "     75/200      1.54G       0.85     0.7913      0.961         42        512: 100%|██████████| 767/767 [01:09<00:00, 11.08it/s]\n",
      "                 Class     Images  Instances      Box(P          R      mAP50  mAP50-95): 100%|██████████| 43/43 [00:07<00:00,  5.58it/s]\n"
     ]
    },
    {
     "name": "stdout",
     "output_type": "stream",
     "text": [
      "                   all       1363      50860      0.591      0.575      0.607      0.135\n",
      "\n",
      "      Epoch    GPU_mem   box_loss   cls_loss   dfl_loss  Instances       Size\n"
     ]
    },
    {
     "name": "stderr",
     "output_type": "stream",
     "text": [
      "     76/200      1.61G     0.8501     0.7915     0.9608         73        512: 100%|██████████| 767/767 [01:07<00:00, 11.33it/s]\n",
      "                 Class     Images  Instances      Box(P          R      mAP50  mAP50-95): 100%|██████████| 43/43 [00:07<00:00,  5.79it/s]\n"
     ]
    },
    {
     "name": "stdout",
     "output_type": "stream",
     "text": [
      "                   all       1363      50860       0.59      0.571      0.604      0.132\n",
      "\n",
      "      Epoch    GPU_mem   box_loss   cls_loss   dfl_loss  Instances       Size\n"
     ]
    },
    {
     "name": "stderr",
     "output_type": "stream",
     "text": [
      "     77/200       1.6G      0.848     0.7879     0.9594         94        512: 100%|██████████| 767/767 [01:07<00:00, 11.29it/s]\n",
      "                 Class     Images  Instances      Box(P          R      mAP50  mAP50-95): 100%|██████████| 43/43 [00:07<00:00,  5.80it/s]\n"
     ]
    },
    {
     "name": "stdout",
     "output_type": "stream",
     "text": [
      "                   all       1363      50860      0.589      0.569      0.603      0.131\n",
      "\n",
      "      Epoch    GPU_mem   box_loss   cls_loss   dfl_loss  Instances       Size\n"
     ]
    },
    {
     "name": "stderr",
     "output_type": "stream",
     "text": [
      "     78/200      1.62G     0.8449     0.7834       0.96         81        512: 100%|██████████| 767/767 [01:07<00:00, 11.32it/s]\n",
      "                 Class     Images  Instances      Box(P          R      mAP50  mAP50-95): 100%|██████████| 43/43 [00:07<00:00,  5.81it/s]\n"
     ]
    },
    {
     "name": "stdout",
     "output_type": "stream",
     "text": [
      "                   all       1363      50860       0.59      0.567      0.603      0.132\n",
      "\n",
      "      Epoch    GPU_mem   box_loss   cls_loss   dfl_loss  Instances       Size\n"
     ]
    },
    {
     "name": "stderr",
     "output_type": "stream",
     "text": [
      "     79/200      1.62G     0.8435     0.7866     0.9586         71        512: 100%|██████████| 767/767 [01:08<00:00, 11.27it/s]\n",
      "                 Class     Images  Instances      Box(P          R      mAP50  mAP50-95): 100%|██████████| 43/43 [00:07<00:00,  5.78it/s]\n"
     ]
    },
    {
     "name": "stdout",
     "output_type": "stream",
     "text": [
      "                   all       1363      50860      0.589      0.565        0.6      0.131\n",
      "\n",
      "      Epoch    GPU_mem   box_loss   cls_loss   dfl_loss  Instances       Size\n"
     ]
    },
    {
     "name": "stderr",
     "output_type": "stream",
     "text": [
      "     80/200      1.61G      0.842     0.7787     0.9588         91        512: 100%|██████████| 767/767 [01:08<00:00, 11.25it/s]\n",
      "                 Class     Images  Instances      Box(P          R      mAP50  mAP50-95): 100%|██████████| 43/43 [00:07<00:00,  5.89it/s]\n"
     ]
    },
    {
     "name": "stdout",
     "output_type": "stream",
     "text": [
      "                   all       1363      50860      0.592      0.561        0.6      0.131\n",
      "\n",
      "      Epoch    GPU_mem   box_loss   cls_loss   dfl_loss  Instances       Size\n"
     ]
    },
    {
     "name": "stderr",
     "output_type": "stream",
     "text": [
      "     81/200       1.6G     0.8373     0.7712     0.9565         46        512: 100%|██████████| 767/767 [01:07<00:00, 11.32it/s]\n",
      "                 Class     Images  Instances      Box(P          R      mAP50  mAP50-95): 100%|██████████| 43/43 [00:07<00:00,  5.79it/s]\n"
     ]
    },
    {
     "name": "stdout",
     "output_type": "stream",
     "text": [
      "                   all       1363      50860      0.592      0.557      0.598      0.131\n",
      "\n",
      "      Epoch    GPU_mem   box_loss   cls_loss   dfl_loss  Instances       Size\n"
     ]
    },
    {
     "name": "stderr",
     "output_type": "stream",
     "text": [
      "     82/200      1.62G     0.8343     0.7705     0.9558         49        512: 100%|██████████| 767/767 [01:07<00:00, 11.38it/s]\n",
      "                 Class     Images  Instances      Box(P          R      mAP50  mAP50-95): 100%|██████████| 43/43 [00:07<00:00,  5.88it/s]\n"
     ]
    },
    {
     "name": "stdout",
     "output_type": "stream",
     "text": [
      "                   all       1363      50860      0.594      0.555      0.598      0.131\n",
      "\n",
      "      Epoch    GPU_mem   box_loss   cls_loss   dfl_loss  Instances       Size\n"
     ]
    },
    {
     "name": "stderr",
     "output_type": "stream",
     "text": [
      "     83/200      1.62G     0.8324     0.7673     0.9564         81        512: 100%|██████████| 767/767 [01:07<00:00, 11.32it/s]\n",
      "                 Class     Images  Instances      Box(P          R      mAP50  mAP50-95): 100%|██████████| 43/43 [00:07<00:00,  5.86it/s]\n"
     ]
    },
    {
     "name": "stdout",
     "output_type": "stream",
     "text": [
      "                   all       1363      50860      0.592      0.554      0.597      0.131\n",
      "\n",
      "      Epoch    GPU_mem   box_loss   cls_loss   dfl_loss  Instances       Size\n"
     ]
    },
    {
     "name": "stderr",
     "output_type": "stream",
     "text": [
      "     84/200      1.54G     0.8279     0.7607     0.9545         94        512: 100%|██████████| 767/767 [01:07<00:00, 11.30it/s]\n",
      "                 Class     Images  Instances      Box(P          R      mAP50  mAP50-95): 100%|██████████| 43/43 [00:07<00:00,  5.93it/s]\n"
     ]
    },
    {
     "name": "stdout",
     "output_type": "stream",
     "text": [
      "                   all       1363      50860      0.592      0.554      0.597      0.132\n",
      "\n",
      "      Epoch    GPU_mem   box_loss   cls_loss   dfl_loss  Instances       Size\n"
     ]
    },
    {
     "name": "stderr",
     "output_type": "stream",
     "text": [
      "     85/200      1.61G     0.8253     0.7585     0.9545         83        512: 100%|██████████| 767/767 [01:07<00:00, 11.36it/s]\n",
      "                 Class     Images  Instances      Box(P          R      mAP50  mAP50-95): 100%|██████████| 43/43 [00:07<00:00,  5.83it/s]\n"
     ]
    },
    {
     "name": "stdout",
     "output_type": "stream",
     "text": [
      "                   all       1363      50860      0.591      0.557      0.597      0.133\n",
      "\n",
      "      Epoch    GPU_mem   box_loss   cls_loss   dfl_loss  Instances       Size\n"
     ]
    },
    {
     "name": "stderr",
     "output_type": "stream",
     "text": [
      "     86/200      1.62G     0.8223     0.7553     0.9545         88        512: 100%|██████████| 767/767 [01:07<00:00, 11.28it/s]\n",
      "                 Class     Images  Instances      Box(P          R      mAP50  mAP50-95): 100%|██████████| 43/43 [00:07<00:00,  5.95it/s]\n"
     ]
    },
    {
     "name": "stdout",
     "output_type": "stream",
     "text": [
      "                   all       1363      50860      0.592      0.557      0.598      0.133\n",
      "\n",
      "      Epoch    GPU_mem   box_loss   cls_loss   dfl_loss  Instances       Size\n"
     ]
    },
    {
     "name": "stderr",
     "output_type": "stream",
     "text": [
      "     87/200      1.61G     0.8207      0.752     0.9532         71        512: 100%|██████████| 767/767 [01:07<00:00, 11.37it/s]\n",
      "                 Class     Images  Instances      Box(P          R      mAP50  mAP50-95): 100%|██████████| 43/43 [00:07<00:00,  5.85it/s]\n"
     ]
    },
    {
     "name": "stdout",
     "output_type": "stream",
     "text": [
      "                   all       1363      50860      0.591      0.557      0.598      0.133\n",
      "\n",
      "      Epoch    GPU_mem   box_loss   cls_loss   dfl_loss  Instances       Size\n"
     ]
    },
    {
     "name": "stderr",
     "output_type": "stream",
     "text": [
      "     88/200      1.61G     0.8183     0.7472     0.9517         79        512: 100%|██████████| 767/767 [01:07<00:00, 11.36it/s]\n",
      "                 Class     Images  Instances      Box(P          R      mAP50  mAP50-95): 100%|██████████| 43/43 [00:07<00:00,  5.89it/s]\n"
     ]
    },
    {
     "name": "stdout",
     "output_type": "stream",
     "text": [
      "                   all       1363      50860      0.591      0.557      0.598      0.133\n",
      "\n",
      "      Epoch    GPU_mem   box_loss   cls_loss   dfl_loss  Instances       Size\n"
     ]
    },
    {
     "name": "stderr",
     "output_type": "stream",
     "text": [
      "     89/200       1.6G     0.8176     0.7432     0.9524         87        512: 100%|██████████| 767/767 [01:08<00:00, 11.27it/s]\n",
      "                 Class     Images  Instances      Box(P          R      mAP50  mAP50-95): 100%|██████████| 43/43 [00:07<00:00,  5.81it/s]\n"
     ]
    },
    {
     "name": "stdout",
     "output_type": "stream",
     "text": [
      "                   all       1363      50860      0.589      0.557      0.597      0.133\n",
      "\n",
      "      Epoch    GPU_mem   box_loss   cls_loss   dfl_loss  Instances       Size\n"
     ]
    },
    {
     "name": "stderr",
     "output_type": "stream",
     "text": [
      "     90/200      1.61G     0.8123     0.7396     0.9509         79        512: 100%|██████████| 767/767 [01:07<00:00, 11.35it/s]\n",
      "                 Class     Images  Instances      Box(P          R      mAP50  mAP50-95): 100%|██████████| 43/43 [00:07<00:00,  5.80it/s]\n"
     ]
    },
    {
     "name": "stdout",
     "output_type": "stream",
     "text": [
      "                   all       1363      50860      0.588      0.558      0.596      0.134\n",
      "\n",
      "      Epoch    GPU_mem   box_loss   cls_loss   dfl_loss  Instances       Size\n"
     ]
    },
    {
     "name": "stderr",
     "output_type": "stream",
     "text": [
      "     91/200      1.61G      0.813     0.7413     0.9506         85        512: 100%|██████████| 767/767 [01:07<00:00, 11.38it/s]\n",
      "                 Class     Images  Instances      Box(P          R      mAP50  mAP50-95): 100%|██████████| 43/43 [00:07<00:00,  5.85it/s]\n"
     ]
    },
    {
     "name": "stdout",
     "output_type": "stream",
     "text": [
      "                   all       1363      50860      0.587      0.561      0.598      0.134\n",
      "\n",
      "      Epoch    GPU_mem   box_loss   cls_loss   dfl_loss  Instances       Size\n"
     ]
    },
    {
     "name": "stderr",
     "output_type": "stream",
     "text": [
      "     92/200      1.61G     0.8133     0.7445     0.9513         91        512: 100%|██████████| 767/767 [01:07<00:00, 11.32it/s]\n",
      "                 Class     Images  Instances      Box(P          R      mAP50  mAP50-95): 100%|██████████| 43/43 [00:07<00:00,  5.89it/s]\n"
     ]
    },
    {
     "name": "stdout",
     "output_type": "stream",
     "text": [
      "                   all       1363      50860      0.589       0.56      0.598      0.135\n",
      "\n",
      "      Epoch    GPU_mem   box_loss   cls_loss   dfl_loss  Instances       Size\n"
     ]
    },
    {
     "name": "stderr",
     "output_type": "stream",
     "text": [
      "     93/200      1.61G     0.8112     0.7373       0.95         84        512: 100%|██████████| 767/767 [01:07<00:00, 11.35it/s]\n",
      "                 Class     Images  Instances      Box(P          R      mAP50  mAP50-95): 100%|██████████| 43/43 [00:07<00:00,  5.89it/s]\n"
     ]
    },
    {
     "name": "stdout",
     "output_type": "stream",
     "text": [
      "                   all       1363      50860      0.588      0.561      0.599      0.135\n",
      "\n",
      "      Epoch    GPU_mem   box_loss   cls_loss   dfl_loss  Instances       Size\n"
     ]
    },
    {
     "name": "stderr",
     "output_type": "stream",
     "text": [
      "     94/200      1.61G     0.8062     0.7342     0.9495         85        512: 100%|██████████| 767/767 [01:07<00:00, 11.35it/s]\n",
      "                 Class     Images  Instances      Box(P          R      mAP50  mAP50-95): 100%|██████████| 43/43 [00:07<00:00,  5.97it/s]\n"
     ]
    },
    {
     "name": "stdout",
     "output_type": "stream",
     "text": [
      "                   all       1363      50860      0.589      0.561      0.599      0.135\n",
      "\n",
      "      Epoch    GPU_mem   box_loss   cls_loss   dfl_loss  Instances       Size\n"
     ]
    },
    {
     "name": "stderr",
     "output_type": "stream",
     "text": [
      "     95/200      1.61G     0.8049     0.7313     0.9487         48        512: 100%|██████████| 767/767 [01:07<00:00, 11.36it/s]\n",
      "                 Class     Images  Instances      Box(P          R      mAP50  mAP50-95): 100%|██████████| 43/43 [00:07<00:00,  6.01it/s]\n"
     ]
    },
    {
     "name": "stdout",
     "output_type": "stream",
     "text": [
      "                   all       1363      50860      0.589      0.562        0.6      0.136\n",
      "\n",
      "      Epoch    GPU_mem   box_loss   cls_loss   dfl_loss  Instances       Size\n"
     ]
    },
    {
     "name": "stderr",
     "output_type": "stream",
     "text": [
      "     96/200      1.61G     0.8032     0.7278     0.9485         45        512: 100%|██████████| 767/767 [01:07<00:00, 11.33it/s]\n",
      "                 Class     Images  Instances      Box(P          R      mAP50  mAP50-95): 100%|██████████| 43/43 [00:07<00:00,  6.01it/s]\n"
     ]
    },
    {
     "name": "stdout",
     "output_type": "stream",
     "text": [
      "                   all       1363      50860      0.588      0.562      0.599      0.136\n",
      "\n",
      "      Epoch    GPU_mem   box_loss   cls_loss   dfl_loss  Instances       Size\n"
     ]
    },
    {
     "name": "stderr",
     "output_type": "stream",
     "text": [
      "     97/200      1.61G     0.8015     0.7257     0.9477         81        512: 100%|██████████| 767/767 [01:08<00:00, 11.12it/s]\n",
      "                 Class     Images  Instances      Box(P          R      mAP50  mAP50-95): 100%|██████████| 43/43 [00:07<00:00,  6.01it/s]\n"
     ]
    },
    {
     "name": "stdout",
     "output_type": "stream",
     "text": [
      "                   all       1363      50860      0.588      0.562        0.6      0.135\n",
      "\n",
      "      Epoch    GPU_mem   box_loss   cls_loss   dfl_loss  Instances       Size\n"
     ]
    },
    {
     "name": "stderr",
     "output_type": "stream",
     "text": [
      "     98/200      1.54G     0.7999     0.7234     0.9475         73        512: 100%|██████████| 767/767 [01:07<00:00, 11.34it/s]\n",
      "                 Class     Images  Instances      Box(P          R      mAP50  mAP50-95): 100%|██████████| 43/43 [00:07<00:00,  6.03it/s]\n"
     ]
    },
    {
     "name": "stdout",
     "output_type": "stream",
     "text": [
      "                   all       1363      50860      0.589       0.56        0.6      0.135\n",
      "\n",
      "      Epoch    GPU_mem   box_loss   cls_loss   dfl_loss  Instances       Size\n"
     ]
    },
    {
     "name": "stderr",
     "output_type": "stream",
     "text": [
      "     99/200      1.61G     0.7959     0.7193      0.946         92        512: 100%|██████████| 767/767 [01:07<00:00, 11.38it/s]\n",
      "                 Class     Images  Instances      Box(P          R      mAP50  mAP50-95): 100%|██████████| 43/43 [00:07<00:00,  5.97it/s]\n"
     ]
    },
    {
     "name": "stdout",
     "output_type": "stream",
     "text": [
      "                   all       1363      50860      0.588      0.563      0.601      0.136\n",
      "\n",
      "      Epoch    GPU_mem   box_loss   cls_loss   dfl_loss  Instances       Size\n"
     ]
    },
    {
     "name": "stderr",
     "output_type": "stream",
     "text": [
      "    100/200      1.61G      0.795     0.7168     0.9461         39        512: 100%|██████████| 767/767 [01:07<00:00, 11.34it/s]\n",
      "                 Class     Images  Instances      Box(P          R      mAP50  mAP50-95): 100%|██████████| 43/43 [00:07<00:00,  5.95it/s]\n"
     ]
    },
    {
     "name": "stdout",
     "output_type": "stream",
     "text": [
      "                   all       1363      50860      0.589      0.561      0.601      0.135\n",
      "\n",
      "      Epoch    GPU_mem   box_loss   cls_loss   dfl_loss  Instances       Size\n"
     ]
    },
    {
     "name": "stderr",
     "output_type": "stream",
     "text": [
      "    101/200       1.6G     0.7905     0.7103     0.9451         81        512: 100%|██████████| 767/767 [01:07<00:00, 11.33it/s]\n",
      "                 Class     Images  Instances      Box(P          R      mAP50  mAP50-95): 100%|██████████| 43/43 [00:07<00:00,  5.97it/s]\n"
     ]
    },
    {
     "name": "stdout",
     "output_type": "stream",
     "text": [
      "                   all       1363      50860      0.588      0.564      0.601      0.135\n",
      "\n",
      "      Epoch    GPU_mem   box_loss   cls_loss   dfl_loss  Instances       Size\n"
     ]
    },
    {
     "name": "stderr",
     "output_type": "stream",
     "text": [
      "    102/200      1.62G     0.7876      0.709     0.9444         74        512: 100%|██████████| 767/767 [01:07<00:00, 11.35it/s]\n",
      "                 Class     Images  Instances      Box(P          R      mAP50  mAP50-95): 100%|██████████| 43/43 [00:07<00:00,  5.98it/s]\n"
     ]
    },
    {
     "name": "stdout",
     "output_type": "stream",
     "text": [
      "                   all       1363      50860      0.589      0.563      0.602      0.135\n",
      "\n",
      "      Epoch    GPU_mem   box_loss   cls_loss   dfl_loss  Instances       Size\n"
     ]
    },
    {
     "name": "stderr",
     "output_type": "stream",
     "text": [
      "    103/200      1.61G     0.7856     0.7056     0.9431         79        512: 100%|██████████| 767/767 [01:07<00:00, 11.38it/s]\n",
      "                 Class     Images  Instances      Box(P          R      mAP50  mAP50-95): 100%|██████████| 43/43 [00:07<00:00,  5.99it/s]\n"
     ]
    },
    {
     "name": "stdout",
     "output_type": "stream",
     "text": [
      "                   all       1363      50860      0.588      0.565      0.602      0.135\n",
      "\n",
      "      Epoch    GPU_mem   box_loss   cls_loss   dfl_loss  Instances       Size\n"
     ]
    },
    {
     "name": "stderr",
     "output_type": "stream",
     "text": [
      "    104/200      1.62G     0.7848     0.7051     0.9442         90        512: 100%|██████████| 767/767 [01:07<00:00, 11.34it/s]\n",
      "                 Class     Images  Instances      Box(P          R      mAP50  mAP50-95): 100%|██████████| 43/43 [00:07<00:00,  6.00it/s]\n"
     ]
    },
    {
     "name": "stdout",
     "output_type": "stream",
     "text": [
      "                   all       1363      50860      0.587      0.563      0.602      0.134\n",
      "\n",
      "      Epoch    GPU_mem   box_loss   cls_loss   dfl_loss  Instances       Size\n"
     ]
    },
    {
     "name": "stderr",
     "output_type": "stream",
     "text": [
      "    105/200       1.6G     0.7851     0.7045     0.9443         92        512: 100%|██████████| 767/767 [01:07<00:00, 11.41it/s]\n",
      "                 Class     Images  Instances      Box(P          R      mAP50  mAP50-95): 100%|██████████| 43/43 [00:07<00:00,  5.99it/s]\n"
     ]
    },
    {
     "name": "stdout",
     "output_type": "stream",
     "text": [
      "                   all       1363      50860      0.586      0.563      0.601      0.134\n",
      "Stopping training early as no improvement observed in last 100 epochs. Best results observed at epoch 5, best model saved as best.pt.\n",
      "To update EarlyStopping(patience=100) pass a new patience value, i.e. `patience=300` or use `patience=0` to disable EarlyStopping.\n",
      "\n",
      "105 epochs completed in 2.213 hours.\n",
      "Optimizer stripped from runs\\detect\\cul_tld_512_yolov8n\\weights\\last.pt, 6.2MB\n",
      "Optimizer stripped from runs\\detect\\cul_tld_512_yolov8n\\weights\\best.pt, 6.2MB\n",
      "\n",
      "Validating runs\\detect\\cul_tld_512_yolov8n\\weights\\best.pt...\n",
      "Ultralytics YOLOv8.1.34 🚀 Python-3.11.8 torch-2.2.1 CUDA:0 (NVIDIA GeForce RTX 3080 Ti, 12287MiB)\n",
      "Model summary (fused): 168 layers, 3006428 parameters, 0 gradients, 8.1 GFLOPs\n"
     ]
    },
    {
     "name": "stderr",
     "output_type": "stream",
     "text": [
      "                 Class     Images  Instances      Box(P          R      mAP50  mAP50-95): 100%|██████████| 43/43 [00:20<00:00,  2.14it/s]\n"
     ]
    },
    {
     "name": "stdout",
     "output_type": "stream",
     "text": [
      "                   all       1363      50860      0.511      0.544      0.521      0.215\n",
      "                    LL       1363      13179      0.559      0.564      0.579      0.233\n",
      "                    LC       1363      17407      0.579      0.624      0.621      0.253\n",
      "                    RC       1363      14874      0.498       0.61      0.531      0.228\n",
      "                    RR       1363       5400      0.407       0.38      0.354      0.146\n",
      "Speed: 0.1ms preprocess, 1.1ms inference, 0.0ms loss, 1.8ms postprocess per image\n",
      "Results saved to \u001b[1mruns\\detect\\cul_tld_512_yolov8n\u001b[0m\n"
     ]
    },
    {
     "data": {
      "text/html": [
       "<style>\n",
       "    table.wandb td:nth-child(1) { padding: 0 10px; text-align: left ; width: auto;} td:nth-child(2) {text-align: left ; width: 100%}\n",
       "    .wandb-row { display: flex; flex-direction: row; flex-wrap: wrap; justify-content: flex-start; width: 100% }\n",
       "    .wandb-col { display: flex; flex-direction: column; flex-basis: 100%; flex: 1; padding: 10px; }\n",
       "    </style>\n",
       "<div class=\"wandb-row\"><div class=\"wandb-col\"><h3>Run history:</h3><br/><table class=\"wandb\"><tr><td>lr/pg0</td><td>▁████▇▇▇▇▇▇▇▆▆▆▆▆▆▆▆▅▅▅▅▅▅▅▄▄▄▄▄▄▄▃▃▃▃▃▃</td></tr><tr><td>lr/pg1</td><td>▁████▇▇▇▇▇▇▇▆▆▆▆▆▆▆▆▅▅▅▅▅▅▅▄▄▄▄▄▄▄▃▃▃▃▃▃</td></tr><tr><td>lr/pg2</td><td>▁████▇▇▇▇▇▇▇▆▆▆▆▆▆▆▆▅▅▅▅▅▅▅▄▄▄▄▄▄▄▃▃▃▃▃▃</td></tr><tr><td>metrics/mAP50(B)</td><td>▂▃▄▁▂▂▄▄▃▄▆▇█▆▆█▇▅▇▆▇▇▇▇▇████▇▇▇▇▇▇▇▇▇▇▄</td></tr><tr><td>metrics/mAP50-95(B)</td><td>▆▃▆▁▂▂▂▂▁▁▃▄▇▃▃▅▄▂▃▃▃▃▃▃▃▄▄▄▄▄▃▄▄▄▄▄▄▄▄█</td></tr><tr><td>metrics/precision(B)</td><td>▁▄▆▄▆▅▆▇▇▆▇██▇█▇▇▇▇▇▇▇█████████████████▃</td></tr><tr><td>metrics/recall(B)</td><td>▄▄▄▁▂▂▅▄▁▂▅▆▇▅▅█▆▄▅▅▆▅▅▆▆▆▆▆▆▆▅▅▅▅▆▆▆▆▆▅</td></tr><tr><td>model/GFLOPs</td><td>▁</td></tr><tr><td>model/parameters</td><td>▁</td></tr><tr><td>model/speed_PyTorch(ms)</td><td>▁</td></tr><tr><td>train/box_loss</td><td>█▅▄▃▃▃▃▃▃▂▂▂▂▂▂▂▂▂▂▂▂▂▂▂▂▂▂▁▁▁▁▁▁▁▁▁▁▁▁▁</td></tr><tr><td>train/cls_loss</td><td>█▄▃▃▃▃▃▃▂▂▂▂▂▂▂▂▂▂▂▂▂▂▂▂▂▂▂▁▁▁▁▁▁▁▁▁▁▁▁▁</td></tr><tr><td>train/dfl_loss</td><td>█▄▃▃▂▂▂▂▂▂▂▂▂▂▂▂▂▂▁▁▁▁▁▁▁▁▁▁▁▁▁▁▁▁▁▁▁▁▁▁</td></tr><tr><td>val/box_loss</td><td>▁▅▁▇▇▆▆▆██▅▅▂▆▆▄▅▇▆▇▆▆▇▇▆▆▆▆▆▆▆▆▆▆▆▆▆▆▆▆</td></tr><tr><td>val/cls_loss</td><td>▂▃▄▇▅▆▂▅█▆▄▅▁▄▅▁▄▆▅▆▆▇▆▅▄▄▄▄▄▅▆▆▆▆▆▅▅▅▅▅</td></tr><tr><td>val/dfl_loss</td><td>▁▄▂▆▆▆▆▆██▆▅▃▆▆▅▆▇▆▇▇▇▇▇▇▆▆▆▆▆▆▆▆▆▆▆▆▆▇▇</td></tr></table><br/></div><div class=\"wandb-col\"><h3>Run summary:</h3><br/><table class=\"wandb\"><tr><td>lr/pg0</td><td>0.0049</td></tr><tr><td>lr/pg1</td><td>0.0049</td></tr><tr><td>lr/pg2</td><td>0.0049</td></tr><tr><td>metrics/mAP50(B)</td><td>0.5215</td></tr><tr><td>metrics/mAP50-95(B)</td><td>0.21496</td></tr><tr><td>metrics/precision(B)</td><td>0.51076</td></tr><tr><td>metrics/recall(B)</td><td>0.54449</td></tr><tr><td>model/GFLOPs</td><td>8.197</td></tr><tr><td>model/parameters</td><td>3011628</td></tr><tr><td>model/speed_PyTorch(ms)</td><td>0.794</td></tr><tr><td>train/box_loss</td><td>0.78513</td></tr><tr><td>train/cls_loss</td><td>0.70449</td></tr><tr><td>train/dfl_loss</td><td>0.94428</td></tr><tr><td>val/box_loss</td><td>3.15929</td></tr><tr><td>val/cls_loss</td><td>1.49745</td></tr><tr><td>val/dfl_loss</td><td>2.71527</td></tr></table><br/></div></div>"
      ],
      "text/plain": [
       "<IPython.core.display.HTML object>"
      ]
     },
     "metadata": {},
     "output_type": "display_data"
    },
    {
     "data": {
      "text/html": [
       " View run <strong style=\"color:#cdcd00\">cul_tld_512_yolov8n</strong> at: <a href='https://wandb.ai/ateliuk/YOLOv8/runs/r1gkpqoe' target=\"_blank\">https://wandb.ai/ateliuk/YOLOv8/runs/r1gkpqoe</a><br/>Synced 5 W&B file(s), 21 media file(s), 5 artifact file(s) and 0 other file(s)"
      ],
      "text/plain": [
       "<IPython.core.display.HTML object>"
      ]
     },
     "metadata": {},
     "output_type": "display_data"
    },
    {
     "data": {
      "text/html": [
       "Find logs at: <code>.\\wandb\\run-20240404_131052-r1gkpqoe\\logs</code>"
      ],
      "text/plain": [
       "<IPython.core.display.HTML object>"
      ]
     },
     "metadata": {},
     "output_type": "display_data"
    }
   ],
   "source": [
    "# Training.\n",
    "results = model.train(\n",
    "    data='cul_tld.yaml',\n",
    "    imgsz=512,\n",
    "    epochs=200,\n",
    "    batch=16,\n",
    "    fliplr=0.0,\n",
    "    flipud=0.0,\n",
    "    mosaic=0.0, \n",
    "    mixup=0.0,\n",
    "    degrees=8.0,\n",
    "    scale=0.3,\n",
    "    perspective=0.0001,\n",
    "    name='cul_tld_512_yolov8n',\n",
    ")"
   ]
  },
  {
   "cell_type": "code",
   "execution_count": null,
   "id": "80653f74-8d60-4d95-8335-71232674a7b8",
   "metadata": {},
   "outputs": [],
   "source": []
  }
 ],
 "metadata": {
  "kernelspec": {
   "display_name": "Python 3 (ipykernel)",
   "language": "python",
   "name": "python3"
  },
  "language_info": {
   "codemirror_mode": {
    "name": "ipython",
    "version": 3
   },
   "file_extension": ".py",
   "mimetype": "text/x-python",
   "name": "python",
   "nbconvert_exporter": "python",
   "pygments_lexer": "ipython3",
   "version": "3.11.8"
  }
 },
 "nbformat": 4,
 "nbformat_minor": 5
}
