{
 "cells": [
  {
   "cell_type": "code",
   "execution_count": 1,
   "id": "1458dc85-c865-442b-8945-0c05940a739f",
   "metadata": {},
   "outputs": [],
   "source": [
    "import numpy as np\n",
    "import pandas as pd\n",
    "import matplotlib.pyplot as plt\n",
    "import json\n",
    "import glob\n",
    "import tqdm\n",
    "from PIL import Image\n",
    "\n",
    "import os"
   ]
  },
  {
   "cell_type": "code",
   "execution_count": 2,
   "id": "a626fce2-807d-4807-8d2a-0e99eed1bfce",
   "metadata": {},
   "outputs": [],
   "source": [
    "images_paths = glob.glob(\"data\\\\culane\\\\*\\\\*.jpg\")\n",
    "labels_paths = glob.glob(\"data\\\\culane\\\\*\\\\*.txt\")\n",
    "\n",
    "ild = {}\n",
    "\n",
    "for impath in images_paths:\n",
    "    name = impath.split(\"\\\\\")[-1].replace(\".jpg\", \"\")\n",
    "    fldr = impath.split(\"\\\\\")[-2]\n",
    "    lbpath = f\"data\\\\culane\\\\{fldr}\\\\{name}.lines.txt\"\n",
    "\n",
    "    dnam = name + \"_\" + fldr.replace(\".MP4\", \"\")\n",
    "    \n",
    "    if lbpath in labels_paths:\n",
    "        ild[dnam] = (impath, lbpath)"
   ]
  },
  {
   "cell_type": "code",
   "execution_count": 3,
   "id": "cb6a115d-a471-4df4-ba40-86b44196986d",
   "metadata": {},
   "outputs": [],
   "source": [
    "VAL_FRAC = 0.1\n",
    "TRN_FRAC = 1 - VAL_FRAC\n",
    "\n",
    "BBOX_H = 100\n",
    "BBOX_W = 150\n",
    "\n",
    "SKIP = 2\n",
    "\n",
    "num_trn = int(len(ild) * TRN_FRAC)\n",
    "num_val = int(len(ild) * VAL_FRAC)"
   ]
  },
  {
   "cell_type": "code",
   "execution_count": 4,
   "id": "c58ab746-838a-4052-86ca-ba1617eff7bf",
   "metadata": {},
   "outputs": [
    {
     "name": "stdout",
     "output_type": "stream",
     "text": [
      "Number of train images: 12258\n",
      "Number of val images: 1363\n"
     ]
    }
   ],
   "source": [
    "names = np.array(list(ild.keys()))\n",
    "np.random.shuffle(names)\n",
    "\n",
    "names_trn = names[:num_trn]\n",
    "names_val = names[num_trn:]\n",
    "\n",
    "print(f\"Number of train images: {len(names_trn)}\")\n",
    "print(f\"Number of val images: {len(names_val)}\")"
   ]
  },
  {
   "cell_type": "code",
   "execution_count": 5,
   "id": "34c3f632-4685-4dd8-8fa2-99556e231767",
   "metadata": {},
   "outputs": [],
   "source": [
    "dataset_train_path = \"datasets/cul/train\"\n",
    "dataset_val_path = \"datasets/cul/val\""
   ]
  },
  {
   "cell_type": "code",
   "execution_count": 6,
   "id": "d8957abb-2f62-4ec5-ab9d-e4bee3ccf9b8",
   "metadata": {},
   "outputs": [],
   "source": [
    "yaml_text = \"\"\"\n",
    "path: cul/\n",
    "train: 'train/images'\n",
    "val: 'val/images'\n",
    " \n",
    "# class names\n",
    "names: \n",
    "  0: LL\n",
    "  1: LC\n",
    "  2: RC\n",
    "  3: RR\n",
    "\"\"\".strip()\n",
    "\n",
    "with open(\"cul_tld.yaml\", \"w\") as f:\n",
    "    f.write(yaml_text)"
   ]
  },
  {
   "cell_type": "code",
   "execution_count": 7,
   "id": "4cb3f111-0571-40a1-90cf-48cb8caf847d",
   "metadata": {},
   "outputs": [],
   "source": [
    "def get_label_from_txt(lbpath, im_w, im_h, bb_w=20, bb_h=20, skip=2):\n",
    "    with open(lbpath, \"r\") as f:\n",
    "        data = [[float(j) for j in i.strip().split()] for i in f.read().split(\"\\n\")]\n",
    "    \n",
    "    label = \"\"\n",
    "    for i in range(len(data)):\n",
    "        for j in range(2, len(data[i]) - 3, 2*skip):\n",
    "            x = round(np.clip(float(data[i][j]) / im_w, 0, 1), 4)\n",
    "            y = round(np.clip(float(data[i][j + 1]) / im_h, 0, 1), 4)\n",
    "            w = round(np.clip(bb_w / im_w, 0, 1), 4)\n",
    "            h = round(np.clip(bb_h / im_h, 0, 1), 4)\n",
    "\n",
    "            w_offset_l = np.clip(0 - (x - w / 2), 0, 1) \n",
    "            w_offset_r = np.clip((x + w / 2) - 1, 0, 1) \n",
    "            h_offset_d = np.clip(0 - (y - h / 2), 0, 1) \n",
    "            h_offset_u = np.clip((y + h / 2) - 1, 0, 1) \n",
    "\n",
    "            x = x + w_offset_l - w_offset_r\n",
    "            y = y + h_offset_d - h_offset_u\n",
    "            \n",
    "            label += f\"{i} {x} {y} {w} {h}\\n\"\n",
    "            \n",
    "    return label"
   ]
  },
  {
   "cell_type": "code",
   "execution_count": 8,
   "id": "defd974a-bd8f-44a2-8197-deea8fa27caf",
   "metadata": {},
   "outputs": [
    {
     "name": "stderr",
     "output_type": "stream",
     "text": [
      "100%|████████████████████████████████████████████████████████████████████████████████████████████████████████████████████████████████████████████████████████████████████████████████████████████████████████| 13621/13621 [06:04<00:00, 37.39it/s]\n"
     ]
    }
   ],
   "source": [
    "from concurrent.futures import ThreadPoolExecutor, as_completed\n",
    "\n",
    "\n",
    "# Define the task to be executed in parallel\n",
    "def process_image_and_label(name):\n",
    "    dataset_path_prefix = dataset_train_path if name in names_trn else dataset_val_path\n",
    "    dataset_image_path = f\"{dataset_path_prefix}/images/{name}.png\"\n",
    "    dataset_label_path = f\"{dataset_path_prefix}/labels/{name}.txt\"\n",
    "\n",
    "    impath, lbpath = ild[name]\n",
    "\n",
    "    # Load and process the image\n",
    "    image = Image.open(impath)\n",
    "    im_w, im_h = image.size\n",
    "    image.save(dataset_image_path)\n",
    "    image.close()\n",
    "\n",
    "    # Process the label\n",
    "    label = get_label_from_txt(lbpath, im_w, im_h, bb_w=BBOX_W, bb_h=BBOX_H, skip=SKIP)\n",
    "\n",
    "    # Save the label to a file\n",
    "    with open(dataset_label_path, \"w\") as f:\n",
    "        f.write(label)\n",
    "\n",
    "\n",
    "# Use ThreadPoolExecutor to process images and labels in parallel\n",
    "with ThreadPoolExecutor(max_workers=100) as executor:\n",
    "    # Submit tasks to the executor\n",
    "    futures = [executor.submit(process_image_and_label, name) for name in list(ild.keys())]\n",
    "\n",
    "    # Use tqdm to show progress\n",
    "    for future in tqdm.tqdm(as_completed(futures), total=len(futures), position=0):\n",
    "        # Results are not needed since we handle everything within the tasks,\n",
    "        # but exceptions (if any) will be raised here when accessing the result.\n",
    "        # This is where you could handle exceptions if necessary.\n",
    "        future.result()"
   ]
  },
  {
   "cell_type": "code",
   "execution_count": null,
   "id": "bdad7506-5c4c-40e9-bf97-06430536975b",
   "metadata": {},
   "outputs": [],
   "source": []
  }
 ],
 "metadata": {
  "kernelspec": {
   "display_name": "Python 3 (ipykernel)",
   "language": "python",
   "name": "python3"
  },
  "language_info": {
   "codemirror_mode": {
    "name": "ipython",
    "version": 3
   },
   "file_extension": ".py",
   "mimetype": "text/x-python",
   "name": "python",
   "nbconvert_exporter": "python",
   "pygments_lexer": "ipython3",
   "version": "3.11.8"
  }
 },
 "nbformat": 4,
 "nbformat_minor": 5
}
