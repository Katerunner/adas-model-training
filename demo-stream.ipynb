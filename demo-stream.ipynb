{
 "cells": [
  {
   "cell_type": "code",
   "execution_count": 1,
   "id": "3a27371b-2318-4658-8867-fef5ee84a1e2",
   "metadata": {},
   "outputs": [],
   "source": [
    "import cv2\n",
    "import threading\n",
    "import time\n",
    "from ultralytics import YOLO"
   ]
  },
  {
   "cell_type": "code",
   "execution_count": 2,
   "id": "5f077179-6bfb-4bb6-8ef3-9d6673d553d3",
   "metadata": {},
   "outputs": [],
   "source": [
    "# Initialize global variables\n",
    "current_frame = None\n",
    "processed_frame = None"
   ]
  },
  {
   "cell_type": "code",
   "execution_count": 3,
   "id": "0c659314-ca80-4335-9fd1-49a195bd484e",
   "metadata": {},
   "outputs": [],
   "source": [
    "# Load the YOLO model\n",
    "model = YOLO('trained_models/yolov8s.pt')"
   ]
  },
  {
   "cell_type": "code",
   "execution_count": 4,
   "id": "1f22d3ca-f528-4185-889f-7b0c93bc18c1",
   "metadata": {},
   "outputs": [],
   "source": [
    "def process_frame():\n",
    "    global current_frame, processed_frame\n",
    "    while True:\n",
    "        if current_frame is not None:\n",
    "            try:\n",
    "                # Process the current frame with YOLO\n",
    "                results = model(current_frame, verbose=False)\n",
    "                # Extract the annotated frame\n",
    "                annotated_frame = results[0].plot()\n",
    "                processed_frame = annotated_frame\n",
    "    \n",
    "            except Exception as e:\n",
    "                print(f\"Error processing frame: {e}\")\n",
    "            finally:\n",
    "                time.sleep(1)  # Simulate a delay"
   ]
  },
  {
   "cell_type": "code",
   "execution_count": 5,
   "id": "c031102a-0865-4831-89be-e194ffa96804",
   "metadata": {},
   "outputs": [],
   "source": [
    "def display_video():\n",
    "    global current_frame, processed_frame\n",
    "    cap = cv2.VideoCapture('videos/video_1.mp4')\n",
    "    fps = 30\n",
    "\n",
    "    try:\n",
    "        # Create a thread for processing frames\n",
    "        threading.Thread(target=process_frame, daemon=True).start()\n",
    "\n",
    "        while cap.isOpened():\n",
    "            ret, frame = cap.read()\n",
    "            if not ret:\n",
    "                break\n",
    "\n",
    "            current_frame = frame\n",
    "            \n",
    "            if processed_frame is not None:\n",
    "                # Overlay the processed (annotated) frame onto the original frame\n",
    "                frame = cv2.addWeighted(frame, 0.5, processed_frame, 0.5, 0)\n",
    "\n",
    "            cv2.imshow('Video', frame)\n",
    "            \n",
    "            if cv2.waitKey(fps) & 0xFF == ord('q'):\n",
    "                break\n",
    "    finally:\n",
    "        cap.release()\n",
    "        cv2.destroyAllWindows()"
   ]
  },
  {
   "cell_type": "code",
   "execution_count": 6,
   "id": "75ba13cc-2d60-4649-b4c0-8f4827528a5b",
   "metadata": {},
   "outputs": [],
   "source": [
    "display_video()"
   ]
  },
  {
   "cell_type": "code",
   "execution_count": null,
   "id": "267520d9-e780-440c-9e82-aa64b6e6af04",
   "metadata": {},
   "outputs": [],
   "source": []
  },
  {
   "cell_type": "code",
   "execution_count": null,
   "id": "ca100ce5-dca4-42ec-8ef3-a2006358695b",
   "metadata": {},
   "outputs": [],
   "source": []
  }
 ],
 "metadata": {
  "kernelspec": {
   "display_name": "Python 3 (ipykernel)",
   "language": "python",
   "name": "python3"
  },
  "language_info": {
   "codemirror_mode": {
    "name": "ipython",
    "version": 3
   },
   "file_extension": ".py",
   "mimetype": "text/x-python",
   "name": "python",
   "nbconvert_exporter": "python",
   "pygments_lexer": "ipython3",
   "version": "3.11.8"
  }
 },
 "nbformat": 4,
 "nbformat_minor": 5
}
